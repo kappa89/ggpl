{
 "cells": [
  {
   "cell_type": "code",
   "execution_count": 3,
   "metadata": {
    "collapsed": false
   },
   "outputs": [],
   "source": [
    "#!/usr/bin/env /Library/Frameworks/Python.framework/Versions/2.6/bin/python\n",
    "#\n",
    "# Manfredi Alessandro - 256479\n",
    "# a.n0on3@gmail.com\n",
    "#\n",
    "from pyplasm import *\n",
    "#\n",
    "# This file defines a set of custom colors\n",
    "#\n",
    "\n",
    "def intRGBColor(values):\n",
    "        return Color4f([ values[0]/255.0,\n",
    "                         values[1]/255.0,\n",
    "                         values[2]/255.0,\n",
    "                         1.0])\n",
    "\n",
    "PURPLE = Color4f([0.41, 0.112, 0.77, 1.0])\n",
    "GRAY = Color4f([0.7, 0.7, 0.7, 1.0])\n",
    "RED= Color4f([0.6, 0, 0, 1.0])\n",
    "WHITE= Color4f([1.0, 1.0, 1.0, 1.0])\n",
    "\n",
    "BLUE_WIND = Color4f([0.275, 0.509, 0.706, 1.0])\n",
    "NEW_YELLOW = intRGBColor([ 255, 250, 193 ])\n",
    "DARK_GREEN = intRGBColor([ 80, 113, 103 ])\n",
    "LIGHT_GREEN = intRGBColor([ 116, 164, 150 ])\n",
    "BRICK = intRGBColor([211,153,127])\n",
    "SIDEWALKS_GRAY = intRGBColor([90,89,89])\n",
    "\n",
    "BID_GREEN = Color4f([0.0, 0.4, 0.3, 1.0])\n",
    "DIRTY = Color4f([1, 0.9, 0.9, 1.0])\n",
    "SILVER = Color4f([9.5, 9.5, 9.5, 1.0])\n",
    "BLACK = Color4f([0.2, 0.2, 0.2, 1.0])\n",
    "BROWN = Color4f([0.5, 0.2, 0, 1.0])\n",
    "LIGHT_BROWN = Color4f([0.6, 0.5, 0, 1.0])\n",
    "GROUND = Color4f([0.5, 0.05, 0.03, 1.0])\n",
    "BLUE = Color4f([0, 0, 0.45, 1.0])\n",
    "ORANGE = Color4f([1.0,0.5,0.16,1.0])\n",
    "\n",
    "if __name__ == \"__main__\":\n",
    "    VIEW(COLOR(LIGHT_BROWN)(CUBOID([1,1,1])))"
   ]
  },
  {
   "cell_type": "code",
   "execution_count": null,
   "metadata": {
    "collapsed": true
   },
   "outputs": [],
   "source": []
  }
 ],
 "metadata": {
  "kernelspec": {
   "display_name": "Python 2",
   "language": "python",
   "name": "python2"
  },
  "language_info": {
   "codemirror_mode": {
    "name": "ipython",
    "version": 2
   },
   "file_extension": ".py",
   "mimetype": "text/x-python",
   "name": "python",
   "nbconvert_exporter": "python",
   "pygments_lexer": "ipython2",
   "version": "2.7.12"
  }
 },
 "nbformat": 4,
 "nbformat_minor": 1
}
