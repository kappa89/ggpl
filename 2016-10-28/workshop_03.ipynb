{
 "cells": [
  {
   "cell_type": "markdown",
   "metadata": {
    "collapsed": true
   },
   "source": [
    "# HavenStair\n",
    "\n",
    "![scala con piano intermedio](https://www.keuka-studios.com/wp-content/uploads/2015/02/L-shaped-stair.jpg)"
   ]
  },
  {
   "cell_type": "code",
   "execution_count": 1,
   "metadata": {
    "collapsed": false
   },
   "outputs": [
    {
     "name": "stdout",
     "output_type": "stream",
     "text": [
      "Evaluating fenvs.py..\n",
      "...fenvs.py imported in 0.00834099153671 seconds\n"
     ]
    }
   ],
   "source": [
    "from pyplasm import *"
   ]
  },
  {
   "cell_type": "code",
   "execution_count": 2,
   "metadata": {
    "collapsed": false
   },
   "outputs": [
    {
     "name": "stdout",
     "output_type": "stream",
     "text": [
      "3.33333333333\n"
     ]
    }
   ],
   "source": [
    "\"\"\"altezza piano in metri\"\"\"\n",
    "x = 3.0\n",
    "y = 0.4\n",
    "z = heightPlatform = 10.0\n",
    "tg = z/x\n",
    "magicNumber = .63 #(2*riser+tread)\n",
    "widthStep = .6\n",
    "maxTg = 0.55\n",
    "print tg"
   ]
  },
  {
   "cell_type": "code",
   "execution_count": 3,
   "metadata": {
    "collapsed": false
   },
   "outputs": [],
   "source": [
    "\"\"\"function to calculate number of platform\"\"\"\n",
    "def calculatenumPlatform(x, z):\n",
    "    numPlatform = 1\n",
    "    while(tg > maxTg):\n",
    "        numPlatform += 1\n",
    "        heightPlatform = z/numPlatform\n",
    "        tg = heightPlatform/x\n",
    "    return numPlatform"
   ]
  },
  {
   "cell_type": "code",
   "execution_count": 4,
   "metadata": {
    "collapsed": false
   },
   "outputs": [],
   "source": [
    "\"\"\"function to calculate legal tread\"\"\"\n",
    "def calculateTread():\n",
    "    return magicNumber/((2*tg)+1)"
   ]
  },
  {
   "cell_type": "code",
   "execution_count": 5,
   "metadata": {
    "collapsed": true
   },
   "outputs": [],
   "source": [
    "\"\"\"function to calculate number of step\"\"\"\n",
    "def calculatenumberStep():\n",
    "    return int(heightPlatform/riser)"
   ]
  },
  {
   "cell_type": "code",
   "execution_count": 6,
   "metadata": {
    "collapsed": true
   },
   "outputs": [],
   "source": [
    "\"\"\"function to calculate legal tread\"\"\"\n",
    "def calculateRiser():\n",
    "    return (magicNumber-tread)/2.0"
   ]
  },
  {
   "cell_type": "code",
   "execution_count": 7,
   "metadata": {
    "collapsed": false,
    "scrolled": true
   },
   "outputs": [],
   "source": [
    "\"\"\"control function\"\"\"\n",
    "def printAllParameter():\n",
    "    print \"pedata: \"+str(tread)\n",
    "    print \"alzata: \"+str(riser)\n",
    "    print \"numero di scalini: \"+str(numStep)\n",
    "    print \"Tangente: \"+str(tg)\n",
    "    print \"maxTangente: \"+str(maxTg)"
   ]
  },
  {
   "cell_type": "code",
   "execution_count": 10,
   "metadata": {
    "collapsed": false
   },
   "outputs": [],
   "source": [
    "tread = calculateTread\n",
    "riser = calculateRiser\n",
    "numPlatform = calculatenumPlatform\n",
    "numStep = calculatenumberStep\n",
    "def ggpl_havenStair(x,y,z, widthStep):\n",
    "    stair = []\n",
    "    step = CUBOID([tread, widthStep,riser])\n",
    "    for p in range(numPlatform):\n",
    "        for i in range(numStep):\n",
    "            stair.append(step)\n",
    "            stair.append(T([1,3])([tread, riser]))\n",
    "        platForm = CUBOID([widthStep+tread, widthStep,riser])\n",
    "        stair.append(platForm)\n",
    "        stair.append(T([1,2])([widthStep, widthStep]))\n",
    "        stair.append(T([1,3])([tread, riser]))\n",
    "        stair.append(R([1,2])(PI/2))\n",
    "    return STRUCT(stair)"
   ]
  },
  {
   "cell_type": "code",
   "execution_count": 13,
   "metadata": {
    "collapsed": false
   },
   "outputs": [
    {
     "ename": "NotImplementedError",
     "evalue": "Wrong number or type of arguments for overloaded function 'new_Vecf'.\n  Possible C/C++ prototypes are:\n    Vecf::Vecf()\n    Vecf::Vecf(Vecf const &)\n    Vecf::Vecf(std::vector< float,std::allocator< float > > const &)\n    Vecf::Vecf(int)\n    Vecf::Vecf(int,float,float const *)\n    Vecf::Vecf(int,float const *)\n    Vecf::Vecf(int,double const *)\n    Vecf::Vecf(float,float,float)\n    Vecf::Vecf(float,float,float,float)\n    Vecf::Vecf(float,float,float,float,float)\n    Vecf::Vecf(float,float,float,float,float,float)\n    Vecf::Vecf(float,float,float,float,float,float,float)\n",
     "output_type": "error",
     "traceback": [
      "\u001b[0;31m---------------------------------------------------------------------------\u001b[0m",
      "\u001b[0;31mNotImplementedError\u001b[0m                       Traceback (most recent call last)",
      "\u001b[0;32m<ipython-input-13-1a9738f2cd55>\u001b[0m in \u001b[0;36m<module>\u001b[0;34m()\u001b[0m\n\u001b[1;32m      1\u001b[0m \u001b[0mprintAllParameter\u001b[0m\u001b[1;33m\u001b[0m\u001b[0m\n\u001b[0;32m----> 2\u001b[0;31m \u001b[0mSTAIR\u001b[0m \u001b[1;33m=\u001b[0m \u001b[0mggpl_havenStair\u001b[0m\u001b[1;33m(\u001b[0m\u001b[1;36m5.0\u001b[0m\u001b[1;33m,\u001b[0m \u001b[1;36m5.0\u001b[0m\u001b[1;33m,\u001b[0m \u001b[1;36m10.0\u001b[0m\u001b[1;33m,\u001b[0m \u001b[0mwidthStep\u001b[0m\u001b[1;33m)\u001b[0m\u001b[1;33m\u001b[0m\u001b[0m\n\u001b[0m\u001b[1;32m      3\u001b[0m \u001b[0mVIEW\u001b[0m\u001b[1;33m(\u001b[0m\u001b[0mSTAIR\u001b[0m\u001b[1;33m)\u001b[0m\u001b[1;33m\u001b[0m\u001b[0m\n",
      "\u001b[0;32m<ipython-input-10-a8e518255e3b>\u001b[0m in \u001b[0;36mggpl_havenStair\u001b[0;34m(x, y, z, widthStep)\u001b[0m\n\u001b[1;32m      5\u001b[0m \u001b[1;32mdef\u001b[0m \u001b[0mggpl_havenStair\u001b[0m\u001b[1;33m(\u001b[0m\u001b[0mx\u001b[0m\u001b[1;33m,\u001b[0m\u001b[0my\u001b[0m\u001b[1;33m,\u001b[0m\u001b[0mz\u001b[0m\u001b[1;33m,\u001b[0m \u001b[0mwidthStep\u001b[0m\u001b[1;33m)\u001b[0m\u001b[1;33m:\u001b[0m\u001b[1;33m\u001b[0m\u001b[0m\n\u001b[1;32m      6\u001b[0m     \u001b[0mstair\u001b[0m \u001b[1;33m=\u001b[0m \u001b[1;33m[\u001b[0m\u001b[1;33m]\u001b[0m\u001b[1;33m\u001b[0m\u001b[0m\n\u001b[0;32m----> 7\u001b[0;31m     \u001b[0mstep\u001b[0m \u001b[1;33m=\u001b[0m \u001b[0mCUBOID\u001b[0m\u001b[1;33m(\u001b[0m\u001b[1;33m[\u001b[0m\u001b[0mtread\u001b[0m\u001b[1;33m,\u001b[0m \u001b[0mwidthStep\u001b[0m\u001b[1;33m,\u001b[0m\u001b[0mriser\u001b[0m\u001b[1;33m]\u001b[0m\u001b[1;33m)\u001b[0m\u001b[1;33m\u001b[0m\u001b[0m\n\u001b[0m\u001b[1;32m      8\u001b[0m     \u001b[1;32mfor\u001b[0m \u001b[0mp\u001b[0m \u001b[1;32min\u001b[0m \u001b[0mrange\u001b[0m\u001b[1;33m(\u001b[0m\u001b[0mnumPlatform\u001b[0m\u001b[1;33m)\u001b[0m\u001b[1;33m:\u001b[0m\u001b[1;33m\u001b[0m\u001b[0m\n\u001b[1;32m      9\u001b[0m         \u001b[1;32mfor\u001b[0m \u001b[0mi\u001b[0m \u001b[1;32min\u001b[0m \u001b[0mrange\u001b[0m\u001b[1;33m(\u001b[0m\u001b[0mnumStep\u001b[0m\u001b[1;33m)\u001b[0m\u001b[1;33m:\u001b[0m\u001b[1;33m\u001b[0m\u001b[0m\n",
      "\u001b[0;32mc:\\programmi\\python27\\lib\\site-packages\\pyplasm\\fenvs.py\u001b[0m in \u001b[0;36mCUBOID\u001b[0;34m(sizes_list)\u001b[0m\n\u001b[1;32m    935\u001b[0m \u001b[1;32mdef\u001b[0m \u001b[0mCUBOID\u001b[0m \u001b[1;33m(\u001b[0m\u001b[0msizes_list\u001b[0m\u001b[1;33m)\u001b[0m\u001b[1;33m:\u001b[0m\u001b[1;33m\u001b[0m\u001b[0m\n\u001b[1;32m    936\u001b[0m         \u001b[0mdim\u001b[0m \u001b[1;33m=\u001b[0m \u001b[0mlen\u001b[0m\u001b[1;33m(\u001b[0m\u001b[0msizes_list\u001b[0m\u001b[1;33m)\u001b[0m\u001b[1;33m\u001b[0m\u001b[0m\n\u001b[0;32m--> 937\u001b[0;31m         \u001b[0mpol\u001b[0m \u001b[1;33m=\u001b[0m \u001b[0mPlasm\u001b[0m\u001b[1;33m.\u001b[0m\u001b[0mscale\u001b[0m\u001b[1;33m(\u001b[0m\u001b[0mPlasm\u001b[0m\u001b[1;33m.\u001b[0m\u001b[0mcube\u001b[0m\u001b[1;33m(\u001b[0m\u001b[0mdim\u001b[0m\u001b[1;33m)\u001b[0m\u001b[1;33m,\u001b[0m \u001b[0mVecf\u001b[0m\u001b[1;33m(\u001b[0m\u001b[1;33m[\u001b[0m\u001b[1;36m0.0\u001b[0m\u001b[1;33m]\u001b[0m \u001b[1;33m+\u001b[0m \u001b[0msizes_list\u001b[0m\u001b[1;33m)\u001b[0m\u001b[1;33m)\u001b[0m\u001b[1;33m\u001b[0m\u001b[0m\n\u001b[0m\u001b[1;32m    938\u001b[0m         \u001b[1;32mreturn\u001b[0m \u001b[0mpol\u001b[0m\u001b[1;33m\u001b[0m\u001b[0m\n\u001b[1;32m    939\u001b[0m \u001b[1;33m\u001b[0m\u001b[0m\n",
      "\u001b[0;32mc:\\programmi\\python27\\lib\\site-packages\\pyplasm\\xgepy.py\u001b[0m in \u001b[0;36m__init__\u001b[0;34m(self, *args)\u001b[0m\n\u001b[1;32m   1112\u001b[0m     \u001b[1;32mif\u001b[0m \u001b[0m_newclass\u001b[0m\u001b[1;33m:\u001b[0m\u001b[0mdim\u001b[0m \u001b[1;33m=\u001b[0m \u001b[0m_swig_property\u001b[0m\u001b[1;33m(\u001b[0m\u001b[0m_xgepy\u001b[0m\u001b[1;33m.\u001b[0m\u001b[0mVecf_dim_get\u001b[0m\u001b[1;33m,\u001b[0m \u001b[0m_xgepy\u001b[0m\u001b[1;33m.\u001b[0m\u001b[0mVecf_dim_set\u001b[0m\u001b[1;33m)\u001b[0m\u001b[1;33m\u001b[0m\u001b[0m\n\u001b[1;32m   1113\u001b[0m     \u001b[1;32mdef\u001b[0m \u001b[0m__init__\u001b[0m\u001b[1;33m(\u001b[0m\u001b[0mself\u001b[0m\u001b[1;33m,\u001b[0m \u001b[1;33m*\u001b[0m\u001b[0margs\u001b[0m\u001b[1;33m)\u001b[0m\u001b[1;33m:\u001b[0m\u001b[1;33m\u001b[0m\u001b[0m\n\u001b[0;32m-> 1114\u001b[0;31m         \u001b[0mthis\u001b[0m \u001b[1;33m=\u001b[0m \u001b[0m_xgepy\u001b[0m\u001b[1;33m.\u001b[0m\u001b[0mnew_Vecf\u001b[0m\u001b[1;33m(\u001b[0m\u001b[1;33m*\u001b[0m\u001b[0margs\u001b[0m\u001b[1;33m)\u001b[0m\u001b[1;33m\u001b[0m\u001b[0m\n\u001b[0m\u001b[1;32m   1115\u001b[0m         \u001b[1;32mtry\u001b[0m\u001b[1;33m:\u001b[0m \u001b[0mself\u001b[0m\u001b[1;33m.\u001b[0m\u001b[0mthis\u001b[0m\u001b[1;33m.\u001b[0m\u001b[0mappend\u001b[0m\u001b[1;33m(\u001b[0m\u001b[0mthis\u001b[0m\u001b[1;33m)\u001b[0m\u001b[1;33m\u001b[0m\u001b[0m\n\u001b[1;32m   1116\u001b[0m         \u001b[1;32mexcept\u001b[0m\u001b[1;33m:\u001b[0m \u001b[0mself\u001b[0m\u001b[1;33m.\u001b[0m\u001b[0mthis\u001b[0m \u001b[1;33m=\u001b[0m \u001b[0mthis\u001b[0m\u001b[1;33m\u001b[0m\u001b[0m\n",
      "\u001b[0;31mNotImplementedError\u001b[0m: Wrong number or type of arguments for overloaded function 'new_Vecf'.\n  Possible C/C++ prototypes are:\n    Vecf::Vecf()\n    Vecf::Vecf(Vecf const &)\n    Vecf::Vecf(std::vector< float,std::allocator< float > > const &)\n    Vecf::Vecf(int)\n    Vecf::Vecf(int,float,float const *)\n    Vecf::Vecf(int,float const *)\n    Vecf::Vecf(int,double const *)\n    Vecf::Vecf(float,float,float)\n    Vecf::Vecf(float,float,float,float)\n    Vecf::Vecf(float,float,float,float,float)\n    Vecf::Vecf(float,float,float,float,float,float)\n    Vecf::Vecf(float,float,float,float,float,float,float)\n"
     ]
    }
   ],
   "source": [
    "printAllParameter\n",
    "STAIR = ggpl_havenStair(5.0, 5.0, 10.0, widthStep)\n",
    "VIEW(STAIR)"
   ]
  },
  {
   "cell_type": "code",
   "execution_count": null,
   "metadata": {
    "collapsed": true
   },
   "outputs": [],
   "source": []
  }
 ],
 "metadata": {
  "kernelspec": {
   "display_name": "Python 2",
   "language": "python",
   "name": "python2"
  },
  "language_info": {
   "codemirror_mode": {
    "name": "ipython",
    "version": 2
   },
   "file_extension": ".py",
   "mimetype": "text/x-python",
   "name": "python",
   "nbconvert_exporter": "python",
   "pygments_lexer": "ipython2",
   "version": "2.7.12"
  }
 },
 "nbformat": 4,
 "nbformat_minor": 1
}
