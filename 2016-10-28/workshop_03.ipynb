{
 "cells": [
  {
   "cell_type": "markdown",
   "metadata": {
    "collapsed": true
   },
   "source": [
    "# <center>HavenStair</center>\n",
    "idea:\n",
    "<img src=\"https://www.keuka-studios.com/wp-content/uploads/2015/02/L-shaped-stair.jpg\" width=\"400\">\n",
    "scalino:\n",
    "<img src=\"Screenshot_1.png\" width=\"400\" align=\"center\">\n",
    "<img src=\"Screenshot_2.png\" width=\"400\" align=\"ceneter\">\n",
    "rampa di scale:\n",
    "<img src=\"Screenshot_4.png\" width=\"400\" align=\"center\">\n",
    "\n",
    "Dato uno spazio descritto tramite un vettore [x, x, z], la funzione ggpl_havenStair(x,y,z) crea al suo interno una scala a rampa al suo interno con gradini legali (2a+p = 63) "
   ]
  },
  {
   "cell_type": "code",
   "execution_count": 1,
   "metadata": {
    "collapsed": false
   },
   "outputs": [
    {
     "name": "stdout",
     "output_type": "stream",
     "text": [
      "Evaluating fenvs.py..\n",
      "...fenvs.py imported in 0.00370834475582 seconds\n"
     ]
    }
   ],
   "source": [
    "from pyplasm import *"
   ]
  },
  {
   "cell_type": "code",
   "execution_count": 2,
   "metadata": {
    "collapsed": false
   },
   "outputs": [],
   "source": [
    "\"\"\"function to calculate number of platform\"\"\"\n",
    "def calculatenumPlatform(x,z):\n",
    "    tg = z/x\n",
    "    heightPlatform = z\n",
    "    maxTg = 0.55\n",
    "    numPlatform = 0\n",
    "    while(tg > maxTg):\n",
    "        numPlatform += 1\n",
    "        heightPlatform = z/numPlatform\n",
    "        tg = heightPlatform/x\n",
    "        print \"tg: \"+str(tg)\n",
    "    return [tg, numPlatform]"
   ]
  },
  {
   "cell_type": "code",
   "execution_count": 3,
   "metadata": {
    "collapsed": false
   },
   "outputs": [],
   "source": [
    "\"\"\"function to calculate legal tread\"\"\"\n",
    "def calculateTread(tg, magicNumber):\n",
    "    return magicNumber/((2*tg)+1)"
   ]
  },
  {
   "cell_type": "code",
   "execution_count": 4,
   "metadata": {
    "collapsed": true
   },
   "outputs": [],
   "source": [
    "\"\"\"function to calculate legal tread\"\"\"\n",
    "def calculateRiser(tread):\n",
    "    return (0.63-tread)/2.0"
   ]
  },
  {
   "cell_type": "code",
   "execution_count": 5,
   "metadata": {
    "collapsed": true
   },
   "outputs": [],
   "source": [
    "\"\"\"function to calculate number of step\"\"\"\n",
    "def calculatenumberStep():\n",
    "    return int(heightPlatform/riser)"
   ]
  },
  {
   "cell_type": "code",
   "execution_count": 6,
   "metadata": {
    "collapsed": true
   },
   "outputs": [],
   "source": [
    "\"\"\"function to create the step\"\"\"\n",
    "def createStep(riser, tread, widthStep):\n",
    "    v = [[0,-riser],[0,riser],[tread,riser],[tread,0]]\n",
    "    c = [[1,2,3,4]]\n",
    "    step = []\n",
    "    step.append(R([1,2])(-PI/2))\n",
    "    step.append(T(1)(-.6))\n",
    "    tmp = PROD([QUOTE([.6]),MKPOL([v,c,1])])\n",
    "    step.append(tmp)\n",
    "    step = STRUCT(step)\n",
    "    return step"
   ]
  },
  {
   "cell_type": "code",
   "execution_count": 7,
   "metadata": {
    "collapsed": true
   },
   "outputs": [],
   "source": [
    "\"\"\"function to create the platform\"\"\"\n",
    "def createPlatform(riser, tread, widthStep):\n",
    "    platForm = []\n",
    "    step.append(R([1,2])(-PI/2))\n",
    "    step.append(T(1)(-.6))\n",
    "    tmp = PROD([QUOTE([.6]),MKPOL([v,c,1])])\n",
    "    step.append(tmp)\n",
    "    step = STRUCT(step)\n",
    "    return step"
   ]
  },
  {
   "cell_type": "code",
   "execution_count": 23,
   "metadata": {
    "collapsed": false
   },
   "outputs": [],
   "source": [
    "def ggpl_havenStair(x,y,z):\n",
    "    magicNumber = .63\n",
    "    widthStep = 0.6\n",
    "    info = calculatenumPlatform(x,z)\n",
    "    tg = info[0]\n",
    "    numPlatform = info[1]\n",
    "    tread = calculateTread(tg, magicNumber)\n",
    "    riser = calculateRiser(tread)\n",
    "    numStep = int(x/tread)\n",
    "    stair = []\n",
    "    step = createStep(riser, tread, widthStep)\n",
    "    for p in range(numPlatform):\n",
    "        for i in range(numStep):\n",
    "            stair.append(step)\n",
    "            stair.append(T([1,3])([tread, riser]))\n",
    "        stair.append(T(3)(-riser))\n",
    "        platForm = COLOR(RED)(CUBOID([widthStep, widthStep,2*riser]))\n",
    "        stair.append(platForm)\n",
    "        stair.append(T([1,2])([widthStep,widthStep]))\n",
    "        stair.append(R([1,2])(PI/2))\n",
    "        stair.append(T(3)(2*riser))\n",
    "    print \"\\n\\ntg finale: \"+str(tg)+\"\\nnumPlatform: \"+str(numPlatform)+\"\\ntread: \"+str(tread)+\"\\nriser: \"+str(riser)+\"\\nnumStep: \"+str(numStep)\n",
    "    return STRUCT(stair)"
   ]
  },
  {
   "cell_type": "code",
   "execution_count": 24,
   "metadata": {
    "collapsed": false
   },
   "outputs": [
    {
     "name": "stdout",
     "output_type": "stream",
     "text": [
      "tg: 2.0\n",
      "tg: 1.0\n",
      "tg: 0.666666666667\n",
      "tg: 0.5\n",
      "\n",
      "\n",
      "tg finale: 0.5\n",
      "numPlatform: 4\n",
      "tread: 0.315\n",
      "riser: 0.1575\n",
      "numStep: 15\n"
     ]
    },
    {
     "data": {
      "text/plain": [
       "<pyplasm.xgepy.Hpc; proxy of <Swig Object of type 'std::shared_ptr< Hpc > *' at 0x000000000B15E180> >"
      ]
     },
     "execution_count": 24,
     "metadata": {},
     "output_type": "execute_result"
    }
   ],
   "source": [
    "STAIR = ggpl_havenStair(5.0, 5.0, 10.0)\n",
    "VIEW(STAIR)"
   ]
  }
 ],
 "metadata": {
  "kernelspec": {
   "display_name": "Python 2",
   "language": "python",
   "name": "python2"
  },
  "language_info": {
   "codemirror_mode": {
    "name": "ipython",
    "version": 2
   },
   "file_extension": ".py",
   "mimetype": "text/x-python",
   "name": "python",
   "nbconvert_exporter": "python",
   "pygments_lexer": "ipython2",
   "version": "2.7.12"
  }
 },
 "nbformat": 4,
 "nbformat_minor": 1
}
