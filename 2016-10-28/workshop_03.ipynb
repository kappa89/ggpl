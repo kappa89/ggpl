{
 "cells": [
  {
   "cell_type": "markdown",
   "metadata": {
    "collapsed": true
   },
   "source": [
    "# HavenStair\n",
    "\n",
    "![scala con piano intermedio](https://www.keuka-studios.com/wp-content/uploads/2015/02/L-shaped-stair.jpg)"
   ]
  },
  {
   "cell_type": "code",
   "execution_count": 1,
   "metadata": {
    "collapsed": false
   },
   "outputs": [
    {
     "name": "stdout",
     "output_type": "stream",
     "text": [
      "Evaluating fenvs.py..\n",
      "...fenvs.py imported in 0.0111419910017 seconds\n"
     ]
    }
   ],
   "source": [
    "from pyplasm import *"
   ]
  },
  {
   "cell_type": "code",
   "execution_count": 2,
   "metadata": {
    "collapsed": false
   },
   "outputs": [
    {
     "data": {
      "text/plain": [
       "3.3333333333333335"
      ]
     },
     "execution_count": 2,
     "metadata": {},
     "output_type": "execute_result"
    }
   ],
   "source": [
    "\"\"\"altezza piano in metri\"\"\"\n",
    "x = 3.0\n",
    "y = 0.4\n",
    "z = heightPlatform = 10.0\n",
    "tg = z/x\n",
    "magicNumber = .63 #(2*riser+tread)\n",
    "widthStep = .6\n",
    "maxTg = 0.55\n",
    "print tg"
   ]
  },
  {
   "cell_type": "code",
   "execution_count": 3,
   "metadata": {
    "collapsed": false
   },
   "outputs": [
    {
     "name": "stdout",
     "output_type": "stream",
     "text": [
      "tg: 1.66666666667 heig platform: 5.0 numPlat: 2\n",
      "tg: 1.11111111111 heig platform: 3.33333333333 numPlat: 3\n",
      "tg: 0.833333333333 heig platform: 2.5 numPlat: 4\n",
      "tg: 0.666666666667 heig platform: 2.0 numPlat: 5\n",
      "tg: 0.555555555556 heig platform: 1.66666666667 numPlat: 6\n",
      "tg: 0.47619047619 heig platform: 1.42857142857 numPlat: 7\n",
      "numero piani: 7\n"
     ]
    }
   ],
   "source": [
    "numPlatform = 1\n",
    "while(tg > maxTg):\n",
    "    numPlatform += 1\n",
    "    heightPlatform = z/numPlatform\n",
    "    tg = heightPlatform/x\n",
    "    print \"tg: \"+str(tg)+\" heig platform: \"+str(heightPlatform)+\" numPlat: \"+str(numPlatform)\n",
    "print \"numero piani: \"+str(numPlatform)"
   ]
  },
  {
   "cell_type": "code",
   "execution_count": 4,
   "metadata": {
    "collapsed": false
   },
   "outputs": [
    {
     "name": "stdout",
     "output_type": "stream",
     "text": [
      "numero scalini: 9\n"
     ]
    }
   ],
   "source": [
    "\"\"\"funzione per calcolare alzata e pedata legali\"\"\"\n",
    "tread = magicNumber/((2*tg)+1)\n",
    "riser = (magicNumber-tread)/2.0\n",
    "numStep = int(heightPlatform/riser)\n",
    "print \"numero scalini: \"+str(numStep)"
   ]
  },
  {
   "cell_type": "code",
   "execution_count": 5,
   "metadata": {
    "collapsed": false,
    "scrolled": true
   },
   "outputs": [
    {
     "name": "stdout",
     "output_type": "stream",
     "text": [
      "pedata: 0.322682926829\n",
      "alzata: 0.153658536585\n",
      "Tangente: 0.47619047619\n",
      "maxTangente: 0.55\n"
     ]
    }
   ],
   "source": [
    "print \"pedata: \"+str(tread)\n",
    "print \"alzata: \"+str(riser)\n",
    "print \"Tangente: \"+str(tg)\n",
    "print \"maxTangente: \"+str(maxTg)"
   ]
  },
  {
   "cell_type": "code",
   "execution_count": 6,
   "metadata": {
    "collapsed": false
   },
   "outputs": [],
   "source": [
    "stair = []\n",
    "step = CUBOID([tread, widthStep,riser])"
   ]
  },
  {
   "cell_type": "code",
   "execution_count": 7,
   "metadata": {
    "collapsed": false
   },
   "outputs": [],
   "source": [
    "for p in range(numPlatform):\n",
    "    for i in range(numStep):\n",
    "        stair.append(step)\n",
    "        stair.append(T([1,3])([tread, riser]))\n",
    "    platForm = CUBOID([widthStep+tread, widthStep,riser])\n",
    "    stair.append(platForm)\n",
    "    stair.append(T([1,2])([widthStep, widthStep]))\n",
    "    stair.append(T([1,3])([tread, riser]))\n",
    "    stair.append(R([1,2])(PI/2))"
   ]
  },
  {
   "cell_type": "code",
   "execution_count": 8,
   "metadata": {
    "collapsed": false
   },
   "outputs": [
    {
     "data": {
      "text/plain": [
       "<pyplasm.xgepy.Hpc; proxy of <Swig Object of type 'std::shared_ptr< Hpc > *' at 0x0000000004B610C0> >"
      ]
     },
     "execution_count": 8,
     "metadata": {},
     "output_type": "execute_result"
    }
   ],
   "source": [
    "STAIR = STRUCT(stair)\n",
    "VIEW(STAIR)"
   ]
  },
  {
   "cell_type": "code",
   "execution_count": null,
   "metadata": {
    "collapsed": true
   },
   "outputs": [],
   "source": []
  }
 ],
 "metadata": {
  "kernelspec": {
   "display_name": "Python 2",
   "language": "python",
   "name": "python2"
  },
  "language_info": {
   "codemirror_mode": {
    "name": "ipython",
    "version": 2
   },
   "file_extension": ".py",
   "mimetype": "text/x-python",
   "name": "python",
   "nbconvert_exporter": "python",
   "pygments_lexer": "ipython2",
   "version": "2.7.12"
  }
 },
 "nbformat": 4,
 "nbformat_minor": 1
}
