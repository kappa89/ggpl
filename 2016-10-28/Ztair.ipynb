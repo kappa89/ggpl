{
 "cells": [
  {
   "cell_type": "markdown",
   "metadata": {
    "collapsed": true
   },
   "source": [
    "# <center>scale zigZag</center>\n",
    "idea:\n",
    "<img src=\"https://www.keuka-studios.com/wp-content/uploads/2015/02/L-shaped-stair.jpg\" width=\"400\">\n",
    "scalino:\n",
    "<img src=\"Screenshot_1.png\" width=\"400\" align=\"center\">\n",
    "<img src=\"Screenshot_2.png\" width=\"400\" align=\"ceneter\">\n",
    "rampa di scale:\n",
    "<img src=\"Screenshot_4.png\" width=\"400\" align=\"center\">\n",
    "\n",
    "\n",
    "Dato uno spazio descritto tramite un vettore [x, x, z], la funzione ggpl_havenStair(x,y,z) crea al suo interno una scala a rampa al suo interno con gradini legali (2a+p = 63) "
   ]
  },
  {
   "cell_type": "code",
   "execution_count": 1,
   "metadata": {
    "collapsed": false
   },
   "outputs": [
    {
     "name": "stdout",
     "output_type": "stream",
     "text": [
      "Evaluating fenvs.py..\n",
      "...fenvs.py imported in 0.00346082515036 seconds\n"
     ]
    }
   ],
   "source": [
    "from pyplasm import *"
   ]
  },
  {
   "cell_type": "code",
   "execution_count": 2,
   "metadata": {
    "collapsed": false
   },
   "outputs": [],
   "source": [
    "\"\"\"function to calculate number of platform\"\"\"\n",
    "def calculatenumPlatform(x,z):\n",
    "    tg = z/x\n",
    "    heightPlatform = z\n",
    "    maxTg = 0.55\n",
    "    numPlatform = 1\n",
    "    while(tg > maxTg):\n",
    "        numPlatform += 1\n",
    "        heightPlatform = z/numPlatform\n",
    "        tg = heightPlatform/x\n",
    "        print \"tg: \"+str(tg)\n",
    "    return [tg, numPlatform]"
   ]
  },
  {
   "cell_type": "code",
   "execution_count": 3,
   "metadata": {
    "collapsed": false
   },
   "outputs": [],
   "source": [
    "\"\"\"function to calculate legal tread\"\"\"\n",
    "def calculateTread(tg, magicNumber):\n",
    "    return magicNumber/((2*tg)+1)"
   ]
  },
  {
   "cell_type": "code",
   "execution_count": 4,
   "metadata": {
    "collapsed": true
   },
   "outputs": [],
   "source": [
    "\"\"\"function to calculate legal tread\"\"\"\n",
    "def calculateRiser(tread):\n",
    "    return (0.63-tread)/2.0"
   ]
  },
  {
   "cell_type": "code",
   "execution_count": 5,
   "metadata": {
    "collapsed": true
   },
   "outputs": [],
   "source": [
    "\"\"\"function to calculate number of step\"\"\"\n",
    "def calculatenumberStep():\n",
    "    return int(heightPlatform/riser)"
   ]
  },
  {
   "cell_type": "code",
   "execution_count": 6,
   "metadata": {
    "collapsed": true
   },
   "outputs": [],
   "source": [
    "\"\"\"function to create the step\"\"\"\n",
    "def createStep(riser, tread, widthStep):\n",
    "    v = [[0,-riser],[0,riser],[tread,riser],[tread,0]]\n",
    "    c = [[1,2,3,4]]\n",
    "    step = []\n",
    "    step.append(R([1,2])(-PI/2))\n",
    "    step.append(T(1)(-.6))\n",
    "    tmp = PROD([QUOTE([.6]),MKPOL([v,c,1])])\n",
    "    step.append(tmp)\n",
    "    step = STRUCT(step)\n",
    "    return step"
   ]
  },
  {
   "cell_type": "code",
   "execution_count": 7,
   "metadata": {
    "collapsed": true
   },
   "outputs": [],
   "source": [
    "\"\"\"function to create the railingFirstStep\"\"\"\n",
    "def createRailingLastStep(riser, tread, widthStep):\n",
    "    h = 0.5\n",
    "    s = 0.01\n",
    "    v = [[(tread/2.0)-(s/2.0),riser],[(tread/2.0)-(s/2.0),riser+h-s],[0,h-s],[0,h],[tread/2.0,h+riser],[(tread/2.0),riser+h-s],[tread/2.0,riser]]\n",
    "    c = [[1,2,6,7],[3,4,5,6]]\n",
    "    railing = []\n",
    "    railing.append(R([1,2])(-PI/2))\n",
    "    railing.append(T(1)(-.6))\n",
    "    tmp = PROD([QUOTE([.01]),MKPOL([v,c,1])])\n",
    "    railing.append(tmp)\n",
    "    railing = STRUCT(railing)\n",
    "    return railing"
   ]
  },
  {
   "cell_type": "code",
   "execution_count": 8,
   "metadata": {
    "collapsed": false
   },
   "outputs": [],
   "source": [
    "\"\"\"function to create the railingStep\"\"\"\n",
    "def createRailingStep(riser, tread, widthStep):\n",
    "    a = []\n",
    "    a.append(createRailingFirstStep(riser, tread, widthStep))\n",
    "    a.append(createRailingLastStep(riser, tread, widthStep))\n",
    "    a.append(createFirstStep(riser, tread, widthStep))\n",
    "    return STRUCT(a)"
   ]
  },
  {
   "cell_type": "code",
   "execution_count": 9,
   "metadata": {
    "collapsed": true
   },
   "outputs": [],
   "source": [
    "\"\"\"function to create the railingLastStep\"\"\"\n",
    "def createRailingFirstStep(riser, tread, widthStep):\n",
    "    h = 0.5\n",
    "    s = 0.01\n",
    "    v = [[(tread/2.0)+(s/2.0),riser],[(tread/2.0)+(s/2.0),riser+h-s],[tread,2*riser+h-s],[tread,2*riser+h],[tread/2.0,h+riser],[(tread/2.0),riser+h-s],[tread/2.0,riser]]\n",
    "    c = [[1,2,6,7],[3,4,5,6]]\n",
    "    railing = []\n",
    "    railing.append(R([1,2])(-PI/2))\n",
    "    railing.append(T(1)(-.6))\n",
    "    tmp = PROD([QUOTE([.01]),MKPOL([v,c,1])])\n",
    "    railing.append(tmp)\n",
    "    railing = STRUCT(railing)\n",
    "    return railing"
   ]
  },
  {
   "cell_type": "code",
   "execution_count": 10,
   "metadata": {
    "collapsed": true
   },
   "outputs": [],
   "source": [
    "\"\"\"function to create the first step\"\"\"\n",
    "def createFirstStep(riser, tread, widthStep):\n",
    "    v = [[0,0],[0,riser],[tread,riser],[tread,0]]\n",
    "    c = [[1,2,3,4]]\n",
    "    step = []\n",
    "    step.append(R([1,2])(-PI/2))\n",
    "    step.append(T(1)(-.6))\n",
    "    tmp = PROD([QUOTE([.6]),MKPOL([v,c,1])])\n",
    "    step.append(tmp)\n",
    "    step = STRUCT(step)\n",
    "    return step"
   ]
  },
  {
   "cell_type": "code",
   "execution_count": 11,
   "metadata": {
    "collapsed": true
   },
   "outputs": [],
   "source": [
    "\"\"\"function to create last step\"\"\"\n",
    "def createFirstStep(riser, tread, widthStep):\n",
    "    v = [[0,0],[0,riser],[tread,riser],[tread,0]]\n",
    "    c = [[1,2,3,4]]\n",
    "    step = []\n",
    "    step.append(R([1,2])(-PI/2))\n",
    "    step.append(T(1)(-.6))\n",
    "    tmp = PROD([QUOTE([.6]),MKPOL([v,c,1])])\n",
    "    step.append(tmp)\n",
    "    step = STRUCT(step)\n",
    "    return step"
   ]
  },
  {
   "cell_type": "code",
   "execution_count": 12,
   "metadata": {
    "collapsed": false
   },
   "outputs": [],
   "source": [
    "def createZcale(x,z):\n",
    "    magicNumber = .63\n",
    "    widthStep = 0.6\n",
    "    thinknessWall = 0.1\n",
    "    info = calculatenumPlatform(x,z)\n",
    "    tg = info[0]\n",
    "    numPlatform = info[1]\n",
    "    tread = calculateTread(tg, magicNumber)\n",
    "    riser = calculateRiser(tread)\n",
    "    step = createStep(riser, tread, widthStep)\n",
    "    firstStep = createFirstStep(riser, tread, widthStep)\n",
    "    firstRailingStep = createRailingFirstStep(riser, tread, widthStep)\n",
    "    lastRailingStep = createRailingStep(riser, tread, widthStep)\n",
    "    railingStep = createRailingStep(riser, tread, widthStep)\n",
    "    lastStep = 0\n",
    "    numStep = int(x/tread)\n",
    "    stair = []\n",
    "    for p in range(numPlatform):\n",
    "        stair.append(firstStep)\n",
    "        stair.append(firstRailingStep)\n",
    "        stair.append(T([1,3])([tread, riser]))\n",
    "        for i in range(numStep-2):\n",
    "            stair.append(step)\n",
    "            stair.append(railingStep)\n",
    "            stair.append(T([1,3])([tread, riser]))\n",
    "        stair.append(step)\n",
    "        stair.append(lastRailingStep)\n",
    "        stair.append(T(3)(-riser))\n",
    "        stair.append(T(2)(2*widthStep+thinknessWall))\n",
    "        stair.append(R([1,2])(PI))\n",
    "        stair.append(T(3)(riser))\n",
    "    print \"\\n\\ntg finale: \"+str(tg)+\"\\nnumPlatform: \"+str(numPlatform)+\"\\ntread: \"+str(tread)+\"\\nriser: \"+str(riser)+\"\\nnumStep: \"+str(numStep)\n",
    "    return STRUCT(stair)"
   ]
  },
  {
   "cell_type": "code",
   "execution_count": 13,
   "metadata": {
    "collapsed": false
   },
   "outputs": [
    {
     "name": "stdout",
     "output_type": "stream",
     "text": [
      "tg: 0.3\n",
      "\n",
      "\n",
      "tg finale: 0.3\n",
      "numPlatform: 2\n",
      "tread: 0.39375\n",
      "riser: 0.118125\n",
      "numStep: 12\n"
     ]
    },
    {
     "data": {
      "text/plain": [
       "<pyplasm.xgepy.Hpc; proxy of <Swig Object of type 'std::shared_ptr< Hpc > *' at 0x000000000B0850F0> >"
      ]
     },
     "execution_count": 13,
     "metadata": {},
     "output_type": "execute_result"
    }
   ],
   "source": [
    "STAIR = createZcale(5.0, 3.0)\n",
    "VIEW(STAIR)"
   ]
  },
  {
   "cell_type": "code",
   "execution_count": 14,
   "metadata": {
    "collapsed": false
   },
   "outputs": [
    {
     "data": {
      "text/plain": [
       "<pyplasm.xgepy.Hpc; proxy of <Swig Object of type 'std::shared_ptr< Hpc > *' at 0x000000000AD7DDE0> >"
      ]
     },
     "execution_count": 14,
     "metadata": {},
     "output_type": "execute_result"
    }
   ],
   "source": [
    "VIEW(createRailingFirstStep(0.2, 0.4, 0.6))"
   ]
  },
  {
   "cell_type": "code",
   "execution_count": 15,
   "metadata": {
    "collapsed": false
   },
   "outputs": [
    {
     "data": {
      "text/plain": [
       "<pyplasm.xgepy.Hpc; proxy of <Swig Object of type 'std::shared_ptr< Hpc > *' at 0x000000000B0A7120> >"
      ]
     },
     "execution_count": 15,
     "metadata": {},
     "output_type": "execute_result"
    }
   ],
   "source": [
    "VIEW(createRailingLastStep(0.2, 0.4, 0.6))"
   ]
  },
  {
   "cell_type": "code",
   "execution_count": 16,
   "metadata": {
    "collapsed": false
   },
   "outputs": [
    {
     "data": {
      "text/plain": [
       "<pyplasm.xgepy.Hpc; proxy of <Swig Object of type 'std::shared_ptr< Hpc > *' at 0x000000000AD7D4B0> >"
      ]
     },
     "execution_count": 16,
     "metadata": {},
     "output_type": "execute_result"
    }
   ],
   "source": [
    "a = []\n",
    "a.append(createRailingFirstStep(0.2, 0.4, 0.6))\n",
    "a.append(createRailingLastStep(0.2, 0.4, 0.6))\n",
    "a.append(createFirstStep(0.2, 0.4, 0.6))\n",
    "VIEW(STRUCT(a))"
   ]
  },
  {
   "cell_type": "code",
   "execution_count": null,
   "metadata": {
    "collapsed": true
   },
   "outputs": [],
   "source": []
  }
 ],
 "metadata": {
  "kernelspec": {
   "display_name": "Python 2",
   "language": "python",
   "name": "python2"
  },
  "language_info": {
   "codemirror_mode": {
    "name": "ipython",
    "version": 2
   },
   "file_extension": ".py",
   "mimetype": "text/x-python",
   "name": "python",
   "nbconvert_exporter": "python",
   "pygments_lexer": "ipython2",
   "version": "2.7.12"
  }
 },
 "nbformat": 4,
 "nbformat_minor": 1
}
