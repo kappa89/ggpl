{
 "cells": [
  {
   "cell_type": "markdown",
   "metadata": {},
   "source": [
    "# <center> NormalStair\n",
    "<img src=\"Screenshot_6.png\" width=\"400\" align=\"center\">\n"
   ]
  },
  {
   "cell_type": "code",
   "execution_count": 1,
   "metadata": {
    "collapsed": false
   },
   "outputs": [
    {
     "name": "stdout",
     "output_type": "stream",
     "text": [
      "Evaluating fenvs.py..\n",
      "...fenvs.py imported in 0.00347341282705 seconds\n"
     ]
    }
   ],
   "source": [
    "from pyplasm import *"
   ]
  },
  {
   "cell_type": "code",
   "execution_count": 2,
   "metadata": {
    "collapsed": false
   },
   "outputs": [],
   "source": [
    "\"\"\"function to calculate number of platform\"\"\"\n",
    "def calculatenumPlatform(x,z):\n",
    "    tg = z/x\n",
    "    heightPlatform = z\n",
    "    maxTg = 0.55\n",
    "    numPlatform = 1\n",
    "    while(tg > maxTg):\n",
    "        numPlatform += 1\n",
    "        heightPlatform = z/numPlatform\n",
    "        tg = heightPlatform/x\n",
    "        print \"tg: \"+str(tg)\n",
    "    return [tg, numPlatform]"
   ]
  },
  {
   "cell_type": "code",
   "execution_count": 3,
   "metadata": {
    "collapsed": false
   },
   "outputs": [],
   "source": [
    "\"\"\"function to calculate legal tread\"\"\"\n",
    "def calculateTread(tg, magicNumber):\n",
    "    return magicNumber/((2*tg)+1)"
   ]
  },
  {
   "cell_type": "code",
   "execution_count": 4,
   "metadata": {
    "collapsed": true
   },
   "outputs": [],
   "source": [
    "\"\"\"function to calculate legal tread\"\"\"\n",
    "def calculateRiser(tread):\n",
    "    return (0.63-tread)/2.0"
   ]
  },
  {
   "cell_type": "code",
   "execution_count": 5,
   "metadata": {
    "collapsed": true
   },
   "outputs": [],
   "source": [
    "\"\"\"function to calculate number of step\"\"\"\n",
    "def calculatenumberStep():\n",
    "    return int(heightPlatform/riser)"
   ]
  },
  {
   "cell_type": "code",
   "execution_count": 6,
   "metadata": {
    "collapsed": false
   },
   "outputs": [],
   "source": [
    "\"\"\"function to create the RailingStep\"\"\"\n",
    "def createRailingStep(riser, tread, widthStep):\n",
    "    angle = math.atan(riser/tread)\n",
    "    h = 0.5\n",
    "    s = 0.02\n",
    "    b = (s*riser)/(2*tread)\n",
    "    h2 = 0.05\n",
    "    \n",
    "    v = [[0, riser+h],#1\n",
    "          [0, riser+h+h2],#2\n",
    "          [tread, 2*riser+h],#3\n",
    "          [tread, 2*riser+h+h2]#4\n",
    "         ]\n",
    "    c = [[1,2,3,4]]\n",
    "    railing = []\n",
    "    railing.append(R([1,2])(-PI/2))\n",
    "    railing.append(T(1)(-.6))\n",
    "    tmp = PROD([QUOTE([.02]),MKPOL([v,c,1])])\n",
    "    railing.append(tmp)\n",
    "    railing = STRUCT(railing)\n",
    "    return railing"
   ]
  },
  {
   "cell_type": "code",
   "execution_count": 7,
   "metadata": {
    "collapsed": false
   },
   "outputs": [],
   "source": [
    "\"\"\"function to create the firstRailingStep\"\"\"\n",
    "def createFirstRailingStep(riser, tread, widthStep):\n",
    "    angle = math.atan(riser/tread)\n",
    "    h = 0.5\n",
    "    s = 0.02\n",
    "    h2 = 0.05\n",
    "    \n",
    "    v = [[0, riser],#1\n",
    "          [0, riser+h+(h2/3.0)],#2\n",
    "          [s, riser+h+(h2/3.0)],#3\n",
    "          [s, riser]#4\n",
    "         ]\n",
    "    c = [[1,2,3,4]]\n",
    "    railing = []\n",
    "    railing.append(createRailingStep(riser, tread, widthStep))\n",
    "    railing.append(R([1,2])(-PI/2))\n",
    "    railing.append(T(1)(-.6))\n",
    "    tmp = PROD([QUOTE([.02]),MKPOL([v,c,1])])\n",
    "    railing.append(tmp)\n",
    "    railing = STRUCT(railing)\n",
    "    return railing"
   ]
  },
  {
   "cell_type": "code",
   "execution_count": 8,
   "metadata": {
    "collapsed": false
   },
   "outputs": [],
   "source": [
    "\"\"\"function to create the lastRailingStep\"\"\"\n",
    "def createLastRailingStep(riser, tread, widthStep):\n",
    "    angle = math.atan(riser/tread)\n",
    "    h = 0.5\n",
    "    s = 0.02\n",
    "    h2 = 0.05\n",
    "    \n",
    "    v = [[tread-s, riser],#1\n",
    "          [tread-s, 2*riser+h+(h2/3.0)],#2\n",
    "          [tread, 2*riser+h+(h2/3.0)],#3\n",
    "          [tread, riser]#4\n",
    "         ]\n",
    "    c = [[1,2,3,4]]\n",
    "    railing = []\n",
    "    railing.append(createRailingStep(riser, tread, widthStep))\n",
    "    railing.append(R([1,2])(-PI/2))\n",
    "    railing.append(T(1)(-.6))\n",
    "    tmp = PROD([QUOTE([.01]),MKPOL([v,c,1])])\n",
    "    railing.append(tmp)\n",
    "    railing = STRUCT(railing)\n",
    "    return railing"
   ]
  },
  {
   "cell_type": "code",
   "execution_count": 9,
   "metadata": {
    "collapsed": true
   },
   "outputs": [],
   "source": [
    "\"\"\"function to create the step\"\"\"\n",
    "def createStep(riser, tread, widthStep):\n",
    "    v = [[0,-riser],[0,riser],[tread,riser],[tread,0]]\n",
    "    c = [[1,2,3,4]]\n",
    "    step = []\n",
    "    step.append(R([1,2])(-PI/2))\n",
    "    step.append(T(1)(-.6))\n",
    "    tmp = PROD([QUOTE([.6]),MKPOL([v,c,1])])\n",
    "    step.append(tmp)\n",
    "    step = STRUCT(step)\n",
    "    return step"
   ]
  },
  {
   "cell_type": "code",
   "execution_count": 10,
   "metadata": {
    "collapsed": true
   },
   "outputs": [],
   "source": [
    "\"\"\"function to create the first step\"\"\"\n",
    "def createFirstStep(riser, tread, widthStep):\n",
    "    v = [[0,0],[0,riser],[tread,riser],[tread,0]]\n",
    "    c = [[1,2,3,4]]\n",
    "    step = []\n",
    "    step.append(R([1,2])(-PI/2))\n",
    "    step.append(T(1)(-.6))\n",
    "    tmp = PROD([QUOTE([.6]),MKPOL([v,c,1])])\n",
    "    step.append(tmp)\n",
    "    step = STRUCT(step)\n",
    "    return step"
   ]
  },
  {
   "cell_type": "code",
   "execution_count": 11,
   "metadata": {
    "collapsed": true
   },
   "outputs": [],
   "source": [
    "\"\"\"function to create last step\"\"\"\n",
    "def createFirstStep(riser, tread, widthStep):\n",
    "    v = [[0,0],[0,riser],[tread,riser],[tread,0]]\n",
    "    c = [[1,2,3,4]]\n",
    "    step = []\n",
    "    step.append(R([1,2])(-PI/2))\n",
    "    step.append(T(1)(-.6))\n",
    "    tmp = PROD([QUOTE([.6]),MKPOL([v,c,1])])\n",
    "    step.append(tmp)\n",
    "    step = STRUCT(step)\n",
    "    return step"
   ]
  },
  {
   "cell_type": "code",
   "execution_count": 24,
   "metadata": {
    "collapsed": true
   },
   "outputs": [],
   "source": [
    "\"\"\"function to create the platForm\"\"\"\n",
    "def createPlatform(riser, tread, widthStep, thinknessWall):\n",
    "    return CUBOID([tread, 2*widthStep+thinknessWall, riser])"
   ]
  },
  {
   "cell_type": "code",
   "execution_count": 30,
   "metadata": {
    "collapsed": false
   },
   "outputs": [],
   "source": [
    "\"\"\"function to create Stair Zform\"\"\"\n",
    "def createStair(x,z):\n",
    "    \n",
    "    # Constant var\n",
    "    magicNumber = .63\n",
    "    widthStep = 0.6\n",
    "    thinknessWall = 0.1\n",
    "    info = calculatenumPlatform(x,z)\n",
    "    tg = info[0]\n",
    "    numPlatform = info[1]\n",
    "    \n",
    "    # Objects\n",
    "    tread = calculateTread(tg, magicNumber)\n",
    "    riser = calculateRiser(tread)\n",
    "    step = createStep(riser, tread, widthStep)\n",
    "    firstStep = createFirstStep(riser, tread, widthStep)\n",
    "    firstRailingStep = createFirstRailingStep(riser, tread, widthStep)\n",
    "    lastRailingStep = createLastRailingStep(riser, tread, widthStep)\n",
    "    railingStep = createRailingStep(riser, tread, widthStep)\n",
    "    platform = COLOR(BLACK)(createPlatform(riser, tread, widthStep, thinknessWall))\n",
    "    \n",
    "    numStep = int(x/tread)\n",
    "    \n",
    "    stair = []\n",
    "    for p in range(numPlatform):\n",
    "        # Fist Step\n",
    "        stair.append(firstStep)\n",
    "        stair.append(firstRailingStep)\n",
    "        stair.append(T([1,3])([tread, riser]))\n",
    "        \n",
    "        for i in range(numStep-2):\n",
    "            stair.append(step)\n",
    "            stair.append(railingStep)\n",
    "            stair.append(T([1,3])([tread, riser]))\n",
    "            \n",
    "        # Last Step\n",
    "        stair.append(step)\n",
    "        stair.append(lastRailingStep)\n",
    "        stair.append(T(1)(tread))\n",
    "        \n",
    "        # Platform\n",
    "        stair.append(platform)\n",
    "        stair.append(T(3)(-riser))\n",
    "        stair.append(T(2)(2*widthStep+thinknessWall))\n",
    "        stair.append(T(1)(tread))\n",
    "        \n",
    "        # Rotate\n",
    "        stair.append(R([1,2])(PI))\n",
    "        stair.append(T(3)(riser))\n",
    "        stair.append(T(1)(tread))\n",
    "    print \"\\n\\ntg finale: \"+str(tg)+\"\\nnumPlatform: \"+str(numPlatform)+\"\\ntread: \"+str(tread)+\"\\nriser: \"+str(riser)+\"\\nnumStep: \"+str(numStep)\n",
    "    return STRUCT(stair)"
   ]
  },
  {
   "cell_type": "code",
   "execution_count": 29,
   "metadata": {
    "collapsed": false
   },
   "outputs": [
    {
     "name": "stdout",
     "output_type": "stream",
     "text": [
      "tg: 0.3\n",
      "\n",
      "\n",
      "tg finale: 0.3\n",
      "numPlatform: 2\n",
      "tread: 0.39375\n",
      "riser: 0.118125\n",
      "numStep: 12\n"
     ]
    },
    {
     "data": {
      "text/plain": [
       "<pyplasm.xgepy.Hpc; proxy of <Swig Object of type 'std::shared_ptr< Hpc > *' at 0x000000000AEDA3F0> >"
      ]
     },
     "execution_count": 29,
     "metadata": {},
     "output_type": "execute_result"
    }
   ],
   "source": [
    "STAIR = createStair(5.0, 3.0)\n",
    "VIEW(STAIR)"
   ]
  },
  {
   "cell_type": "code",
   "execution_count": null,
   "metadata": {
    "collapsed": true
   },
   "outputs": [],
   "source": []
  }
 ],
 "metadata": {
  "kernelspec": {
   "display_name": "Python 2",
   "language": "python",
   "name": "python2"
  },
  "language_info": {
   "codemirror_mode": {
    "name": "ipython",
    "version": 2
   },
   "file_extension": ".py",
   "mimetype": "text/x-python",
   "name": "python",
   "nbconvert_exporter": "python",
   "pygments_lexer": "ipython2",
   "version": "2.7.12"
  }
 },
 "nbformat": 4,
 "nbformat_minor": 1
}
