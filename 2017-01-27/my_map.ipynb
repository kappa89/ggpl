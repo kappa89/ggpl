{
 "cells": [
  {
   "cell_type": "markdown",
   "metadata": {
    "collapsed": true
   },
   "source": [
    "# support function"
   ]
  },
  {
   "cell_type": "code",
   "execution_count": 2,
   "metadata": {
    "collapsed": false
   },
   "outputs": [],
   "source": [
    "%run \"../2016-12-16/RoofGenerator.ipynb\""
   ]
  },
  {
   "cell_type": "code",
   "execution_count": 131,
   "metadata": {
    "collapsed": true
   },
   "outputs": [],
   "source": [
    "# PIANTE\n",
    "fronde01 = \"./texture/albero01/pianta.jpg\"\n",
    "tr01 = \"./texture/albero01/tronco.jpg\"\n",
    "\n",
    "fronde02 = \"./texture/albero02/pianta.jpg\"\n",
    "tr02 = \"./texture/albero02/tronco.jpg\"\n",
    "\n",
    "fronde03 = \"./texture/albero03/pianta.jpg\"\n",
    "tr03 = \"./texture/albero03/tronco.jpg\"\n",
    "# STRADA\n",
    "asfalto = \"./texture/strada/asfalto.jpg\""
   ]
  },
  {
   "cell_type": "code",
   "execution_count": 150,
   "metadata": {
    "collapsed": false
   },
   "outputs": [],
   "source": [
    "\"\"\"create normal tree\"\"\"\n",
    "def createTree01(scale):\n",
    "    scale = 0.08*scale\n",
    "    fronda = DODECAHEDRON\n",
    "    fronda = R([1,3])(PI/8)(fronda)\n",
    "    fronda = centra(fronda)\n",
    "    fronda = T(3)(1.8)(fronda)\n",
    "    tronco = CYLINDER ([0.2,2.0])(8)\n",
    "    fronda = DIFF([fronda, tronco])\n",
    "    fronda = TEXTURE([fronde01, TRUE, TRUE,10,10,0,1,1,0,0])(fronda)\n",
    "    tronco = TEXTURE([tr01, TRUE, FALSE,0,0,0,1,1,0,0])(tronco)\n",
    "    tronco = centra(tronco)\n",
    "    albero = STRUCT([fronda, tronco])\n",
    "    albero = S([1,2,3])([scale,scale,scale])(albero)\n",
    "    return albero"
   ]
  },
  {
   "cell_type": "code",
   "execution_count": 148,
   "metadata": {
    "collapsed": false
   },
   "outputs": [],
   "source": [
    "\"\"\"create cypress tree\"\"\"\n",
    "def createTree02(scale):\n",
    "    scale = 0.08*scale\n",
    "    fronda = CONE([0.6, 4.0])(8)\n",
    "    fronda = centra(fronda)\n",
    "    fronda = T(3)(1.8)(fronda)\n",
    "    tronco = CYLINDER ([0.2,2.0])(8)\n",
    "    fronda = DIFF([fronda, tronco])\n",
    "    fronda = TEXTURE([fronde02, TRUE, TRUE,10,10,0,1,1,0,0])(fronda)\n",
    "    tronco = TEXTURE([tr02, TRUE, FALSE,0,0,0,1,1,0,0])(tronco)\n",
    "    tronco = centra(tronco)\n",
    "    albero =  STRUCT([fronda, tronco])\n",
    "    albero = S([1,2,3])([scale,scale,scale])(albero)\n",
    "    return albero"
   ]
  },
  {
   "cell_type": "code",
   "execution_count": 149,
   "metadata": {
    "collapsed": true
   },
   "outputs": [],
   "source": [
    "\"\"\"create pine tree\"\"\"\n",
    "def createTree03(scale):\n",
    "    scale = 0.08*scale\n",
    "    fronda = DODECAHEDRON\n",
    "    fronda = R([1,3])(PI/3)(fronda)\n",
    "    fronda = centra(fronda)\n",
    "    fronda = T(3)(1.8)(fronda)\n",
    "    fronda = S([1,2])([2,2])(fronda)\n",
    "    tronco = CYLINDER ([0.2,2.0])(8)\n",
    "    fronda = DIFF([fronda, tronco])\n",
    "    fronda = TEXTURE([fronde03, TRUE, TRUE,10,10,0,1,1,0,0])(fronda)\n",
    "    tronco = TEXTURE([tr03, TRUE, FALSE,0,0,0,1,1,0,0])(tronco)\n",
    "    tronco = centra(tronco)\n",
    "    albero =  STRUCT([fronda, tronco])\n",
    "    albero = S([1,2,3])([scale,scale,scale])(albero)\n",
    "    return albero"
   ]
  },
  {
   "cell_type": "code",
   "execution_count": 146,
   "metadata": {
    "collapsed": true
   },
   "outputs": [],
   "source": [
    "\"\"\"create tree from .lines\"\"\"\n",
    "def readForest(file_name):\n",
    "    i = 0\n",
    "    forest = []\n",
    "    with open(file_name, 'rb') as csvfile:\n",
    "        buildReader = csv.reader(csvfile)\n",
    "        for row in buildReader:\n",
    "            x1 = float(row[0])\n",
    "            y1 = float(row[1])\n",
    "            x2 = float(row[2])\n",
    "            y2 = float(row[3])\n",
    "            i += 2\n",
    "            \n",
    "            t = random.randint(0, 3)\n",
    "            s = (random.randrange(80, 120, 5)/10.0)\n",
    "            a = angle(x1, y1, x2, y2)\n",
    "            \n",
    "            if(t == 0):\n",
    "                tree = createTree01(s)\n",
    "            else:\n",
    "                if(t == 1):\n",
    "                    tree = createTree02(s)\n",
    "                else:\n",
    "                    tree = createTree03(s)\n",
    "                    \n",
    "            tree = R([1,2])(a)(tree)\n",
    "            tree = T([1,2])([x1, y1])(tree)\n",
    "            forest.append(tree)\n",
    "    \n",
    "        forest = STRUCT(forest)\n",
    "    #forest = R([1,2])(PI)(forest)\n",
    "    #size = sizeOf(forest)\n",
    "    #forest = T([1,2])([size[0], size[1]])(forest)\n",
    "    return forest"
   ]
  },
  {
   "cell_type": "code",
   "execution_count": 10,
   "metadata": {
    "collapsed": false
   },
   "outputs": [],
   "source": [
    "\"\"\"create houses from .lines\"\"\"\n",
    "def readHouses(file_name):\n",
    "    i = 0\n",
    "    struct = []\n",
    "    with open(file_name, 'rb') as csvfile:\n",
    "        buildReader = csv.reader(csvfile)\n",
    "        \n",
    "        for row in buildReader:\n",
    "            x1 = float(row[0])\n",
    "            y1 = float(row[1])\n",
    "            x2 = float(row[2])\n",
    "            y2 = float(row[3])\n",
    "            i += 2\n",
    "            a = angle(x1, y1, x2, y2)\n",
    "            randomFloor = random.randint(1, 11)\n",
    "            casa = createPalace(randomFloor)\n",
    "            size = sizeOf(casa)\n",
    "            casa = R([1,2])(a)(casa)\n",
    "            casa = T([1,2])([x1, y1])(casa)\n",
    "            struct.append(casa)\n",
    "    return STRUCT(struct)"
   ]
  },
  {
   "cell_type": "code",
   "execution_count": 6,
   "metadata": {
    "collapsed": true
   },
   "outputs": [],
   "source": [
    "\"\"\"Special function, read a specific illustrator format AI3 and generate bezier curve\"\"\"\n",
    "def readIllustratorFile(file_name):\n",
    "    points = []\n",
    "    group = []\n",
    "    reading = False\n",
    "    with open(file_name, 'rU') as csvfile:\n",
    "        buildReader = csv.reader(csvfile, delimiter=' ')\n",
    "        for row in buildReader:\n",
    "            if(row[0]=='1' and row[1]=='XR'):\n",
    "                reading = True\n",
    "                continue\n",
    "            if(row[0]=='N' or row[0]=='n'):\n",
    "                if len(points)>0:\n",
    "                    group.append(points)\n",
    "                points = []\n",
    "                reading = False\n",
    "                continue\n",
    "            if reading:\n",
    "                points.append([float(row[0]), float(row[1])])\n",
    "                if isfloat(row[2]):\n",
    "                    points.append([float(row[2]), float(row[3])])\n",
    "                if len(row)>4 and isfloat(row[4]):\n",
    "                    points.append([float(row[4]), float(row[5])])\n",
    "    return group"
   ]
  },
  {
   "cell_type": "code",
   "execution_count": 7,
   "metadata": {
    "collapsed": true
   },
   "outputs": [],
   "source": [
    "def isfloat(value):\n",
    "  try:\n",
    "    float(value)\n",
    "    return True\n",
    "  except ValueError:\n",
    "    return False"
   ]
  },
  {
   "cell_type": "code",
   "execution_count": 133,
   "metadata": {
    "collapsed": true
   },
   "outputs": [],
   "source": [
    "\"\"\"create roads from .lines\"\"\"\n",
    "def createRoads(path, width):\n",
    "    points = readIllustratorFile(path)\n",
    "    domain=INTERVALS(1)(100)\n",
    "    roads = []\n",
    "    for i in range(len(points)):\n",
    "        appoggio = BEZIERSTRIPE([points[i],width,22])\n",
    "        roads.append(appoggio)\n",
    "    roads = STRUCT(roads)\n",
    "    return roads\n"
   ]
  },
  {
   "cell_type": "code",
   "execution_count": 25,
   "metadata": {
    "collapsed": false
   },
   "outputs": [],
   "source": [
    "\"\"\"create river from .lines\"\"\"\n",
    "def createRiver(path, width):\n",
    "    river = createRoads(path, width)\n",
    "    return river"
   ]
  },
  {
   "cell_type": "code",
   "execution_count": 11,
   "metadata": {
    "collapsed": false
   },
   "outputs": [],
   "source": [
    "\"\"\"tools\"\"\"\n",
    "def creaCubi(file_name):\n",
    "    i = 0\n",
    "    struct = []\n",
    "    with open(file_name, 'rb') as csvfile:\n",
    "        buildReader = csv.reader(csvfile)\n",
    "        for row in buildReader:\n",
    "            x1 = float(row[0])\n",
    "            y1 = float(row[1])\n",
    "            x2 = float(row[2])\n",
    "            y2 = float(row[3])\n",
    "            i += 2\n",
    "            a = angle(x1, y1, x2, y2)\n",
    "            cubo = R([1,2])(a)(CUBOID([3,3,3]))\n",
    "            cubo01 = COLOR(RED)(T([1,2])([x1, y1])(cubo))\n",
    "            cubo02 = COLOR(BLUE)(T([1,2])([x2, y2])(cubo))\n",
    "            struct.append(cubo01)\n",
    "            struct.append(cubo02)\n",
    "    return STRUCT(struct)"
   ]
  },
  {
   "cell_type": "code",
   "execution_count": 141,
   "metadata": {
    "collapsed": false
   },
   "outputs": [
    {
     "data": {
      "text/plain": [
       "3"
      ]
     },
     "execution_count": 141,
     "metadata": {},
     "output_type": "execute_result"
    }
   ],
   "source": []
  },
  {
   "cell_type": "code",
   "execution_count": null,
   "metadata": {
    "collapsed": true
   },
   "outputs": [],
   "source": []
  }
 ],
 "metadata": {
  "kernelspec": {
   "display_name": "Python 2",
   "language": "python",
   "name": "python2"
  },
  "language_info": {
   "codemirror_mode": {
    "name": "ipython",
    "version": 2
   },
   "file_extension": ".py",
   "mimetype": "text/x-python",
   "name": "python",
   "nbconvert_exporter": "python",
   "pygments_lexer": "ipython2",
   "version": "2.7.12"
  }
 },
 "nbformat": 4,
 "nbformat_minor": 1
}
