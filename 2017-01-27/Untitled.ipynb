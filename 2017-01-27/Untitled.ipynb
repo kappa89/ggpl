{
 "cells": [
  {
   "cell_type": "code",
   "execution_count": 1,
   "metadata": {
    "collapsed": false
   },
   "outputs": [
    {
     "name": "stdout",
     "output_type": "stream",
     "text": [
      "Evaluating fenvs.py..\n",
      "...fenvs.py imported in 0.00345380849312 seconds\n"
     ]
    }
   ],
   "source": [
    "from pyplasm import *"
   ]
  },
  {
   "cell_type": "code",
   "execution_count": 2,
   "metadata": {
    "collapsed": true
   },
   "outputs": [],
   "source": [
    "v = [[0.0,0.0],[0.0,1.0],[1.0,1.0],[1.0,0.0]]\n",
    "c = [[1,2,3,4]]"
   ]
  },
  {
   "cell_type": "code",
   "execution_count": 14,
   "metadata": {
    "collapsed": false
   },
   "outputs": [
    {
     "data": {
      "text/plain": [
       "<pyplasm.xgepy.Hpc; proxy of <Swig Object of type 'std::shared_ptr< Hpc > *' at 0x000000000A948810> >"
      ]
     },
     "execution_count": 14,
     "metadata": {},
     "output_type": "execute_result"
    }
   ],
   "source": [
    "cilindro = CYLINDER([0.02, 0.5])(6)\n",
    "cono = T([1,2,3])([0.1,0.1,0.1])(CONE([1.0/16.0,1.0/8])(8))\n",
    "prisma = PRISM(4.0)\n",
    "cubo = CUBOID([1,2,3])\n",
    "q = MKPOL([v, [[1,2,3,4]], 1])\n",
    "bo = FINITECONE(q)\n",
    "VIEW(STRUCT([cono, cilindro]))"
   ]
  },
  {
   "cell_type": "code",
   "execution_count": null,
   "metadata": {
    "collapsed": false
   },
   "outputs": [],
   "source": [
    "a = MED([1,2,3])(cono)"
   ]
  },
  {
   "cell_type": "code",
   "execution_count": null,
   "metadata": {
    "collapsed": false
   },
   "outputs": [],
   "source": [
    "print a[2]"
   ]
  },
  {
   "cell_type": "code",
   "execution_count": null,
   "metadata": {
    "collapsed": false
   },
   "outputs": [],
   "source": [
    "#b = ALIGN([3,MAX,MIN])([cono,cilindro])\n",
    "f=TOP([cono, cilindro])\n",
    "VIEW(f)"
   ]
  },
  {
   "cell_type": "code",
   "execution_count": 32,
   "metadata": {
    "collapsed": false
   },
   "outputs": [
    {
     "data": {
      "text/plain": [
       "<pyplasm.xgepy.Hpc; proxy of <Swig Object of type 'std::shared_ptr< Hpc > *' at 0x000000000A9DD2D0> >"
      ]
     },
     "execution_count": 32,
     "metadata": {},
     "output_type": "execute_result"
    }
   ],
   "source": [
    "o = DODECAHEDRON\n",
    "p = ICOSAHEDRON\n",
    "i = TETRAHEDRON\n",
    "VIEW(STRUCT([o,T(1)(3)(p),T(1)(6)(i)]))"
   ]
  },
  {
   "cell_type": "code",
   "execution_count": null,
   "metadata": {
    "collapsed": false
   },
   "outputs": [],
   "source": [
    "profile= BEZIER(S1)([[0,0,0],[2,0,1],[3,0,4]]) # defined in xz!\n",
    "plasm_config.push(1e-4)\n",
    "#domain=Plasm.power(INTERVALS(1)(10),INTERVALS(2*PI)(30)) # the first interval should be in 0,1 for bezier\n",
    "domain = EMBED(1)(PROD([ Hpc(Grid([10*[1./10]])),  Hpc(Grid([30*[2*PI/30]])) ]))\n",
    "out = GMAP(ROTATIONALSURFACE(profile))(domain)\n",
    "plasm_config.pop()\n",
    "VIEW(out)"
   ]
  },
  {
   "cell_type": "code",
   "execution_count": null,
   "metadata": {
    "collapsed": false
   },
   "outputs": [],
   "source": [
    "c1=CUBICHERMITE(S1)([[1  ,0,0],[0  ,1,0],[0,3,0],[-3,0,0]])\n",
    "c2=CUBICHERMITE(S1)([[0.5,0,0],[0,0.5,0],[0,1,0],[-1,0,0]])\n",
    "sur3=CUBICHERMITE(S2)([c1,c2,[1,1,1],[-1,-1,-1]])\n",
    "plasm_config.push(1e-4)\n",
    "#domain=Plasm.power(INTERVALS(1)(14),INTERVALS(1)(14))\n",
    "domain = EMBED(1)(PROD([ Hpc(Grid([14*[1./14]])),  Hpc(Grid([14*[1./14]])) ]))\n",
    "out = GMAP(sur3)(domain)\n",
    "plasm_config.pop()\n",
    "VIEW(out)"
   ]
  },
  {
   "cell_type": "code",
   "execution_count": null,
   "metadata": {
    "collapsed": false
   },
   "outputs": [],
   "source": [
    "domain = EMBED(1)(PROD([ Hpc(Grid([20*[1./20]])),  Hpc(Grid([6*[1./6]])) ]))\n",
    "beta = BEZIER(S1)([ [1,1,0],[-1,1,0],[1,-1,0],[-1,-1,0] ])\n",
    "out = GMAP(CONICALSURFACE([[0,0,1],beta]))(domain)\n",
    "VIEW(out)"
   ]
  },
  {
   "cell_type": "code",
   "execution_count": null,
   "metadata": {
    "collapsed": false
   },
   "outputs": [],
   "source": [
    "VIEW(PROJECT(1)(cono))"
   ]
  },
  {
   "cell_type": "code",
   "execution_count": 29,
   "metadata": {
    "collapsed": false
   },
   "outputs": [
    {
     "data": {
      "text/plain": [
       "<pyplasm.xgepy.Hpc; proxy of <Swig Object of type 'std::shared_ptr< Hpc > *' at 0x000000000A579EA0> >"
      ]
     },
     "execution_count": 29,
     "metadata": {},
     "output_type": "execute_result"
    }
   ],
   "source": [
    "VIEW(STRUCT([PERMUTAHEDRON(2),T(3)(1),SKEL_1(PERMUTAHEDRON(2))]))"
   ]
  },
  {
   "cell_type": "code",
   "execution_count": 28,
   "metadata": {
    "collapsed": false
   },
   "outputs": [
    {
     "data": {
      "text/plain": [
       "<pyplasm.xgepy.Hpc; proxy of <Swig Object of type 'std::shared_ptr< Hpc > *' at 0x000000000A579C60> >"
      ]
     },
     "execution_count": 28,
     "metadata": {},
     "output_type": "execute_result"
    }
   ],
   "source": [
    "VIEW(STAR (5))"
   ]
  },
  {
   "cell_type": "code",
   "execution_count": 27,
   "metadata": {
    "collapsed": false
   },
   "outputs": [
    {
     "ename": "TypeError",
     "evalue": "in method 'Plasm_getSpaceDim', argument 1 of type 'std::shared_ptr< Hpc >'",
     "output_type": "error",
     "traceback": [
      "\u001b[0;31m---------------------------------------------------------------------------\u001b[0m",
      "\u001b[0;31mTypeError\u001b[0m                                 Traceback (most recent call last)",
      "\u001b[0;32m<ipython-input-27-1b883b609a0e>\u001b[0m in \u001b[0;36m<module>\u001b[0;34m()\u001b[0m\n\u001b[1;32m      1\u001b[0m \u001b[0mVIEW\u001b[0m\u001b[1;33m(\u001b[0m\u001b[0mcono\u001b[0m\u001b[1;33m)\u001b[0m\u001b[1;33m\u001b[0m\u001b[0m\n\u001b[0;32m----> 2\u001b[0;31m \u001b[0mVIEW\u001b[0m\u001b[1;33m(\u001b[0m\u001b[0mFINITECONE\u001b[0m\u001b[1;33m(\u001b[0m\u001b[1;36m3\u001b[0m\u001b[1;33m)\u001b[0m\u001b[1;33m(\u001b[0m\u001b[0mcono\u001b[0m\u001b[1;33m)\u001b[0m\u001b[1;33m)\u001b[0m\u001b[1;33m\u001b[0m\u001b[0m\n\u001b[0m\u001b[1;32m      3\u001b[0m \u001b[0mVIEW\u001b[0m\u001b[1;33m(\u001b[0m\u001b[0mMATHOM\u001b[0m\u001b[1;33m(\u001b[0m\u001b[1;33m[\u001b[0m\u001b[1;33m[\u001b[0m\u001b[1;36m1\u001b[0m\u001b[1;33m,\u001b[0m\u001b[1;36m2\u001b[0m\u001b[1;33m]\u001b[0m\u001b[1;33m,\u001b[0m\u001b[1;33m[\u001b[0m\u001b[1;36m3\u001b[0m\u001b[1;33m,\u001b[0m\u001b[1;36m4\u001b[0m\u001b[1;33m]\u001b[0m\u001b[1;33m]\u001b[0m\u001b[1;33m)\u001b[0m\u001b[1;33m)\u001b[0m\u001b[1;33m\u001b[0m\u001b[0m\n",
      "\u001b[0;32mc:\\program files\\python27\\lib\\site-packages\\pyplasm\\fenvs.py\u001b[0m in \u001b[0;36mFINITECONE\u001b[0;34m(pol)\u001b[0m\n\u001b[1;32m   2383\u001b[0m \u001b[1;33m\u001b[0m\u001b[0m\n\u001b[1;32m   2384\u001b[0m \u001b[1;32mdef\u001b[0m \u001b[0mFINITECONE\u001b[0m \u001b[1;33m(\u001b[0m\u001b[0mpol\u001b[0m\u001b[1;33m)\u001b[0m\u001b[1;33m:\u001b[0m\u001b[1;33m\u001b[0m\u001b[0m\n\u001b[0;32m-> 2385\u001b[0;31m         \u001b[0mpoint\u001b[0m\u001b[1;33m=\u001b[0m\u001b[1;33m[\u001b[0m\u001b[1;36m0\u001b[0m \u001b[1;32mfor\u001b[0m \u001b[0mi\u001b[0m \u001b[1;32min\u001b[0m \u001b[0mrange\u001b[0m\u001b[1;33m(\u001b[0m\u001b[0mRN\u001b[0m\u001b[1;33m(\u001b[0m\u001b[0mpol\u001b[0m\u001b[1;33m)\u001b[0m\u001b[1;33m)\u001b[0m\u001b[1;33m]\u001b[0m\u001b[1;33m\u001b[0m\u001b[0m\n\u001b[0m\u001b[1;32m   2386\u001b[0m         \u001b[1;32mreturn\u001b[0m \u001b[0mJOIN\u001b[0m\u001b[1;33m(\u001b[0m\u001b[1;33m[\u001b[0m\u001b[0mpol\u001b[0m\u001b[1;33m,\u001b[0m\u001b[0mMK\u001b[0m\u001b[1;33m(\u001b[0m\u001b[0mpoint\u001b[0m\u001b[1;33m)\u001b[0m\u001b[1;33m]\u001b[0m\u001b[1;33m)\u001b[0m\u001b[1;33m\u001b[0m\u001b[0m\n\u001b[1;32m   2387\u001b[0m \u001b[1;33m\u001b[0m\u001b[0m\n",
      "\u001b[0;32mc:\\program files\\python27\\lib\\site-packages\\pyplasm\\fenvs.py\u001b[0m in \u001b[0;36mRN\u001b[0;34m(pol)\u001b[0m\n\u001b[1;32m    976\u001b[0m \u001b[1;31m# ===================================================\u001b[0m\u001b[1;33m\u001b[0m\u001b[1;33m\u001b[0m\u001b[0m\n\u001b[1;32m    977\u001b[0m \u001b[1;33m\u001b[0m\u001b[0m\n\u001b[0;32m--> 978\u001b[0;31m \u001b[1;32mdef\u001b[0m \u001b[0mRN\u001b[0m \u001b[1;33m(\u001b[0m\u001b[0mpol\u001b[0m\u001b[1;33m)\u001b[0m\u001b[1;33m:\u001b[0m \u001b[1;32mreturn\u001b[0m \u001b[0mPlasm\u001b[0m\u001b[1;33m.\u001b[0m\u001b[0mgetSpaceDim\u001b[0m\u001b[1;33m(\u001b[0m\u001b[0mpol\u001b[0m\u001b[1;33m)\u001b[0m\u001b[1;33m\u001b[0m\u001b[0m\n\u001b[0m\u001b[1;32m    979\u001b[0m \u001b[1;32mdef\u001b[0m \u001b[0mDIM\u001b[0m \u001b[1;33m(\u001b[0m\u001b[0mpol\u001b[0m\u001b[1;33m)\u001b[0m\u001b[1;33m:\u001b[0m\u001b[1;32mreturn\u001b[0m \u001b[0mPlasm\u001b[0m\u001b[1;33m.\u001b[0m\u001b[0mgetPointDim\u001b[0m\u001b[1;33m(\u001b[0m\u001b[0mpol\u001b[0m\u001b[1;33m)\u001b[0m\u001b[1;33m\u001b[0m\u001b[0m\n\u001b[1;32m    980\u001b[0m \u001b[1;33m\u001b[0m\u001b[0m\n",
      "\u001b[0;31mTypeError\u001b[0m: in method 'Plasm_getSpaceDim', argument 1 of type 'std::shared_ptr< Hpc >'"
     ]
    }
   ],
   "source": [
    "VIEW(cono)\n",
    "VIEW(FINITECONE(cono))\n",
    "VIEW(MATHOM([[1,2],[3,4]]))"
   ]
  },
  {
   "cell_type": "code",
   "execution_count": 22,
   "metadata": {
    "collapsed": false
   },
   "outputs": [
    {
     "ename": "TypeError",
     "evalue": "in method 'Plasm_ukpol', argument 1 of type 'std::shared_ptr< Hpc >'",
     "output_type": "error",
     "traceback": [
      "\u001b[0;31m---------------------------------------------------------------------------\u001b[0m",
      "\u001b[0;31mTypeError\u001b[0m                                 Traceback (most recent call last)",
      "\u001b[0;32m<ipython-input-22-7beaae97ca45>\u001b[0m in \u001b[0;36m<module>\u001b[0;34m()\u001b[0m\n\u001b[0;32m----> 1\u001b[0;31m \u001b[0mVIEW\u001b[0m\u001b[1;33m(\u001b[0m\u001b[0mPYRAMID\u001b[0m\u001b[1;33m(\u001b[0m\u001b[0mcubo\u001b[0m\u001b[1;33m)\u001b[0m\u001b[1;33m(\u001b[0m\u001b[1;36m2\u001b[0m\u001b[1;33m)\u001b[0m\u001b[1;33m)\u001b[0m\u001b[1;33m\u001b[0m\u001b[0m\n\u001b[0m",
      "\u001b[0;32mc:\\program files\\python27\\lib\\site-packages\\pyplasm\\fenvs.py\u001b[0m in \u001b[0;36mPYRAMID0\u001b[0;34m(pol)\u001b[0m\n\u001b[1;32m   2886\u001b[0m \u001b[1;32mdef\u001b[0m \u001b[0mPYRAMID\u001b[0m \u001b[1;33m(\u001b[0m\u001b[0mH\u001b[0m\u001b[1;33m)\u001b[0m\u001b[1;33m:\u001b[0m\u001b[1;33m\u001b[0m\u001b[0m\n\u001b[1;32m   2887\u001b[0m         \u001b[1;32mdef\u001b[0m \u001b[0mPYRAMID0\u001b[0m\u001b[1;33m(\u001b[0m\u001b[0mpol\u001b[0m\u001b[1;33m)\u001b[0m\u001b[1;33m:\u001b[0m\u001b[1;33m\u001b[0m\u001b[0m\n\u001b[0;32m-> 2888\u001b[0;31m                 \u001b[0mbarycenter\u001b[0m\u001b[1;33m=\u001b[0m\u001b[0mMEANPOINT\u001b[0m\u001b[1;33m(\u001b[0m\u001b[0mUKPOL\u001b[0m\u001b[1;33m(\u001b[0m\u001b[0mpol\u001b[0m\u001b[1;33m)\u001b[0m\u001b[1;33m[\u001b[0m\u001b[1;36m0\u001b[0m\u001b[1;33m]\u001b[0m\u001b[1;33m)\u001b[0m\u001b[1;33m\u001b[0m\u001b[0m\n\u001b[0m\u001b[1;32m   2889\u001b[0m                 \u001b[1;32mreturn\u001b[0m \u001b[0mJOIN\u001b[0m\u001b[1;33m(\u001b[0m\u001b[1;33m[\u001b[0m\u001b[0mMK\u001b[0m\u001b[1;33m(\u001b[0m\u001b[0mbarycenter\u001b[0m\u001b[1;33m+\u001b[0m\u001b[1;33m[\u001b[0m\u001b[0mH\u001b[0m\u001b[1;33m]\u001b[0m\u001b[1;33m)\u001b[0m\u001b[1;33m,\u001b[0m\u001b[0mpol\u001b[0m\u001b[1;33m]\u001b[0m\u001b[1;33m)\u001b[0m\u001b[1;33m\u001b[0m\u001b[0m\n\u001b[1;32m   2890\u001b[0m         \u001b[1;32mreturn\u001b[0m \u001b[0mPYRAMID0\u001b[0m\u001b[1;33m\u001b[0m\u001b[0m\n",
      "\u001b[0;32mc:\\program files\\python27\\lib\\site-packages\\pyplasm\\fenvs.py\u001b[0m in \u001b[0;36mUKPOL\u001b[0;34m(pol)\u001b[0m\n\u001b[1;32m   1017\u001b[0m         \u001b[0mv\u001b[0m\u001b[1;33m=\u001b[0m \u001b[0mStdVectorFloat\u001b[0m\u001b[1;33m(\u001b[0m\u001b[1;33m)\u001b[0m\u001b[1;33m\u001b[0m\u001b[0m\n\u001b[1;32m   1018\u001b[0m         \u001b[0mu\u001b[0m \u001b[1;33m=\u001b[0m \u001b[0mStdVectorStdVectorInt\u001b[0m\u001b[1;33m(\u001b[0m\u001b[1;33m)\u001b[0m\u001b[1;33m\u001b[0m\u001b[0m\n\u001b[0;32m-> 1019\u001b[0;31m         \u001b[0mpointdim\u001b[0m\u001b[1;33m=\u001b[0m\u001b[0mPlasm\u001b[0m\u001b[1;33m.\u001b[0m\u001b[0mukpol\u001b[0m\u001b[1;33m(\u001b[0m\u001b[0mpol\u001b[0m\u001b[1;33m,\u001b[0m \u001b[0mv\u001b[0m\u001b[1;33m,\u001b[0m \u001b[0mu\u001b[0m\u001b[1;33m)\u001b[0m\u001b[1;33m\u001b[0m\u001b[0m\n\u001b[0m\u001b[1;32m   1020\u001b[0m         \u001b[0mpoints\u001b[0m\u001b[1;33m=\u001b[0m\u001b[1;33m[\u001b[0m\u001b[1;33m]\u001b[0m\u001b[1;33m\u001b[0m\u001b[0m\n\u001b[1;32m   1021\u001b[0m         \u001b[1;32mfor\u001b[0m \u001b[0mi\u001b[0m \u001b[1;32min\u001b[0m \u001b[0mxrange\u001b[0m\u001b[1;33m(\u001b[0m\u001b[1;36m0\u001b[0m\u001b[1;33m,\u001b[0m \u001b[0mlen\u001b[0m\u001b[1;33m(\u001b[0m\u001b[0mv\u001b[0m\u001b[1;33m)\u001b[0m\u001b[1;33m,\u001b[0m \u001b[0mpointdim\u001b[0m\u001b[1;33m)\u001b[0m\u001b[1;33m:\u001b[0m\u001b[0mpoints\u001b[0m\u001b[1;33m+=\u001b[0m\u001b[1;33m[\u001b[0m\u001b[1;33m[\u001b[0m\u001b[0mv\u001b[0m\u001b[1;33m[\u001b[0m\u001b[0mi\u001b[0m\u001b[1;33m]\u001b[0m \u001b[1;32mfor\u001b[0m \u001b[0mi\u001b[0m \u001b[1;32min\u001b[0m \u001b[0mrange\u001b[0m\u001b[1;33m(\u001b[0m\u001b[0mi\u001b[0m\u001b[1;33m,\u001b[0m\u001b[0mi\u001b[0m\u001b[1;33m+\u001b[0m\u001b[0mpointdim\u001b[0m\u001b[1;33m)\u001b[0m\u001b[1;33m]\u001b[0m\u001b[1;33m]\u001b[0m\u001b[1;33m\u001b[0m\u001b[0m\n",
      "\u001b[0;31mTypeError\u001b[0m: in method 'Plasm_ukpol', argument 1 of type 'std::shared_ptr< Hpc >'"
     ]
    }
   ],
   "source": [
    "VIEW(PYRAMID(cubo)(2))"
   ]
  },
  {
   "cell_type": "code",
   "execution_count": 25,
   "metadata": {
    "collapsed": false
   },
   "outputs": [
    {
     "ename": "TypeError",
     "evalue": "in method 'Plasm_ukpolf', argument 1 of type 'std::shared_ptr< Hpc >'",
     "output_type": "error",
     "traceback": [
      "\u001b[0;31m---------------------------------------------------------------------------\u001b[0m",
      "\u001b[0;31mTypeError\u001b[0m                                 Traceback (most recent call last)",
      "\u001b[0;32m<ipython-input-25-99e0fa940e36>\u001b[0m in \u001b[0;36m<module>\u001b[0;34m()\u001b[0m\n\u001b[0;32m----> 1\u001b[0;31m \u001b[0mVIEW\u001b[0m\u001b[1;33m(\u001b[0m\u001b[0mPOLAR\u001b[0m\u001b[1;33m(\u001b[0m\u001b[0mSWEEP\u001b[0m\u001b[1;33m(\u001b[0m\u001b[0mcubo\u001b[0m\u001b[1;33m)\u001b[0m\u001b[1;33m)\u001b[0m\u001b[1;33m)\u001b[0m\u001b[1;33m\u001b[0m\u001b[0m\n\u001b[0m",
      "\u001b[0;32mc:\\program files\\python27\\lib\\site-packages\\pyplasm\\fenvs.py\u001b[0m in \u001b[0;36mPOLAR\u001b[0;34m(pol, precision)\u001b[0m\n\u001b[1;32m   3054\u001b[0m \u001b[1;33m\u001b[0m\u001b[0m\n\u001b[1;32m   3055\u001b[0m \u001b[1;32mdef\u001b[0m \u001b[0mPOLAR\u001b[0m\u001b[1;33m(\u001b[0m\u001b[0mpol\u001b[0m\u001b[1;33m,\u001b[0m\u001b[0mprecision\u001b[0m\u001b[1;33m=\u001b[0m\u001b[1;36m1e-6\u001b[0m\u001b[1;33m)\u001b[0m\u001b[1;33m:\u001b[0m\u001b[1;33m\u001b[0m\u001b[0m\n\u001b[0;32m-> 3056\u001b[0;31m         \u001b[0mfaces\u001b[0m\u001b[1;33m,\u001b[0m\u001b[0mcells\u001b[0m\u001b[1;33m,\u001b[0m\u001b[0mpols\u001b[0m\u001b[1;33m=\u001b[0m\u001b[0mUKPOLF\u001b[0m\u001b[1;33m(\u001b[0m\u001b[0mpol\u001b[0m\u001b[1;33m)\u001b[0m\u001b[1;33m\u001b[0m\u001b[0m\n\u001b[0m\u001b[1;32m   3057\u001b[0m         \u001b[1;32mfor\u001b[0m \u001b[0mi\u001b[0m \u001b[1;32min\u001b[0m \u001b[0mrange\u001b[0m\u001b[1;33m(\u001b[0m\u001b[0mlen\u001b[0m\u001b[1;33m(\u001b[0m\u001b[0mfaces\u001b[0m\u001b[1;33m)\u001b[0m\u001b[1;33m)\u001b[0m\u001b[1;33m:\u001b[0m\u001b[1;33m\u001b[0m\u001b[0m\n\u001b[1;32m   3058\u001b[0m                 \u001b[0mmod\u001b[0m\u001b[1;33m=\u001b[0m\u001b[1;33m-\u001b[0m\u001b[1;36m1\u001b[0m\u001b[1;33m*\u001b[0m\u001b[0mfaces\u001b[0m\u001b[1;33m[\u001b[0m\u001b[0mi\u001b[0m\u001b[1;33m]\u001b[0m\u001b[1;33m[\u001b[0m\u001b[1;36m0\u001b[0m\u001b[1;33m]\u001b[0m\u001b[1;33m\u001b[0m\u001b[0m\n",
      "\u001b[0;32mc:\\program files\\python27\\lib\\site-packages\\pyplasm\\fenvs.py\u001b[0m in \u001b[0;36mUKPOLF\u001b[0;34m(pol)\u001b[0m\n\u001b[1;32m   1046\u001b[0m         \u001b[0mf\u001b[0m \u001b[1;33m=\u001b[0m \u001b[0mStdVectorFloat\u001b[0m\u001b[1;33m(\u001b[0m\u001b[1;33m)\u001b[0m\u001b[1;33m\u001b[0m\u001b[0m\n\u001b[1;32m   1047\u001b[0m         \u001b[0mu\u001b[0m \u001b[1;33m=\u001b[0m \u001b[0mStdVectorStdVectorInt\u001b[0m\u001b[1;33m(\u001b[0m\u001b[1;33m)\u001b[0m\u001b[1;33m\u001b[0m\u001b[0m\n\u001b[0;32m-> 1048\u001b[0;31m         \u001b[0mpointdim\u001b[0m\u001b[1;33m=\u001b[0m\u001b[0mPlasm\u001b[0m\u001b[1;33m.\u001b[0m\u001b[0mukpolf\u001b[0m\u001b[1;33m(\u001b[0m\u001b[0mpol\u001b[0m\u001b[1;33m,\u001b[0m \u001b[0mf\u001b[0m\u001b[1;33m,\u001b[0m \u001b[0mu\u001b[0m\u001b[1;33m)\u001b[0m\u001b[1;33m\u001b[0m\u001b[0m\n\u001b[0m\u001b[1;32m   1049\u001b[0m         \u001b[0mfaces\u001b[0m\u001b[1;33m=\u001b[0m\u001b[1;33m[\u001b[0m\u001b[1;33m]\u001b[0m\u001b[1;33m\u001b[0m\u001b[0m\n\u001b[1;32m   1050\u001b[0m         \u001b[1;32mfor\u001b[0m \u001b[0mi\u001b[0m \u001b[1;32min\u001b[0m \u001b[0mxrange\u001b[0m\u001b[1;33m(\u001b[0m\u001b[1;36m0\u001b[0m\u001b[1;33m,\u001b[0m \u001b[0mlen\u001b[0m\u001b[1;33m(\u001b[0m\u001b[0mf\u001b[0m\u001b[1;33m)\u001b[0m\u001b[1;33m,\u001b[0m \u001b[0mpointdim\u001b[0m\u001b[1;33m+\u001b[0m\u001b[1;36m1\u001b[0m\u001b[1;33m)\u001b[0m\u001b[1;33m:\u001b[0m\u001b[1;33m\u001b[0m\u001b[0m\n",
      "\u001b[0;31mTypeError\u001b[0m: in method 'Plasm_ukpolf', argument 1 of type 'std::shared_ptr< Hpc >'"
     ]
    }
   ],
   "source": [
    "VIEW(POLAR(SWEEP(cubo)))"
   ]
  },
  {
   "cell_type": "code",
   "execution_count": null,
   "metadata": {
    "collapsed": true
   },
   "outputs": [],
   "source": []
  }
 ],
 "metadata": {
  "kernelspec": {
   "display_name": "Python 2",
   "language": "python",
   "name": "python2"
  },
  "language_info": {
   "codemirror_mode": {
    "name": "ipython",
    "version": 2
   },
   "file_extension": ".py",
   "mimetype": "text/x-python",
   "name": "python",
   "nbconvert_exporter": "python",
   "pygments_lexer": "ipython2",
   "version": "2.7.12"
  }
 },
 "nbformat": 4,
 "nbformat_minor": 1
}
