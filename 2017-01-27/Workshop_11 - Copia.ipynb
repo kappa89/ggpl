{
 "cells": [
  {
   "cell_type": "code",
   "execution_count": 1,
   "metadata": {
    "collapsed": false
   },
   "outputs": [
    {
     "name": "stdout",
     "output_type": "stream",
     "text": [
      "Evaluating fenvs.py..\n",
      "...fenvs.py imported in 0.00353836170401 seconds\n"
     ]
    }
   ],
   "source": [
    "%run \"../2017-01-27/my_map.ipynb\""
   ]
  },
  {
   "cell_type": "code",
   "execution_count": 2,
   "metadata": {
    "collapsed": false
   },
   "outputs": [],
   "source": [
    "start = time.time()\n",
    "# PATHS\n",
    "pathRoads = \"C:/Users/Kappa/Desktop/LaboratorioGrafica/2017-01-27/illustrator/strade/roads.ai\"\n",
    "pathRiver = \"C:/Users/Kappa/Desktop/LaboratorioGrafica/2017-01-27/illustrator/fiume/river.ai\"\n",
    "pathCase = \"C:/Users/Kappa/Desktop/LaboratorioGrafica/2017-01-27/lines/housesTest.lines\"\n",
    "pathTextureMap = \"C:/Users/Kappa/Desktop/LaboratorioGrafica/2017-01-27/piantina/piantina01.jpg\""
   ]
  },
  {
   "cell_type": "code",
   "execution_count": 3,
   "metadata": {
    "collapsed": false
   },
   "outputs": [],
   "source": [
    "# STRADE\n",
    "roads = createRoads(pathRoads, 7)\n",
    "roads = T(3)(10.01)(roads)\n",
    "roads = COLOR(GREY)(roads)\n",
    "\n",
    "river = createRiver(pathRiver, 15)\n",
    "river = T(3)(10.0)(river)\n",
    "river = OFFSET([0.0, 0.0, -5.0])(river)\n",
    "river = COLOR(BLUE)(river)\n",
    "\n",
    "base = DIFF([base, river])\n",
    "base = TEXTURE([pathTextureMap, FALSE])(base)\n",
    "\n",
    "# DISTRETTO\n",
    "#district = T([2,3])([354,10.01])(S(2)(-1)(readHouses(pathCase)))\n",
    "\n",
    "\n",
    "\n",
    "#cubi = T([2,3])([354,10.01])(S(2)(-1)(creaCubi(pathCase)))\n",
    "\n",
    "tmp = []\n",
    "tmp.append(base)\n",
    "tmp.append(roads)\n",
    "tmp.append(river)\n",
    "#tmp.append(district)\n",
    "#tmp.append(cubi)\n",
    "tmp = STRUCT(tmp)\n",
    "\n",
    "#TEMPO PRIMA DELLA VISTA\n",
    "end = time.time()\n",
    "\n",
    "VIEW(tmp)\n",
    "\n",
    "#TEMPO PRIMA DELLA VISTA\n",
    "end2 = time.time()"
   ]
  },
  {
   "cell_type": "code",
   "execution_count": null,
   "metadata": {
    "collapsed": true
   },
   "outputs": [],
   "source": []
  }
 ],
 "metadata": {
  "kernelspec": {
   "display_name": "Python 2",
   "language": "python",
   "name": "python2"
  },
  "language_info": {
   "codemirror_mode": {
    "name": "ipython",
    "version": 2
   },
   "file_extension": ".py",
   "mimetype": "text/x-python",
   "name": "python",
   "nbconvert_exporter": "python",
   "pygments_lexer": "ipython2",
   "version": "2.7.12"
  }
 },
 "nbformat": 4,
 "nbformat_minor": 1
}
