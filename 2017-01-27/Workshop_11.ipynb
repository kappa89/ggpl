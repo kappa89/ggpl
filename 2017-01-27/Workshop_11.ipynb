{
 "cells": [
  {
   "cell_type": "markdown",
   "metadata": {},
   "source": [
    "# District\n",
    "Non posso generare più case ed alberi poiché avendo scelto piani formati da più appartamenti e i palazzi sono di svariati piani (fino a 10), saturo la memoria del mio computer di 8GB.\n",
    "![screenshot03](./img/Screenshot_3.png)\n",
    "![screenshot04](./img/Screenshot_4.png)\n",
    "![screenshot05](./img/Screenshot_5.png)\n",
    "![screenshot06](./img/Screenshot_6.png)\n",
    "![screenshot08](./img/Screenshot_8.png)\n",
    "![screenshot01](./img/Screenshot_9.png)\n",
    "![screenshot01](./img/Screenshot_10.png)\n",
    "![screenshot01](./img/Screenshot_11.png)\n",
    "\n",
    "# TODO list\n",
    "1. modificare balcone\n",
    "2. scalare erba\n",
    "3. aggiungere altre case\n",
    "4. aggiungere altri alberi"
   ]
  },
  {
   "cell_type": "code",
   "execution_count": 1,
   "metadata": {
    "collapsed": false
   },
   "outputs": [
    {
     "name": "stdout",
     "output_type": "stream",
     "text": [
      "Evaluating fenvs.py..\n",
      "...fenvs.py imported in 0.0151848901171 seconds\n"
     ]
    }
   ],
   "source": [
    "%run \"../2017-01-27/my_map.ipynb\""
   ]
  },
  {
   "cell_type": "code",
   "execution_count": 2,
   "metadata": {
    "collapsed": false
   },
   "outputs": [],
   "source": [
    "# PATHS\n",
    "pathRoads = \"C:/Users/Kappa/Desktop/LaboratorioGrafica/2017-01-27/illustrator/strade/roads.ai\"\n",
    "pathRiver = \"C:/Users/Kappa/Desktop/LaboratorioGrafica/2017-01-27/illustrator/fiume/river.ai\"\n",
    "pathHouses = \"C:/Users/Kappa/Desktop/LaboratorioGrafica/2017-01-27/lines/housesTest.lines\"\n",
    "pathTrees = \"C:/Users/Kappa/Desktop/LaboratorioGrafica/2017-01-27/lines/trees.lines\"\n",
    "pathGrass = \"C:/Users/Kappa/Desktop/LaboratorioGrafica/2017-01-27/texture/strada/grass.jpg\""
   ]
  },
  {
   "cell_type": "code",
   "execution_count": 3,
   "metadata": {
    "collapsed": true
   },
   "outputs": [],
   "source": [
    "# PIANTINA\n",
    "scroll = \"C:/Users/Kappa/Desktop/LaboratorioGrafica/2017-01-27/piantina/piantina01.jpg\""
   ]
  },
  {
   "cell_type": "code",
   "execution_count": 4,
   "metadata": {
    "collapsed": true
   },
   "outputs": [],
   "source": [
    "start = time.time()"
   ]
  },
  {
   "cell_type": "code",
   "execution_count": 5,
   "metadata": {
    "collapsed": false
   },
   "outputs": [],
   "source": [
    "\"\"\"function to create the district with river and bridge\n",
    "    the houses are align to the road curve \"\"\"\n",
    "def createDistrict():\n",
    "    # MAPPA\n",
    "    base = CUBOID([582,354,10])\n",
    "\n",
    "    # STRADE\n",
    "    roads = createRoads(pathRoads, 7)\n",
    "    roads = OFFSET([0.0, 0.0, 0.1])(roads)\n",
    "    roads = T(3)(9.2)(roads)\n",
    "    roads = TEXTURE([asfalto, TRUE, TRUE,10,10,0,10,10,0,0])(roads)\n",
    "\n",
    "    # FIUME\n",
    "    river = createRiver(pathRiver, 15)\n",
    "    river = T(3)(10.0)(river)\n",
    "    riverbad = OFFSET([0.0, 0.0, -7.0])(river) \n",
    "    river = OFFSET([0.0, 0.0, -5.0])(river)\n",
    "    river = T(3)(-2.0)(river)\n",
    "    river = COLOR(BLUE)(river)\n",
    "\n",
    "\n",
    "    base = DIFF([base, riverbad])\n",
    "    base = DIFF([base, roads])\n",
    "    base = TEXTURE([pathGrass, TRUE, TRUE,10,10,0,100,100,0,0])(roads)\n",
    "    VIEW(base)\n",
    "\n",
    "    # DISTRETTO\n",
    "    district = T([2,3])([354,10.01])(S(2)(-1)(readHouses(pathHouses)))\n",
    "\n",
    "    forest = S(2)(-1)(readForest(pathTrees))\n",
    "    forest = T([2,3])([354, 10.01])(forest)\n",
    "\n",
    "    #cubi = T([2,3])([354,10.01])(S(2)(-1)(creaCubi(pathHouse)))\n",
    "\n",
    "    tmp = []\n",
    "    tmp.append(base)\n",
    "    tmp.append(roads)\n",
    "    tmp.append(river)\n",
    "\n",
    "    tmp.append(district)\n",
    "    tmp.append(forest)\n",
    "    return STRUCT(tmp)"
   ]
  },
  {
   "cell_type": "code",
   "execution_count": 6,
   "metadata": {
    "collapsed": true
   },
   "outputs": [],
   "source": [
    "end = time.time()"
   ]
  },
  {
   "cell_type": "code",
   "execution_count": 7,
   "metadata": {
    "collapsed": false
   },
   "outputs": [
    {
     "ename": "IOError",
     "evalue": "[Errno 2] No such file or directory: 'C:/Users/Kappa/Desktop/LaboratorioGrafica/2017-01-27/illustrator/strade/roads.ai'",
     "output_type": "error",
     "traceback": [
      "\u001b[0;31m---------------------------------------------------------------------------\u001b[0m",
      "\u001b[0;31mIOError\u001b[0m                                   Traceback (most recent call last)",
      "\u001b[0;32m<ipython-input-7-d5f06aade628>\u001b[0m in \u001b[0;36m<module>\u001b[0;34m()\u001b[0m\n\u001b[0;32m----> 1\u001b[0;31m \u001b[0mVIEW\u001b[0m\u001b[1;33m(\u001b[0m\u001b[0mcreateDistrict\u001b[0m\u001b[1;33m(\u001b[0m\u001b[1;33m)\u001b[0m\u001b[1;33m)\u001b[0m\u001b[1;33m\u001b[0m\u001b[0m\n\u001b[0m",
      "\u001b[0;32m<ipython-input-5-2d931ff08433>\u001b[0m in \u001b[0;36mcreateDistrict\u001b[0;34m()\u001b[0m\n\u001b[1;32m      6\u001b[0m \u001b[1;33m\u001b[0m\u001b[0m\n\u001b[1;32m      7\u001b[0m     \u001b[1;31m# STRADE\u001b[0m\u001b[1;33m\u001b[0m\u001b[1;33m\u001b[0m\u001b[0m\n\u001b[0;32m----> 8\u001b[0;31m     \u001b[0mroads\u001b[0m \u001b[1;33m=\u001b[0m \u001b[0mcreateRoads\u001b[0m\u001b[1;33m(\u001b[0m\u001b[0mpathRoads\u001b[0m\u001b[1;33m,\u001b[0m \u001b[1;36m7\u001b[0m\u001b[1;33m)\u001b[0m\u001b[1;33m\u001b[0m\u001b[0m\n\u001b[0m\u001b[1;32m      9\u001b[0m     \u001b[0mroads\u001b[0m \u001b[1;33m=\u001b[0m \u001b[0mOFFSET\u001b[0m\u001b[1;33m(\u001b[0m\u001b[1;33m[\u001b[0m\u001b[1;36m0.0\u001b[0m\u001b[1;33m,\u001b[0m \u001b[1;36m0.0\u001b[0m\u001b[1;33m,\u001b[0m \u001b[1;36m0.1\u001b[0m\u001b[1;33m]\u001b[0m\u001b[1;33m)\u001b[0m\u001b[1;33m(\u001b[0m\u001b[0mroads\u001b[0m\u001b[1;33m)\u001b[0m\u001b[1;33m\u001b[0m\u001b[0m\n\u001b[1;32m     10\u001b[0m     \u001b[0mroads\u001b[0m \u001b[1;33m=\u001b[0m \u001b[0mT\u001b[0m\u001b[1;33m(\u001b[0m\u001b[1;36m3\u001b[0m\u001b[1;33m)\u001b[0m\u001b[1;33m(\u001b[0m\u001b[1;36m9.2\u001b[0m\u001b[1;33m)\u001b[0m\u001b[1;33m(\u001b[0m\u001b[0mroads\u001b[0m\u001b[1;33m)\u001b[0m\u001b[1;33m\u001b[0m\u001b[0m\n",
      "\u001b[0;32m<ipython-input-1-4f1e271f4c98>\u001b[0m in \u001b[0;36mcreateRoads\u001b[0;34m(path, width)\u001b[0m\n\u001b[1;32m      1\u001b[0m \u001b[1;34m\"\"\"create roads from .lines\"\"\"\u001b[0m\u001b[1;33m\u001b[0m\u001b[0m\n\u001b[1;32m      2\u001b[0m \u001b[1;32mdef\u001b[0m \u001b[0mcreateRoads\u001b[0m\u001b[1;33m(\u001b[0m\u001b[0mpath\u001b[0m\u001b[1;33m,\u001b[0m \u001b[0mwidth\u001b[0m\u001b[1;33m)\u001b[0m\u001b[1;33m:\u001b[0m\u001b[1;33m\u001b[0m\u001b[0m\n\u001b[0;32m----> 3\u001b[0;31m     \u001b[0mpoints\u001b[0m \u001b[1;33m=\u001b[0m \u001b[0mreadIllustratorFile\u001b[0m\u001b[1;33m(\u001b[0m\u001b[0mpath\u001b[0m\u001b[1;33m)\u001b[0m\u001b[1;33m\u001b[0m\u001b[0m\n\u001b[0m\u001b[1;32m      4\u001b[0m     \u001b[0mdomain\u001b[0m\u001b[1;33m=\u001b[0m\u001b[0mINTERVALS\u001b[0m\u001b[1;33m(\u001b[0m\u001b[1;36m1\u001b[0m\u001b[1;33m)\u001b[0m\u001b[1;33m(\u001b[0m\u001b[1;36m100\u001b[0m\u001b[1;33m)\u001b[0m\u001b[1;33m\u001b[0m\u001b[0m\n\u001b[1;32m      5\u001b[0m     \u001b[0mroads\u001b[0m \u001b[1;33m=\u001b[0m \u001b[1;33m[\u001b[0m\u001b[1;33m]\u001b[0m\u001b[1;33m\u001b[0m\u001b[0m\n",
      "\u001b[0;32m<ipython-input-1-1aa13da77782>\u001b[0m in \u001b[0;36mreadIllustratorFile\u001b[0;34m(file_name)\u001b[0m\n\u001b[1;32m      4\u001b[0m     \u001b[0mgroup\u001b[0m \u001b[1;33m=\u001b[0m \u001b[1;33m[\u001b[0m\u001b[1;33m]\u001b[0m\u001b[1;33m\u001b[0m\u001b[0m\n\u001b[1;32m      5\u001b[0m     \u001b[0mreading\u001b[0m \u001b[1;33m=\u001b[0m \u001b[0mFalse\u001b[0m\u001b[1;33m\u001b[0m\u001b[0m\n\u001b[0;32m----> 6\u001b[0;31m     \u001b[1;32mwith\u001b[0m \u001b[0mopen\u001b[0m\u001b[1;33m(\u001b[0m\u001b[0mfile_name\u001b[0m\u001b[1;33m,\u001b[0m \u001b[1;34m'rU'\u001b[0m\u001b[1;33m)\u001b[0m \u001b[1;32mas\u001b[0m \u001b[0mcsvfile\u001b[0m\u001b[1;33m:\u001b[0m\u001b[1;33m\u001b[0m\u001b[0m\n\u001b[0m\u001b[1;32m      7\u001b[0m         \u001b[0mbuildReader\u001b[0m \u001b[1;33m=\u001b[0m \u001b[0mcsv\u001b[0m\u001b[1;33m.\u001b[0m\u001b[0mreader\u001b[0m\u001b[1;33m(\u001b[0m\u001b[0mcsvfile\u001b[0m\u001b[1;33m,\u001b[0m \u001b[0mdelimiter\u001b[0m\u001b[1;33m=\u001b[0m\u001b[1;34m' '\u001b[0m\u001b[1;33m)\u001b[0m\u001b[1;33m\u001b[0m\u001b[0m\n\u001b[1;32m      8\u001b[0m         \u001b[1;32mfor\u001b[0m \u001b[0mrow\u001b[0m \u001b[1;32min\u001b[0m \u001b[0mbuildReader\u001b[0m\u001b[1;33m:\u001b[0m\u001b[1;33m\u001b[0m\u001b[0m\n",
      "\u001b[0;31mIOError\u001b[0m: [Errno 2] No such file or directory: 'C:/Users/Kappa/Desktop/LaboratorioGrafica/2017-01-27/illustrator/strade/roads.ai'"
     ]
    }
   ],
   "source": [
    "VIEW(createDistrict())"
   ]
  },
  {
   "cell_type": "code",
   "execution_count": null,
   "metadata": {
    "collapsed": false
   },
   "outputs": [],
   "source": [
    "print x"
   ]
  }
 ],
 "metadata": {
  "kernelspec": {
   "display_name": "Python 2",
   "language": "python",
   "name": "python2"
  },
  "language_info": {
   "codemirror_mode": {
    "name": "ipython",
    "version": 2
   },
   "file_extension": ".py",
   "mimetype": "text/x-python",
   "name": "python",
   "nbconvert_exporter": "python",
   "pygments_lexer": "ipython2",
   "version": "2.7.12"
  }
 },
 "nbformat": 4,
 "nbformat_minor": 1
}
