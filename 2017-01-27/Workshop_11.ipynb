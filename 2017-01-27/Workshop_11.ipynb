{
 "cells": [
  {
   "cell_type": "markdown",
   "metadata": {},
   "source": [
    "# District\n",
    "Non posso generare più case ed alberi poiché avendo scelto piani formati da più appartamenti e i palazzi sono di svariati piani (fino a 10), saturo la memoria del mio computer di 8GB.\n",
    "![screenshot03](./img/Screenshot_3.png)\n",
    "![screenshot04](./img/Screenshot_4.png)\n",
    "![screenshot05](./img/Screenshot_5.png)\n",
    "![screenshot06](./img/Screenshot_6.png)\n",
    "![screenshot08](./img/Screenshot_8.png)\n",
    "![screenshot01](./img/Screenshot_9.png)\n",
    "![screenshot01](./img/Screenshot_10.png)\n",
    "![screenshot01](./img/Screenshot_11.png)"
   ]
  },
  {
   "cell_type": "code",
   "execution_count": 1,
   "metadata": {
    "collapsed": false
   },
   "outputs": [
    {
     "name": "stdout",
     "output_type": "stream",
     "text": [
      "Evaluating fenvs.py..\n",
      "...fenvs.py imported in 0.00378616990339 seconds\n"
     ]
    }
   ],
   "source": [
    "%run \"../2017-01-27/my_map.ipynb\""
   ]
  },
  {
   "cell_type": "code",
   "execution_count": 2,
   "metadata": {
    "collapsed": false
   },
   "outputs": [],
   "source": [
    "# PATHS\n",
    "pathRoads = \"C:/Users/Kappa/Desktop/LaboratorioGrafica/2017-01-27/illustrator/strade/roads.ai\"\n",
    "pathRiver = \"C:/Users/Kappa/Desktop/LaboratorioGrafica/2017-01-27/illustrator/fiume/river.ai\"\n",
    "pathHouses = \"C:/Users/Kappa/Desktop/LaboratorioGrafica/2017-01-27/lines/housesTest.lines\"\n",
    "pathTrees = \"C:/Users/Kappa/Desktop/LaboratorioGrafica/2017-01-27/lines/trees.lines\"\n",
    "pathGrass = \"C:/Users/Kappa/Desktop/LaboratorioGrafica/2017-01-27/texture/strada/grass.jpg\""
   ]
  },
  {
   "cell_type": "code",
   "execution_count": 3,
   "metadata": {
    "collapsed": true
   },
   "outputs": [],
   "source": [
    "# PIANTINA\n",
    "scroll = \"C:/Users/Kappa/Desktop/LaboratorioGrafica/2017-01-27/piantina/piantina01.jpg\""
   ]
  },
  {
   "cell_type": "code",
   "execution_count": 4,
   "metadata": {
    "collapsed": true
   },
   "outputs": [],
   "source": [
    "start = time.time()"
   ]
  },
  {
   "cell_type": "code",
   "execution_count": null,
   "metadata": {
    "collapsed": false
   },
   "outputs": [],
   "source": [
    "\"\"\"function to create the district with river and bridge\n",
    "    the houses are align to the road curve \"\"\"\n",
    "def createDistrict()\n",
    "    # MAPPA\n",
    "    base = CUBOID([582,354,10])\n",
    "\n",
    "    # STRADE\n",
    "    roads = createRoads(pathRoads, 7)\n",
    "    roads = OFFSET([0.0, 0.0, 0.1])(roads)\n",
    "    roads = T(3)(9.2)(roads)\n",
    "    roads = TEXTURE([asfalto, TRUE, TRUE,10,10,0,10,10,0,0])(roads)\n",
    "\n",
    "    # FIUME\n",
    "    river = createRiver(pathRiver, 15)\n",
    "    river = T(3)(10.0)(river)\n",
    "    riverbad = OFFSET([0.0, 0.0, -7.0])(river) \n",
    "    river = OFFSET([0.0, 0.0, -5.0])(river)\n",
    "    river = T(3)(-2.0)(river)\n",
    "    river = COLOR(BLUE)(river)\n",
    "\n",
    "\n",
    "    base = DIFF([base, riverbad])\n",
    "    base = DIFF([base, roads])\n",
    "    base = TEXTURE([scroll, FALSE])(base)\n",
    "\n",
    "    # DISTRETTO\n",
    "    district = T([2,3])([354,10.01])(S(2)(-1)(readHouses(pathHouses)))\n",
    "\n",
    "    forest = S(2)(-1)(readForest(pathTrees))\n",
    "    forest = T([2,3])([354, 10.01])(forest)\n",
    "\n",
    "    #cubi = T([2,3])([354,10.01])(S(2)(-1)(creaCubi(pathHouse)))\n",
    "\n",
    "    tmp = []\n",
    "    tmp.append(base)\n",
    "    tmp.append(roads)\n",
    "    tmp.append(river)\n",
    "\n",
    "    tmp.append(district)\n",
    "    tmp.append(forest)\n",
    "return STRUCT(tmp)"
   ]
  },
  {
   "cell_type": "code",
   "execution_count": null,
   "metadata": {
    "collapsed": true
   },
   "outputs": [],
   "source": [
    "end = time.time()"
   ]
  },
  {
   "cell_type": "code",
   "execution_count": 6,
   "metadata": {
    "collapsed": false
   },
   "outputs": [],
   "source": [
    "VIEW(tmp)"
   ]
  },
  {
   "cell_type": "code",
   "execution_count": 7,
   "metadata": {
    "collapsed": false
   },
   "outputs": [
    {
     "name": "stdout",
     "output_type": "stream",
     "text": [
      "627.748000145\n"
     ]
    }
   ],
   "source": [
    "print x"
   ]
  }
 ],
 "metadata": {
  "kernelspec": {
   "display_name": "Python 2",
   "language": "python",
   "name": "python2"
  },
  "language_info": {
   "codemirror_mode": {
    "name": "ipython",
    "version": 2
   },
   "file_extension": ".py",
   "mimetype": "text/x-python",
   "name": "python",
   "nbconvert_exporter": "python",
   "pygments_lexer": "ipython2",
   "version": "2.7.12"
  }
 },
 "nbformat": 4,
 "nbformat_minor": 1
}
