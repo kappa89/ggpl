{
 "cells": [
  {
   "cell_type": "markdown",
   "metadata": {},
   "source": [
    "# <center>window95 </center>\n",
    "![screenshot01](window.jpg)\n",
    "# Finestra rivisitata per workshop_08\n",
    "![screenshot01](Screenshot_5.png)\n",
    "# Porta rivisitata per workshop_08\n",
    "![screenshot01](Screenshot_6.png)\n",
    "![screenshot01](Screenshot_7.png)"
   ]
  },
  {
   "cell_type": "code",
   "execution_count": 6,
   "metadata": {
    "collapsed": false
   },
   "outputs": [],
   "source": [
    "%run \"../2016-11-25/MyWindowDoor.ipynb\"\n",
    "x = [0.6, 8.2, 0.6, 8.2, 0.6, 8.2, 0.6] # =27\n",
    "thinkness = 1\n",
    "z = [0.6, 4.25, 0.6, 4.25, 0.6, 4.25, 0.6, 4.25, 0.6] # =20\n",
    "\n",
    "boolean = [[1,1,1,1,1,1,1],[1,0,0,0,0,0,1],[1,1,1,1,1,1,1],[1,0,1,0,1,0,1],[1,1,1,1,1,1,1],[1,0,1,0,1,0,1],[1,1,1,1,1,1,1],[1,0,1,0,1,0,1],[1,1,1,1,1,1,1]]\n"
   ]
  },
  {
   "cell_type": "code",
   "execution_count": 7,
   "metadata": {
    "collapsed": false
   },
   "outputs": [
    {
     "name": "stdout",
     "output_type": "stream",
     "text": [
      "Child 3\n",
      "Child 3\n"
     ]
    },
    {
     "data": {
      "text/plain": [
       "<pyplasm.xgepy.Hpc; proxy of <Swig Object of type 'std::shared_ptr< Hpc > *' at 0x000000000B4C8060> >"
      ]
     },
     "execution_count": 7,
     "metadata": {},
     "output_type": "execute_result"
    }
   ],
   "source": [
    "s=aa=bb=cc = []\n",
    "\n",
    "a=ggpl_createDoor(20, 1, 25)\n",
    "s.append(a)\n",
    "s.append(T(2)(10))\n",
    "s.append(COLOR(RED)(CUBOID([10,10,10])))\n",
    "s.append(T([1,2])([50,-10]))\n",
    "\n",
    "b=ggpl_createMainDoor(36, 1, 25)\n",
    "s.append(b)\n",
    "s.append(T(2)(10))\n",
    "s.append(COLOR(RED)(CUBOID([10,10,10])))\n",
    "s.append(T([1,2])([50,-10]))\n",
    "\n",
    "c=ggpl_createWindow(x, thinkness, z, boolean)\n",
    "s.append(c)\n",
    "s.append(T(2)(10))\n",
    "s.append(COLOR(RED)(CUBOID([10,10,10])))\n",
    "s.append(T([1,2])([50,-10]))\n",
    "\n",
    "VIEW(STRUCT(s))"
   ]
  }
 ],
 "metadata": {
  "kernelspec": {
   "display_name": "Python 2",
   "language": "python",
   "name": "python2"
  },
  "language_info": {
   "codemirror_mode": {
    "name": "ipython",
    "version": 2
   },
   "file_extension": ".py",
   "mimetype": "text/x-python",
   "name": "python",
   "nbconvert_exporter": "python",
   "pygments_lexer": "ipython2",
   "version": "2.7.12"
  }
 },
 "nbformat": 4,
 "nbformat_minor": 1
}
