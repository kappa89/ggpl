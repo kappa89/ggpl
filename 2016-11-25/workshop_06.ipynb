{
 "cells": [
  {
   "cell_type": "markdown",
   "metadata": {},
   "source": [
    "# <center>window95 </center>\n",
    "![screenshot01](window.jpg)\n",
    "Finestra rivisitata per workshop_08\n",
    "![screenshot01](Screenshot_5.png)\n",
    "Porta rivisitata per workshop_08\n",
    "![screenshot01](Screenshot_6.png)\n",
    "![screenshot01](Screenshot_7.png)\n",
    "\n",
    "\n"
   ]
  },
  {
   "cell_type": "code",
   "execution_count": 1,
   "metadata": {
    "collapsed": false
   },
   "outputs": [
    {
     "name": "stdout",
     "output_type": "stream",
     "text": [
      "Evaluating fenvs.py..\n",
      "...fenvs.py imported in 0.00376364188526 seconds\n"
     ]
    }
   ],
   "source": [
    "%run \"../tools.ipynb\""
   ]
  },
  {
   "cell_type": "code",
   "execution_count": 2,
   "metadata": {
    "collapsed": false
   },
   "outputs": [],
   "source": [
    "#input function\n",
    "#x = [0.1, 1.0, 0.1, 1.0, 0.1, 1.0, 0.1]\n",
    "#z = [0.1, 2.0, 0.1, 1.0, 0.1, 1.0, 0.1, 1.0, 0.1]\n",
    "\n",
    "x = [0.6, 8.2, 0.6, 8.2, 0.6, 8.2, 0.6] # =27\n",
    "#thinkness = 5\n",
    "z = [0.6, 4.25, 0.6, 4.25, 0.6, 4.25, 0.6, 4.25, 0.6] # =20\n",
    "\n",
    "boolean = [[1,1,1,1,1,1,1],[1,0,0,0,0,0,1],[1,1,1,1,1,1,1],[1,0,1,0,1,0,1],[1,1,1,1,1,1,1],[1,0,1,0,1,0,1],[1,1,1,1,1,1,1],[1,0,1,0,1,0,1],[1,1,1,1,1,1,1]]\n",
    "\n",
    "# Material Glass\n",
    "# RGB Fiordaliso 171, 205, 239\n",
    "GLASS = intRGBColor([171, 205, 239])\n",
    "ambientRGBA = [0.670588,0.803922,0.937255,1.00000]\n",
    "diffuseRGBA = [0.670588,0.803922,0.937255,.500000]\n",
    "specularRGBA = [0.670588,0.803922,0.937255,1.00000]\n",
    "emissionRGBA = [0.670588,0.803922,0.937255,1.00000]\n",
    "shininess = 50"
   ]
  },
  {
   "cell_type": "code",
   "execution_count": 3,
   "metadata": {
    "collapsed": false
   },
   "outputs": [],
   "source": [
    "\"\"\"create window\"\"\"\n",
    "def ggpl_createWindow(x, thinkness, z, boolean):\n",
    "    glass = 0.05\n",
    "    struct = []\n",
    "    l = 0.0\n",
    "    for y in range(len(x)): \n",
    "        l = l + x[y]\n",
    "        #print l\n",
    "    #print \"larghezza: \"+str(l)\n",
    "    for j in range(len(boolean)):\n",
    "        #print \"___________\"\n",
    "        for i in range(len(boolean[j])):\n",
    "            #print \"x: \"+str(x[i])+\"\\ny: \"+str(z[j])+\"\\nboolean: \"+str(boolean[j][i])+\"\\n-------\"\n",
    "            a = x[i] \n",
    "            c = z[j] \n",
    "            b = thinkness\n",
    "            if(boolean[j][i] == 0):\n",
    "                b = glass\n",
    "                tmp = CUBOID([a, b, c])\n",
    "                tmp = material(ambientRGBA, diffuseRGBA, specularRGBA, emissionRGBA, shininess, tmp)\n",
    "                struct.append(T(2)(thinkness/2.0))\n",
    "                struct.append(tmp)\n",
    "                struct.append(T(2)(-thinkness/2.0))\n",
    "            else:\n",
    "                tmp = CUBOID([a, b, c])\n",
    "                tmp = COLOR(BROWN)(tmp)\n",
    "                struct.append(tmp)\n",
    "            struct.append(T(1)(x[i]))\n",
    "        struct.append(T(3)(z[j]))\n",
    "        struct.append(T(1)(-l))\n",
    "    return STRUCT(struct)"
   ]
  },
  {
   "cell_type": "markdown",
   "metadata": {
    "collapsed": false
   },
   "source": [
    "a = []\n",
    "a.append(ggpl_createWindow(x,0.3,z,boolean))\n",
    "a.append(T(2)(10))\n",
    "a.append(COLOR(RED)(CUBOID([10,10,10])))\n",
    "A = STRUCT(a)\n",
    "VIEW(A)"
   ]
  },
  {
   "cell_type": "code",
   "execution_count": 4,
   "metadata": {
    "collapsed": false
   },
   "outputs": [],
   "source": [
    "\"\"\"create Door\"\"\"\n",
    "def ggpl_createDoor(x, y, z):\n",
    "    table = CUBOID([x, y, z])\n",
    "    glassDiff = CUBOID([6*x/8.0, y, 6*z/16.0])\n",
    "    glassDiffDown = T([1,2,3])([x/8.0, 0, z/16.0])(glassDiff)\n",
    "    glassDiffUp = T([1,2,3])([x/8.0, 0, 9*z/16.0])(glassDiff)\n",
    "    table = DIFF([table, glassDiffDown])\n",
    "    table = DIFF([table, glassDiffUp])\n",
    "    \n",
    "    # Table\n",
    "    table = COLOR(DARKBROWN)(table)\n",
    "    \n",
    "    # Handle\n",
    "    handle = []\n",
    "    handle.append(R([2,3])(PI/2))\n",
    "    a = COLOR(OLDGOLD)(SPHERE(y/2.0)([32,32]))\n",
    "    b = COLOR(GREY)(CYLINDER([y/5.0, 3*y])(200))\n",
    "    handle.append(a)\n",
    "    handle.append(b)\n",
    "    handle.append(T(3)(3*y))\n",
    "    handle.append(a)\n",
    "    handle = STRUCT(handle)\n",
    "            \n",
    "    # Glass\n",
    "    glass = CUBOID([6*x/8.0, y/3.0, 6*z/16.0])\n",
    "    glass = material(ambientRGBA, diffuseRGBA, specularRGBA, emissionRGBA, shininess, glass)\n",
    "    \n",
    "    # Door\n",
    "    tmp  = []\n",
    "    tmp.append(table)\n",
    "    tmp.append(T([1,2,3])([x/8.0,(y/2.0)-(y/(2*3.0)),z/16.0]))\n",
    "    tmp.append(glass)\n",
    "    tmp.append(T(3)(8*z/16.0))\n",
    "    tmp.append(glass)\n",
    "    tmp.append(T([1,2,3])([13*x/16, (5/3.0)*y, -z/32]))\n",
    "    tmp.append(handle)\n",
    "    return STRUCT(tmp)"
   ]
  },
  {
   "cell_type": "code",
   "execution_count": 5,
   "metadata": {
    "collapsed": true
   },
   "outputs": [],
   "source": [
    "\"\"\"create MainDoor\"\"\"\n",
    "def ggpl_createMainDoor(x, y, z):\n",
    "    x = x/2.0\n",
    "    door = ggpl_createDoor(x, y, z)\n",
    "    doorReflect = R([1,2])(PI)(door)\n",
    "    doorReflect = T([1,2])([x, y])(doorReflect)\n",
    "    tmp = []\n",
    "    tmp.append(door)\n",
    "    tmp.append(T(1)(x))\n",
    "    tmp.append(doorReflect)\n",
    "    return STRUCT(tmp)"
   ]
  },
  {
   "cell_type": "markdown",
   "metadata": {
    "collapsed": false
   },
   "source": [
    "a = []\n",
    "a.append(ggpl_createDoor(20, 1, 25))\n",
    "a.append(T(2)(10))\n",
    "a.append(COLOR(RED)(CUBOID([10,10,10])))\n",
    "A = STRUCT(a)\n",
    "VIEW(A)"
   ]
  },
  {
   "cell_type": "markdown",
   "metadata": {
    "collapsed": true
   },
   "source": [
    "b=ggpl_createMainDoor(36, 1, 25)\n",
    "VIEW(b)"
   ]
  },
  {
   "cell_type": "markdown",
   "metadata": {},
   "source": [
    "VIEW(BOX(1)(b))"
   ]
  },
  {
   "cell_type": "code",
   "execution_count": null,
   "metadata": {
    "collapsed": true
   },
   "outputs": [],
   "source": []
  }
 ],
 "metadata": {
  "kernelspec": {
   "display_name": "Python 2",
   "language": "python",
   "name": "python2"
  },
  "language_info": {
   "codemirror_mode": {
    "name": "ipython",
    "version": 2
   },
   "file_extension": ".py",
   "mimetype": "text/x-python",
   "name": "python",
   "nbconvert_exporter": "python",
   "pygments_lexer": "ipython2",
   "version": "2.7.12"
  }
 },
 "nbformat": 4,
 "nbformat_minor": 1
}
