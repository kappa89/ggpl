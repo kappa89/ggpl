{
 "cells": [
  {
   "cell_type": "markdown",
   "metadata": {},
   "source": [
    "# <center>window95 </center>\n",
    "<img src=\"window.jpg\" alt=\"window\" width=\"100\" align=\"center\">\n",
    "<img src=\"Screenshot_1.png\" alt=\"Screenshot_1\" align=\"left\"><img src=\"Screenshot_2.png\" alt=\"Screenshot_2\" ><img src=\"Screenshot_3.png\" alt=\"Screenshot_3\" >\n",
    "Finestra rivisitata per workshop_08\n",
    "<img src=\"Screenshot_5.png\" align=\"center\">"
   ]
  },
  {
   "cell_type": "code",
   "execution_count": 24,
   "metadata": {
    "collapsed": false
   },
   "outputs": [],
   "source": [
    "from pyplasm import *"
   ]
  },
  {
   "cell_type": "code",
   "execution_count": 25,
   "metadata": {
    "collapsed": false
   },
   "outputs": [
    {
     "name": "stdout",
     "output_type": "stream",
     "text": [
      "27.0\n",
      "20.0\n"
     ]
    }
   ],
   "source": [
    "#input function\n",
    "#x = [0.1, 1.0, 0.1, 1.0, 0.1, 1.0, 0.1]\n",
    "#z = [0.1, 2.0, 0.1, 1.0, 0.1, 1.0, 0.1, 1.0, 0.1]\n",
    "\n",
    "x = [0.6, 8.2, 0.6, 8.2, 0.6, 8.2, 0.6] # =27\n",
    "z = [0.6, 4.25, 0.6, 4.25, 0.6, 4.25, 0.6, 4.25, 0.6] # =20\n",
    "print sum(x)\n",
    "print sum(z)\n",
    "\n",
    "boolean = [[1,1,1,1,1,1,1],[1,0,0,0,0,0,1],[1,1,1,1,1,1,1],[1,0,1,0,1,0,1],[1,1,1,1,1,1,1],[1,0,1,0,1,0,1],[1,1,1,1,1,1,1],[1,0,1,0,1,0,1],[1,1,1,1,1,1,1]]"
   ]
  },
  {
   "cell_type": "code",
   "execution_count": 26,
   "metadata": {
    "collapsed": false
   },
   "outputs": [],
   "source": [
    "\"\"\"create window\"\"\"\n",
    "def ggpl_createWindow(x, z, boolean):\n",
    "    thinkness = 0.2\n",
    "    glass = 0.05\n",
    "    struct = []\n",
    "    l = 0.0\n",
    "    for y in range(len(x)): \n",
    "        l = l + x[y]\n",
    "        #print l\n",
    "    #print \"larghezza: \"+str(l)\n",
    "    for j in range(len(boolean)):\n",
    "        #print \"___________\"\n",
    "        for i in range(len(boolean[j])):\n",
    "            #print \"x: \"+str(x[i])+\"\\ny: \"+str(z[j])+\"\\nboolean: \"+str(boolean[j][i])+\"\\n-------\"\n",
    "            a = x[i] \n",
    "            c = z[j] \n",
    "            b = thinkness\n",
    "            if(boolean[j][i] == 0):\n",
    "                b = glass\n",
    "                tmp = CUBOID([a, b, c])\n",
    "                tmp = material(ambientRGBA, diffuseRGBA, specularRGBA, emissionRGBA, shininess, tmp)\n",
    "                struct.append(T(2)(thinkness/2))\n",
    "                struct.append(tmp)\n",
    "                struct.append(T(2)(-thinkness/2))\n",
    "            else:\n",
    "                tmp = CUBOID([a, b, c])\n",
    "                tmp = COLOR(BROWN)(tmp)\n",
    "                struct.append(tmp)\n",
    "            struct.append(T(1)(x[i]))\n",
    "        struct.append(T(3)(z[j]))\n",
    "        struct.append(T(1)(-l))\n",
    "    return STRUCT(struct)"
   ]
  },
  {
   "cell_type": "code",
   "execution_count": 17,
   "metadata": {
    "collapsed": true
   },
   "outputs": [],
   "source": [
    "\"\"\" intRGBColor\n",
    "\n",
    "Web copied function to create colors from RGB\n",
    "@param values: array of RGB values\n",
    "@return: the color\n",
    "\"\"\"\n",
    "def intRGBColor(values):\n",
    "        return Color4f([ values[0]/255.0,\n",
    "                         values[1]/255.0,\n",
    "                         values[2]/255.0,\n",
    "                         1.0])"
   ]
  },
  {
   "cell_type": "code",
   "execution_count": 79,
   "metadata": {
    "collapsed": false
   },
   "outputs": [
    {
     "name": "stdout",
     "output_type": "stream",
     "text": [
      "[0.670588,0.803922,0.937255,1.000000]\n"
     ]
    }
   ],
   "source": [
    "# Material Glass\n",
    "# RGB Fiordaliso 171, 205, 239\n",
    "GLASS = intRGBColor([171, 205, 239])\n",
    "ambientRGBA = [0.670588,0.803922,0.937255,1.00000]\n",
    "diffuseRGBA = [0.670588,0.803922,0.937255,.500000]\n",
    "specularRGBA = [0.670588,0.803922,0.937255,1.00000]\n",
    "emissionRGBA = [0.670588,0.803922,0.937255,1.00000]\n",
    "shininess = 50\n",
    "print GLASS"
   ]
  },
  {
   "cell_type": "code",
   "execution_count": 80,
   "metadata": {
    "collapsed": false
   },
   "outputs": [
    {
     "data": {
      "text/plain": [
       "<pyplasm.xgepy.Hpc; proxy of <Swig Object of type 'std::shared_ptr< Hpc > *' at 0x000000000BFAF750> >"
      ]
     },
     "execution_count": 80,
     "metadata": {},
     "output_type": "execute_result"
    }
   ],
   "source": [
    "a= []\n",
    "a.append(ggpl_createWindow(x,z,boolean))\n",
    "a.append(T(2)(10))\n",
    "a.append(COLOR(RED)(CUBOID([10,10,10])))\n",
    "A = STRUCT(a)\n",
    "VIEW(A)"
   ]
  },
  {
   "cell_type": "code",
   "execution_count": 33,
   "metadata": {
    "collapsed": true
   },
   "outputs": [],
   "source": [
    "# aggiunto per il vetro\n",
    "def material(ambientRGBA, diffuseRGBA, specularRGBA, emissionRGBA, shininess, pol):\n",
    "    return MATERIAL([ambientRGBA[0],\n",
    "              ambientRGBA[1],\n",
    "              ambientRGBA[2],\n",
    "              ambientRGBA[3],\n",
    "              diffuseRGBA[0],\n",
    "              diffuseRGBA[1],\n",
    "              diffuseRGBA[2],\n",
    "              diffuseRGBA[3],\n",
    "              specularRGBA[0],\n",
    "              specularRGBA[1],\n",
    "              specularRGBA[2],\n",
    "              specularRGBA[3],\n",
    "              emissionRGBA[0],\n",
    "              emissionRGBA[1],\n",
    "              emissionRGBA[2],\n",
    "              emissionRGBA[3],\n",
    "              shininess\n",
    "             ])(pol)"
   ]
  },
  {
   "cell_type": "code",
   "execution_count": null,
   "metadata": {
    "collapsed": true
   },
   "outputs": [],
   "source": []
  }
 ],
 "metadata": {
  "kernelspec": {
   "display_name": "Python 2",
   "language": "python",
   "name": "python2"
  },
  "language_info": {
   "codemirror_mode": {
    "name": "ipython",
    "version": 2
   },
   "file_extension": ".py",
   "mimetype": "text/x-python",
   "name": "python",
   "nbconvert_exporter": "python",
   "pygments_lexer": "ipython2",
   "version": "2.7.12"
  }
 },
 "nbformat": 4,
 "nbformat_minor": 1
}
