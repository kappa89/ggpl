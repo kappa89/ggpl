{
 "cells": [
  {
   "cell_type": "markdown",
   "metadata": {},
   "source": [
    "# <center>window95 </center>\n",
    "<img src=\"window.jpg\">\n",
    "<center>Finestra rivisitata per workshop_08\n",
    "<img src=\"Screenshot_5.png\" align=\"center\">\n",
    "<center>Porta rivisitata per workshop_08\n",
    "<img src=\"Screenshot_6.png\" align=\"center\">\n",
    "<img src=\"Screenshot_7.png\" align=\"center\">"
   ]
  },
  {
   "cell_type": "code",
   "execution_count": 1,
   "metadata": {
    "collapsed": false
   },
   "outputs": [
    {
     "name": "stdout",
     "output_type": "stream",
     "text": [
      "Evaluating fenvs.py..\n",
      "...fenvs.py imported in 0.00347429054256 seconds\n"
     ]
    }
   ],
   "source": [
    "from pyplasm import *"
   ]
  },
  {
   "cell_type": "code",
   "execution_count": 2,
   "metadata": {
    "collapsed": false
   },
   "outputs": [
    {
     "name": "stdout",
     "output_type": "stream",
     "text": [
      "27.0\n",
      "20.0\n"
     ]
    }
   ],
   "source": [
    "#input function\n",
    "#x = [0.1, 1.0, 0.1, 1.0, 0.1, 1.0, 0.1]\n",
    "#z = [0.1, 2.0, 0.1, 1.0, 0.1, 1.0, 0.1, 1.0, 0.1]\n",
    "\n",
    "x = [0.6, 8.2, 0.6, 8.2, 0.6, 8.2, 0.6] # =27\n",
    "z = [0.6, 4.25, 0.6, 4.25, 0.6, 4.25, 0.6, 4.25, 0.6] # =20\n",
    "\n",
    "print sum(x)\n",
    "print sum(z)\n",
    "\n",
    "boolean = [[1,1,1,1,1,1,1],[1,0,0,0,0,0,1],[1,1,1,1,1,1,1],[1,0,1,0,1,0,1],[1,1,1,1,1,1,1],[1,0,1,0,1,0,1],[1,1,1,1,1,1,1],[1,0,1,0,1,0,1],[1,1,1,1,1,1,1]]"
   ]
  },
  {
   "cell_type": "code",
   "execution_count": 149,
   "metadata": {
    "collapsed": true
   },
   "outputs": [],
   "source": [
    "\"\"\" intRGBColor\n",
    "\n",
    "Web copied function to create colors from RGB\n",
    "@param values: array of RGB values\n",
    "@return: the color\n",
    "\"\"\"\n",
    "def intRGBColor(values):\n",
    "        return Color4f([ values[0]/255.0,\n",
    "                         values[1]/255.0,\n",
    "                         values[2]/255.0,\n",
    "                         1.0])\n",
    "WOOD = intRGBColor([130, 100, 1])\n",
    "DARKBROWN = intRGBColor([101, 67, 33])\n",
    "GREY = intRGBColor([105,105,105])\n",
    "OLDGOLD = intRGBColor([207, 181, 59])"
   ]
  },
  {
   "cell_type": "code",
   "execution_count": 143,
   "metadata": {
    "collapsed": true
   },
   "outputs": [],
   "source": [
    "# aggiunto per il vetro\n",
    "def material(ambientRGBA, diffuseRGBA, specularRGBA, emissionRGBA, shininess, pol):\n",
    "    return MATERIAL([ambientRGBA[0],\n",
    "              ambientRGBA[1],\n",
    "              ambientRGBA[2],\n",
    "              ambientRGBA[3],\n",
    "              diffuseRGBA[0],\n",
    "              diffuseRGBA[1],\n",
    "              diffuseRGBA[2],\n",
    "              diffuseRGBA[3],\n",
    "              specularRGBA[0],\n",
    "              specularRGBA[1],\n",
    "              specularRGBA[2],\n",
    "              specularRGBA[3],\n",
    "              emissionRGBA[0],\n",
    "              emissionRGBA[1],\n",
    "              emissionRGBA[2],\n",
    "              emissionRGBA[3],\n",
    "              shininess\n",
    "             ])(pol)"
   ]
  },
  {
   "cell_type": "code",
   "execution_count": 144,
   "metadata": {
    "collapsed": false
   },
   "outputs": [
    {
     "name": "stdout",
     "output_type": "stream",
     "text": [
      "[0.670588,0.803922,0.937255,1.000000]\n"
     ]
    }
   ],
   "source": [
    "# Material Glass\n",
    "# RGB Fiordaliso 171, 205, 239\n",
    "GLASS = intRGBColor([171, 205, 239])\n",
    "ambientRGBA = [0.670588,0.803922,0.937255,1.00000]\n",
    "diffuseRGBA = [0.670588,0.803922,0.937255,.500000]\n",
    "specularRGBA = [0.670588,0.803922,0.937255,1.00000]\n",
    "emissionRGBA = [0.670588,0.803922,0.937255,1.00000]\n",
    "shininess = 50\n",
    "print GLASS"
   ]
  },
  {
   "cell_type": "code",
   "execution_count": 145,
   "metadata": {
    "collapsed": false
   },
   "outputs": [],
   "source": [
    "\"\"\"create window\"\"\"\n",
    "def ggpl_createWindow(x, z, boolean):\n",
    "    thinkness = 0.2\n",
    "    glass = 0.05\n",
    "    struct = []\n",
    "    l = 0.0\n",
    "    for y in range(len(x)): \n",
    "        l = l + x[y]\n",
    "        #print l\n",
    "    #print \"larghezza: \"+str(l)\n",
    "    for j in range(len(boolean)):\n",
    "        #print \"___________\"\n",
    "        for i in range(len(boolean[j])):\n",
    "            #print \"x: \"+str(x[i])+\"\\ny: \"+str(z[j])+\"\\nboolean: \"+str(boolean[j][i])+\"\\n-------\"\n",
    "            a = x[i] \n",
    "            c = z[j] \n",
    "            b = thinkness\n",
    "            if(boolean[j][i] == 0):\n",
    "                b = glass\n",
    "                tmp = CUBOID([a, b, c])\n",
    "                tmp = material(ambientRGBA, diffuseRGBA, specularRGBA, emissionRGBA, shininess, tmp)\n",
    "                struct.append(T(2)(thinkness/2))\n",
    "                struct.append(tmp)\n",
    "                struct.append(T(2)(-thinkness/2))\n",
    "            else:\n",
    "                tmp = CUBOID([a, b, c])\n",
    "                tmp = COLOR(BROWN)(tmp)\n",
    "                struct.append(tmp)\n",
    "            struct.append(T(1)(x[i]))\n",
    "        struct.append(T(3)(z[j]))\n",
    "        struct.append(T(1)(-l))\n",
    "    return STRUCT(struct)"
   ]
  },
  {
   "cell_type": "code",
   "execution_count": 146,
   "metadata": {
    "collapsed": false
   },
   "outputs": [
    {
     "data": {
      "text/plain": [
       "<pyplasm.xgepy.Hpc; proxy of <Swig Object of type 'std::shared_ptr< Hpc > *' at 0x000000000AD4EC30> >"
      ]
     },
     "execution_count": 146,
     "metadata": {},
     "output_type": "execute_result"
    }
   ],
   "source": [
    "a = []\n",
    "a.append(ggpl_createWindow(x,z,boolean))\n",
    "a.append(T(2)(10))\n",
    "a.append(COLOR(RED)(CUBOID([10,10,10])))\n",
    "A = STRUCT(a)\n",
    "VIEW(A)"
   ]
  },
  {
   "cell_type": "code",
   "execution_count": 153,
   "metadata": {
    "collapsed": false
   },
   "outputs": [],
   "source": [
    "\"\"\"create Door\"\"\"\n",
    "def ggpl_createDoor(x, y, z):\n",
    "    table = CUBOID([x, y, z])\n",
    "    glassDiff = CUBOID([6*x/8.0, y, 6*z/16.0])\n",
    "    glassDiffDown = T([1,2,3])([x/8.0, 0, z/16.0])(glassDiff)\n",
    "    glassDiffUp = T([1,2,3])([x/8.0, 0, 9*z/16.0])(glassDiff)\n",
    "    table = DIFF([table, glassDiffDown])\n",
    "    table = DIFF([table, glassDiffUp])\n",
    "    \n",
    "    # Table\n",
    "    table = COLOR(DARKBROWN)(table)\n",
    "    \n",
    "    # Handle\n",
    "    handle = []\n",
    "    handle.append(R([2,3])(PI/2))\n",
    "    a = COLOR(OLDGOLD)(SPHERE(y/2.0)([32,32]))\n",
    "    b = COLOR(GREY)(CYLINDER([y/5.0, 3*y])(200))\n",
    "    handle.append(a)\n",
    "    handle.append(b)\n",
    "    handle.append(T(3)(3*y))\n",
    "    handle.append(a)\n",
    "    handle = STRUCT(handle)\n",
    "            \n",
    "    # Glass\n",
    "    glass = CUBOID([6*x/8.0, y/3.0, 6*z/16.0])\n",
    "    glass = material(ambientRGBA, diffuseRGBA, specularRGBA, emissionRGBA, shininess, glass)\n",
    "    \n",
    "    # Door\n",
    "    tmp  = []\n",
    "    tmp.append(table)\n",
    "    tmp.append(T([1,2,3])([x/8.0,(y/2.0)-(y/(2*3.0)),z/16.0]))\n",
    "    tmp.append(glass)\n",
    "    tmp.append(T(3)(8*z/16.0))\n",
    "    tmp.append(glass)\n",
    "    tmp.append(T([1,2,3])([13*x/16, (5/3.0)*y, -z/32]))\n",
    "    tmp.append(handle)\n",
    "    return STRUCT(tmp)"
   ]
  },
  {
   "cell_type": "code",
   "execution_count": 155,
   "metadata": {
    "collapsed": false
   },
   "outputs": [
    {
     "name": "stdout",
     "output_type": "stream",
     "text": [
      "Child 3\n"
     ]
    },
    {
     "data": {
      "text/plain": [
       "<pyplasm.xgepy.Hpc; proxy of <Swig Object of type 'std::shared_ptr< Hpc > *' at 0x000000000AD56930> >"
      ]
     },
     "execution_count": 155,
     "metadata": {},
     "output_type": "execute_result"
    }
   ],
   "source": [
    "a = []\n",
    "a.append(ggpl_createDoor(10, 1, 20))\n",
    "a.append(T(2)(10))\n",
    "a.append(COLOR(RED)(CUBOID([10,10,10])))\n",
    "A = STRUCT(a)\n",
    "VIEW(A)"
   ]
  },
  {
   "cell_type": "code",
   "execution_count": null,
   "metadata": {
    "collapsed": true
   },
   "outputs": [],
   "source": []
  }
 ],
 "metadata": {
  "kernelspec": {
   "display_name": "Python 2",
   "language": "python",
   "name": "python2"
  },
  "language_info": {
   "codemirror_mode": {
    "name": "ipython",
    "version": 2
   },
   "file_extension": ".py",
   "mimetype": "text/x-python",
   "name": "python",
   "nbconvert_exporter": "python",
   "pygments_lexer": "ipython2",
   "version": "2.7.12"
  }
 },
 "nbformat": 4,
 "nbformat_minor": 1
}
