{
 "cells": [
  {
   "cell_type": "markdown",
   "metadata": {},
   "source": [
    "# <center>window95 </center>\n",
    "<img src=\"window.jpg\" alt=\"window\" width=\"100\" align=\"center\">\n",
    "<img src=\"Screenshot_1.png\" alt=\"Screenshot_1\" align=\"left\"><img src=\"Screenshot_2.png\" alt=\"Screenshot_2\" ><img src=\"Screenshot_3.png\" alt=\"Screenshot_3\" >"
   ]
  },
  {
   "cell_type": "code",
   "execution_count": 1,
   "metadata": {
    "collapsed": false
   },
   "outputs": [
    {
     "name": "stdout",
     "output_type": "stream",
     "text": [
      "Evaluating fenvs.py..\n",
      "...fenvs.py imported in 0.00585259967295 seconds\n"
     ]
    }
   ],
   "source": [
    "from pyplasm import *"
   ]
  },
  {
   "cell_type": "code",
   "execution_count": 2,
   "metadata": {
    "collapsed": true
   },
   "outputs": [],
   "source": [
    "#input function\n",
    "x = [0.1, 1.0, 0.1, 1.0, 0.1, 1.0, 0.1]\n",
    "z = [0.1, 2.0, 0.1, 1.0, 0.1, 1.0, 0.1, 1.0, 0.1]\n",
    "boolean = [[1,1,1,1,1,1,1],[1,0,0,0,0,0,1],[1,1,1,1,1,1,1],[1,0,1,0,1,0,1],[1,1,1,1,1,1,1],[1,0,1,0,1,0,1],[1,1,1,1,1,1,1],[1,0,1,0,1,0,1],[1,1,1,1,1,1,1]]"
   ]
  },
  {
   "cell_type": "code",
   "execution_count": 18,
   "metadata": {
    "collapsed": false
   },
   "outputs": [],
   "source": [
    "\"\"\"create window\"\"\"\n",
    "def ggpl_createWindow(x, z, boolean):\n",
    "    thinkness = 0.2\n",
    "    glass = 0.05\n",
    "    struct = []\n",
    "    l = 0.0\n",
    "    for y in range(len(x)): \n",
    "        l = l + x[y]\n",
    "        #print l\n",
    "    #print \"larghezza: \"+str(l)\n",
    "    for j in range(len(boolean)):\n",
    "        #print \"___________\"\n",
    "        for i in range(len(boolean[j])):\n",
    "            #print \"x: \"+str(x[i])+\"\\ny: \"+str(z[j])+\"\\nboolean: \"+str(boolean[j][i])+\"\\n-------\"\n",
    "            a = x[i] \n",
    "            c = z[j] \n",
    "            b = thinkness\n",
    "            if(boolean[j][i] == 0):\n",
    "                b = glass\n",
    "                tmp = CUBOID([a, b, c])\n",
    "                tmp = COLOR(BLUE)(tmp)\n",
    "                struct.append(T(2)(thinkness/2))\n",
    "                struct.append(tmp)\n",
    "                struct.append(T(2)(-thinkness/2))\n",
    "            else:\n",
    "                tmp = CUBOID([a, b, c])\n",
    "                tmp = COLOR(BROWN)(tmp)\n",
    "                struct.append(tmp)\n",
    "            struct.append(T(1)(x[i]))\n",
    "        struct.append(T(3)(z[j]))\n",
    "        #print \"torno indietro di: \"+str(-l)\n",
    "        struct.append(T(1)(-l))\n",
    "    return STRUCT(struct)"
   ]
  },
  {
   "cell_type": "code",
   "execution_count": 19,
   "metadata": {
    "collapsed": false
   },
   "outputs": [
    {
     "data": {
      "text/plain": [
       "<pyplasm.xgepy.Hpc; proxy of <Swig Object of type 'std::shared_ptr< Hpc > *' at 0x000000000BAFD240> >"
      ]
     },
     "execution_count": 19,
     "metadata": {},
     "output_type": "execute_result"
    }
   ],
   "source": [
    "VIEW(ggpl_createWindow(x,z,boolean))"
   ]
  },
  {
   "cell_type": "code",
   "execution_count": null,
   "metadata": {
    "collapsed": true
   },
   "outputs": [],
   "source": []
  }
 ],
 "metadata": {
  "kernelspec": {
   "display_name": "Python 2",
   "language": "python",
   "name": "python2"
  },
  "language_info": {
   "codemirror_mode": {
    "name": "ipython",
    "version": 2
   },
   "file_extension": ".py",
   "mimetype": "text/x-python",
   "name": "python",
   "nbconvert_exporter": "python",
   "pygments_lexer": "ipython2",
   "version": "2.7.12"
  }
 },
 "nbformat": 4,
 "nbformat_minor": 1
}
