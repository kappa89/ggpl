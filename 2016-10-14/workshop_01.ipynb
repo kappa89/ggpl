{
 "cells": [
  {
   "cell_type": "code",
   "execution_count": 1,
   "metadata": {
    "collapsed": false
   },
   "outputs": [
    {
     "name": "stdout",
     "output_type": "stream",
     "text": [
      "Evaluating fenvs.py..\n",
      "...fenvs.py imported in 0.00629177984715 seconds\n"
     ]
    }
   ],
   "source": [
    "from pyplasm import *"
   ]
  },
  {
   "cell_type": "code",
   "execution_count": 2,
   "metadata": {
    "collapsed": true
   },
   "outputs": [],
   "source": [
    "#sezione pilastro\n",
    "px = 1 #.4\n",
    "py = 1"
   ]
  },
  {
   "cell_type": "code",
   "execution_count": 3,
   "metadata": {
    "collapsed": false
   },
   "outputs": [],
   "source": [
    "#sezione trave\n",
    "bx = 1 # x parametrizza in base alla distanza dei pilastri\n",
    "bz = 1 #10% di bx"
   ]
  },
  {
   "cell_type": "code",
   "execution_count": 4,
   "metadata": {
    "collapsed": true
   },
   "outputs": [],
   "source": [
    "distanzaPilastri_X = [1, 2, 3]"
   ]
  },
  {
   "cell_type": "code",
   "execution_count": 5,
   "metadata": {
    "collapsed": true
   },
   "outputs": [],
   "source": [
    "distanzaTravi_Y = [1, 2]"
   ]
  },
  {
   "cell_type": "code",
   "execution_count": 6,
   "metadata": {
    "collapsed": false
   },
   "outputs": [],
   "source": [
    "#numero pilastri\n",
    "n_pilastri = len(distanzaPilastri_X)+1"
   ]
  },
  {
   "cell_type": "code",
   "execution_count": 7,
   "metadata": {
    "collapsed": true
   },
   "outputs": [],
   "source": [
    "#numero travi\n",
    "n_travi = len(distanzaTravi_Y)+1"
   ]
  },
  {
   "cell_type": "code",
   "execution_count": 8,
   "metadata": {
    "collapsed": false
   },
   "outputs": [
    {
     "data": {
      "text/plain": [
       "6"
      ]
     },
     "execution_count": 8,
     "metadata": {},
     "output_type": "execute_result"
    }
   ],
   "source": [
    "#altezza pilastro\n",
    "h_pilastro = 0\n",
    "for i in distanzaTravi_Y:\n",
    "    h_pilastro += i\n",
    "h_pilastro += bz * n_travi\n",
    "h_pilastro"
   ]
  },
  {
   "cell_type": "code",
   "execution_count": 9,
   "metadata": {
    "collapsed": false
   },
   "outputs": [],
   "source": [
    "#genero filare di pilari\n",
    "spostamento = 0\n",
    "struttura = [] #array di strutture\n",
    "struttura.append(CUBOID([px,py,h_pilastro]))\n",
    "for i in distanzaPilastri_X:\n",
    "    spostamento = px+i\n",
    "    struttura.append(T(1)(spostamento))\n",
    "    struttura.append(CUBOID([px,py,h_pilastro]))"
   ]
  },
  {
   "cell_type": "code",
   "execution_count": 10,
   "metadata": {
    "collapsed": false
   },
   "outputs": [],
   "source": [
    "#riposiziono Origine\n",
    "struttura.append(T(1)(-spostamento))"
   ]
  },
  {
   "cell_type": "code",
   "execution_count": 12,
   "metadata": {
    "collapsed": false
   },
   "outputs": [
    {
     "ename": "NotImplementedError",
     "evalue": "Wrong number or type of arguments for overloaded function 'new_Vecf'.\n  Possible C/C++ prototypes are:\n    Vecf::Vecf()\n    Vecf::Vecf(Vecf const &)\n    Vecf::Vecf(std::vector< float,std::allocator< float > > const &)\n    Vecf::Vecf(int)\n    Vecf::Vecf(int,float,float const *)\n    Vecf::Vecf(int,float const *)\n    Vecf::Vecf(int,double const *)\n    Vecf::Vecf(float,float,float)\n    Vecf::Vecf(float,float,float,float)\n    Vecf::Vecf(float,float,float,float,float)\n    Vecf::Vecf(float,float,float,float,float,float)\n    Vecf::Vecf(float,float,float,float,float,float,float)\n",
     "output_type": "error",
     "traceback": [
      "\u001b[0;31m---------------------------------------------------------------------------\u001b[0m",
      "\u001b[0;31mNotImplementedError\u001b[0m                       Traceback (most recent call last)",
      "\u001b[0;32m<ipython-input-12-c06a54c885e1>\u001b[0m in \u001b[0;36m<module>\u001b[0;34m()\u001b[0m\n\u001b[1;32m      2\u001b[0m \u001b[1;32mfor\u001b[0m \u001b[0mi\u001b[0m \u001b[1;32min\u001b[0m \u001b[0mdistanzaPilastri_X\u001b[0m\u001b[1;33m:\u001b[0m\u001b[1;33m\u001b[0m\u001b[0m\n\u001b[1;32m      3\u001b[0m     \u001b[0mstruttura\u001b[0m\u001b[1;33m.\u001b[0m\u001b[0mappend\u001b[0m\u001b[1;33m(\u001b[0m\u001b[0mT\u001b[0m\u001b[1;33m(\u001b[0m\u001b[1;36m1\u001b[0m\u001b[1;33m)\u001b[0m\u001b[1;33m(\u001b[0m\u001b[0mpx\u001b[0m\u001b[1;33m+\u001b[0m\u001b[0mi\u001b[0m\u001b[1;33m)\u001b[0m\u001b[1;33m)\u001b[0m\u001b[1;33m\u001b[0m\u001b[0m\n\u001b[0;32m----> 4\u001b[0;31m     \u001b[0mstruttura\u001b[0m\u001b[1;33m.\u001b[0m\u001b[0mappend\u001b[0m\u001b[1;33m(\u001b[0m\u001b[0mCUBOID\u001b[0m\u001b[1;33m(\u001b[0m\u001b[1;33m[\u001b[0m\u001b[0mdistanzaPilastri_X\u001b[0m\u001b[1;33m,\u001b[0m\u001b[0mbx\u001b[0m\u001b[1;33m,\u001b[0m\u001b[0mbz\u001b[0m\u001b[1;33m]\u001b[0m\u001b[1;33m)\u001b[0m\u001b[1;33m)\u001b[0m\u001b[1;33m\u001b[0m\u001b[0m\n\u001b[0m",
      "\u001b[0;32mc:\\programmi\\python27\\lib\\site-packages\\pyplasm\\fenvs.pyc\u001b[0m in \u001b[0;36mCUBOID\u001b[0;34m(sizes_list)\u001b[0m\n\u001b[1;32m    935\u001b[0m \u001b[1;32mdef\u001b[0m \u001b[0mCUBOID\u001b[0m \u001b[1;33m(\u001b[0m\u001b[0msizes_list\u001b[0m\u001b[1;33m)\u001b[0m\u001b[1;33m:\u001b[0m\u001b[1;33m\u001b[0m\u001b[0m\n\u001b[1;32m    936\u001b[0m         \u001b[0mdim\u001b[0m \u001b[1;33m=\u001b[0m \u001b[0mlen\u001b[0m\u001b[1;33m(\u001b[0m\u001b[0msizes_list\u001b[0m\u001b[1;33m)\u001b[0m\u001b[1;33m\u001b[0m\u001b[0m\n\u001b[0;32m--> 937\u001b[0;31m         \u001b[0mpol\u001b[0m \u001b[1;33m=\u001b[0m \u001b[0mPlasm\u001b[0m\u001b[1;33m.\u001b[0m\u001b[0mscale\u001b[0m\u001b[1;33m(\u001b[0m\u001b[0mPlasm\u001b[0m\u001b[1;33m.\u001b[0m\u001b[0mcube\u001b[0m\u001b[1;33m(\u001b[0m\u001b[0mdim\u001b[0m\u001b[1;33m)\u001b[0m\u001b[1;33m,\u001b[0m \u001b[0mVecf\u001b[0m\u001b[1;33m(\u001b[0m\u001b[1;33m[\u001b[0m\u001b[1;36m0.0\u001b[0m\u001b[1;33m]\u001b[0m \u001b[1;33m+\u001b[0m \u001b[0msizes_list\u001b[0m\u001b[1;33m)\u001b[0m\u001b[1;33m)\u001b[0m\u001b[1;33m\u001b[0m\u001b[0m\n\u001b[0m\u001b[1;32m    938\u001b[0m         \u001b[1;32mreturn\u001b[0m \u001b[0mpol\u001b[0m\u001b[1;33m\u001b[0m\u001b[0m\n\u001b[1;32m    939\u001b[0m \u001b[1;33m\u001b[0m\u001b[0m\n",
      "\u001b[0;32mc:\\programmi\\python27\\lib\\site-packages\\pyplasm\\xgepy.pyc\u001b[0m in \u001b[0;36m__init__\u001b[0;34m(self, *args)\u001b[0m\n\u001b[1;32m   1112\u001b[0m     \u001b[1;32mif\u001b[0m \u001b[0m_newclass\u001b[0m\u001b[1;33m:\u001b[0m\u001b[0mdim\u001b[0m \u001b[1;33m=\u001b[0m \u001b[0m_swig_property\u001b[0m\u001b[1;33m(\u001b[0m\u001b[0m_xgepy\u001b[0m\u001b[1;33m.\u001b[0m\u001b[0mVecf_dim_get\u001b[0m\u001b[1;33m,\u001b[0m \u001b[0m_xgepy\u001b[0m\u001b[1;33m.\u001b[0m\u001b[0mVecf_dim_set\u001b[0m\u001b[1;33m)\u001b[0m\u001b[1;33m\u001b[0m\u001b[0m\n\u001b[1;32m   1113\u001b[0m     \u001b[1;32mdef\u001b[0m \u001b[0m__init__\u001b[0m\u001b[1;33m(\u001b[0m\u001b[0mself\u001b[0m\u001b[1;33m,\u001b[0m \u001b[1;33m*\u001b[0m\u001b[0margs\u001b[0m\u001b[1;33m)\u001b[0m\u001b[1;33m:\u001b[0m\u001b[1;33m\u001b[0m\u001b[0m\n\u001b[0;32m-> 1114\u001b[0;31m         \u001b[0mthis\u001b[0m \u001b[1;33m=\u001b[0m \u001b[0m_xgepy\u001b[0m\u001b[1;33m.\u001b[0m\u001b[0mnew_Vecf\u001b[0m\u001b[1;33m(\u001b[0m\u001b[1;33m*\u001b[0m\u001b[0margs\u001b[0m\u001b[1;33m)\u001b[0m\u001b[1;33m\u001b[0m\u001b[0m\n\u001b[0m\u001b[1;32m   1115\u001b[0m         \u001b[1;32mtry\u001b[0m\u001b[1;33m:\u001b[0m \u001b[0mself\u001b[0m\u001b[1;33m.\u001b[0m\u001b[0mthis\u001b[0m\u001b[1;33m.\u001b[0m\u001b[0mappend\u001b[0m\u001b[1;33m(\u001b[0m\u001b[0mthis\u001b[0m\u001b[1;33m)\u001b[0m\u001b[1;33m\u001b[0m\u001b[0m\n\u001b[1;32m   1116\u001b[0m         \u001b[1;32mexcept\u001b[0m\u001b[1;33m:\u001b[0m \u001b[0mself\u001b[0m\u001b[1;33m.\u001b[0m\u001b[0mthis\u001b[0m \u001b[1;33m=\u001b[0m \u001b[0mthis\u001b[0m\u001b[1;33m\u001b[0m\u001b[0m\n",
      "\u001b[0;31mNotImplementedError\u001b[0m: Wrong number or type of arguments for overloaded function 'new_Vecf'.\n  Possible C/C++ prototypes are:\n    Vecf::Vecf()\n    Vecf::Vecf(Vecf const &)\n    Vecf::Vecf(std::vector< float,std::allocator< float > > const &)\n    Vecf::Vecf(int)\n    Vecf::Vecf(int,float,float const *)\n    Vecf::Vecf(int,float const *)\n    Vecf::Vecf(int,double const *)\n    Vecf::Vecf(float,float,float)\n    Vecf::Vecf(float,float,float,float)\n    Vecf::Vecf(float,float,float,float,float)\n    Vecf::Vecf(float,float,float,float,float,float)\n    Vecf::Vecf(float,float,float,float,float,float,float)\n"
     ]
    }
   ],
   "source": [
    "#genero travi\n",
    "for i in distanzaPilastri_X:\n",
    "    struttura.append(T(1)(px+i))\n",
    "    struttura.append(CUBOID([distanzaPilastri_X,bx,bz]))"
   ]
  },
  {
   "cell_type": "code",
   "execution_count": null,
   "metadata": {
    "collapsed": false
   },
   "outputs": [],
   "source": [
    "VIEW(STRUCT(struttura))"
   ]
  },
  {
   "cell_type": "code",
   "execution_count": null,
   "metadata": {
    "collapsed": true
   },
   "outputs": [],
   "source": []
  }
 ],
 "metadata": {
  "kernelspec": {
   "display_name": "Python 2",
   "language": "python",
   "name": "python2"
  },
  "language_info": {
   "codemirror_mode": {
    "name": "ipython",
    "version": 2
   },
   "file_extension": ".py",
   "mimetype": "text/x-python",
   "name": "python",
   "nbconvert_exporter": "python",
   "pygments_lexer": "ipython2",
   "version": "2.7.12"
  }
 },
 "nbformat": 4,
 "nbformat_minor": 1
}
