{
 "cells": [
  {
   "cell_type": "markdown",
   "metadata": {},
   "source": [
    "# gioco d'incastri\n",
    "![screenshot01](Screenshot_1.png)\n",
    "![screenshot02](Screenshot_2.png)\n",
    "![screenshot03](Screenshot_3.png)"
   ]
  },
  {
   "cell_type": "code",
   "execution_count": 1,
   "metadata": {
    "collapsed": false
   },
   "outputs": [
    {
     "name": "stdout",
     "output_type": "stream",
     "text": [
      "Evaluating fenvs.py..\n",
      "...fenvs.py imported in 0.00691055450358 seconds\n"
     ]
    }
   ],
   "source": [
    "from pyplasm import *"
   ]
  },
  {
   "cell_type": "code",
   "execution_count": 2,
   "metadata": {
    "collapsed": true
   },
   "outputs": [],
   "source": [
    "#sezione pilastro\n",
    "px = 1 #.4\n",
    "py = 1"
   ]
  },
  {
   "cell_type": "code",
   "execution_count": 3,
   "metadata": {
    "collapsed": true
   },
   "outputs": [],
   "source": [
    "#sezione trave\n",
    "bx = 1 # x parametrizza in base alla distanza dei pilastri\n",
    "bz = 1 #10% di bx"
   ]
  },
  {
   "cell_type": "code",
   "execution_count": 4,
   "metadata": {
    "collapsed": true
   },
   "outputs": [],
   "source": [
    "distanzaPilastri = [5, 5, 5]\n",
    "distanzaTravi = [1, 2]\n",
    "k = 1.0/3"
   ]
  },
  {
   "cell_type": "code",
   "execution_count": 5,
   "metadata": {
    "collapsed": true
   },
   "outputs": [],
   "source": [
    "\"\"\"number of pillars\"\"\"\n",
    "def numPillar(distanzaPilastri):\n",
    "    return len(distanzaPilastri)+1"
   ]
  },
  {
   "cell_type": "code",
   "execution_count": 6,
   "metadata": {
    "collapsed": true
   },
   "outputs": [],
   "source": [
    "\"\"\"number of beams\"\"\"\n",
    "def numBeam(distanzaTravi):\n",
    "    return len(distanzaTravi)+1"
   ]
  },
  {
   "cell_type": "code",
   "execution_count": 7,
   "metadata": {
    "collapsed": true
   },
   "outputs": [],
   "source": [
    "\"\"\"heght of single beam\"\"\"\n",
    "def heightBeam(distanzaPilastri, i):\n",
    "    return distanzaPilastri[i]*0.1"
   ]
  },
  {
   "cell_type": "code",
   "execution_count": 8,
   "metadata": {
    "collapsed": true
   },
   "outputs": [],
   "source": [
    "\"\"\"length of single beam\"\"\"\n",
    "def lengthBeam(distanzaPilastri, i):\n",
    "    return distanzaPilastri[i]"
   ]
  },
  {
   "cell_type": "code",
   "execution_count": 9,
   "metadata": {
    "collapsed": true
   },
   "outputs": [],
   "source": [
    "\"\"\"heght of single i-pillar\"\"\"\n",
    "def heigthPillar(distanzaTravi, distanzaPilastri, i):\n",
    "    nb = numBeam(distanzaTravi)\n",
    "    lb = lengthBeam(distanzaPilastri, i)\n",
    "    hb = heightBeam(distanzaPilastri, i)\n",
    "    hp = hb * nb\n",
    "    for i in distanzaTravi:\n",
    "        hp += i\n",
    "    return hp"
   ]
  },
  {
   "cell_type": "code",
   "execution_count": 10,
   "metadata": {
    "collapsed": false
   },
   "outputs": [],
   "source": [
    "\"\"\"magic piece\"\"\"\n",
    "def createmagicPiece():\n",
    "    magicPiece = MKPOL([[[0,0],[0,k],[k/2,k],[k/2,2.0/3],[0,2.0/3],[0,1],[k,1],[k,5.0/6],[2.0/3,5.0/6],[2.0/3,1],[1,1],[1,2.0/3],[5.0/6,2.0/3],[5.0/6,k],[1,k],[1,0],[2.0/3,0],[2.0/3,k/2],[k,k/2],[k,0]],[[1,2,3,19,20],[4,5,6,7,8],[9,10,11,12,13],[14,15,16,17,18],[19,3,4,8,9,13,14,18]],1])\n",
    "    return PROD([magicPiece, QUOTE([k])])"
   ]
  },
  {
   "cell_type": "code",
   "execution_count": 11,
   "metadata": {
    "collapsed": false
   },
   "outputs": [],
   "source": [
    "def createPillar(distanzaTravi, distanzaPilastri, i):\n",
    "    hb = heightBeam(distanzaPilastri,i)\n",
    "    nb = numBeam(distanzaTravi)\n",
    "    p = []\n",
    "    p.append(CUBOID([1,1,hb-k]))\n",
    "    p.append(T(3)(hb-k))\n",
    "    for j in range(nb-1):\n",
    "        p.append(createmagicPiece())\n",
    "        p.append(T(3)(k))\n",
    "        p.append(CUBOID([1,1,distanzaTravi[j]]))\n",
    "        p.append(T(3)(distanzaTravi[j]))\n",
    "    p.append(createmagicPiece())\n",
    "    print \"altezza beam: \"+str(hb)\n",
    "    print \"numBeam: \"+str(nb)\n",
    "    return STRUCT(p)"
   ]
  },
  {
   "cell_type": "code",
   "execution_count": 12,
   "metadata": {
    "collapsed": false
   },
   "outputs": [],
   "source": [
    "\"\"\"create single i-beam\"\"\"\n",
    "def createBeam(distanzaPilastri, i):\n",
    "    lb = lengthBeam(distanzaPilastri,i)\n",
    "    hb = heightBeam(distanzaPilastri, i)\n",
    "    base = MKPOL([[[k/2,0],[k/2,1],[k/2+lb,0],[k/2+lb,1]], [[1,2,3,4]],1])\n",
    "    base = PROD([base, QUOTE([hb-k])]) \n",
    "    sopra = MKPOL([[[k/2,0],[k/2,k],[0,k],[0,2.0/3],[k/2,2.0/3],[k/2,1],[lb+k/2,1],[lb+k/2,2.0/3],[lb+2.0/6,2.0/3],[lb+2.0/6,k],[lb+k/2,k],[lb+k/2,0]],[[2,3,4,5],[1,6,7,12],[11,8,9,10]],1])\n",
    "    sopra = PROD([sopra, QUOTE([k])])\n",
    "    struct = []\n",
    "    struct.append(base)\n",
    "    struct.append(T(3)(hb-k))\n",
    "    struct.append(sopra)\n",
    "    return STRUCT(struct)\n"
   ]
  },
  {
   "cell_type": "code",
   "execution_count": 13,
   "metadata": {
    "collapsed": false
   },
   "outputs": [
    {
     "name": "stdout",
     "output_type": "stream",
     "text": [
      "3\n",
      "4\n",
      "0.5\n",
      "5\n",
      "4.5\n",
      "altezza beam: 0.5\n",
      "numBeam: 3\n"
     ]
    },
    {
     "data": {
      "text/plain": [
       "<pyplasm.xgepy.Hpc; proxy of <Swig Object of type 'std::shared_ptr< Hpc > *' at 0x000000000B617DB0> >"
      ]
     },
     "execution_count": 13,
     "metadata": {},
     "output_type": "execute_result"
    }
   ],
   "source": [
    "print numBeam(distanzaTravi)\n",
    "print numPillar(distanzaPilastri)\n",
    "print heightBeam(distanzaPilastri, 1)\n",
    "print lengthBeam(distanzaPilastri, 1)\n",
    "print heigthPillar(distanzaTravi, distanzaPilastri, 0)\n",
    "#VIEW(createmagicPiece())\n",
    "#VIEW(createBeam(0))\n",
    "hb = heightBeam(distanzaPilastri, 0)\n",
    "s = []\n",
    "s.append(createPillar(distanzaTravi, distanzaPilastri, 0))\n",
    "s.append(T(1)(1-k))\n",
    "s.append(createBeam(distanzaPilastri,0))\n",
    "s.append(T(3)(hb+distanzaTravi[0]))\n",
    "s.append(createBeam(distanzaPilastri,0))\n",
    "S = STRUCT(s)\n",
    "VIEW(S)"
   ]
  },
  {
   "cell_type": "code",
   "execution_count": null,
   "metadata": {
    "collapsed": true
   },
   "outputs": [],
   "source": []
  },
  {
   "cell_type": "code",
   "execution_count": null,
   "metadata": {
    "collapsed": true
   },
   "outputs": [],
   "source": []
  }
 ],
 "metadata": {
  "kernelspec": {
   "display_name": "Python 2",
   "language": "python",
   "name": "python2"
  },
  "language_info": {
   "codemirror_mode": {
    "name": "ipython",
    "version": 2
   },
   "file_extension": ".py",
   "mimetype": "text/x-python",
   "name": "python",
   "nbconvert_exporter": "python",
   "pygments_lexer": "ipython2",
   "version": "2.7.12"
  }
 },
 "nbformat": 4,
 "nbformat_minor": 1
}
