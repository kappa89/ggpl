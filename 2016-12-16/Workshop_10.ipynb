{
 "cells": [
  {
   "cell_type": "markdown",
   "metadata": {},
   "source": [
    "# Palace"
   ]
  },
  {
   "cell_type": "code",
   "execution_count": 1,
   "metadata": {
    "collapsed": false
   },
   "outputs": [
    {
     "name": "stdout",
     "output_type": "stream",
     "text": [
      "Evaluating fenvs.py..\n",
      "...fenvs.py imported in 0.00353133998407 seconds\n"
     ]
    }
   ],
   "source": [
    "%run \"../2016-12-02/My_House_Functions.ipynb\""
   ]
  },
  {
   "cell_type": "code",
   "execution_count": 2,
   "metadata": {
    "collapsed": true
   },
   "outputs": [],
   "source": [
    "floors = 1\n",
    "\"\"\"constant var and path\"\"\"\n",
    "# Path\n",
    "pathExternalWalls = \"../2016-12-02/lines/external.lines\"\n",
    "pathInternalWalls = \"../2016-12-02/lines/internal.lines\"\n",
    "pathGrindWalls = \"../2016-12-02/lines/grind.lines\"\n",
    "pathFloor = \"../2016-12-02/lines/floor.lines\"\n",
    "pathStairs = \"../2016-12-02/lines/stairs.lines\"\n",
    "pathStairs2 = \"../2016-12-02/lines/stairs2.lines\"\n",
    "pathBalconyFloor = \"../2016-12-02/lines/balconyFloor.lines\"\n",
    "pathDoors = \"../2016-12-02/lines/doors2.lines\"\n",
    "pathMainEntrance = \"../2016-12-02/lines/portoneIngresso.lines\"\n",
    "pathWindows = \"../2016-12-02/lines/windows3.lines\"\n",
    "pathAperture = \"../2016-12-02/lines/aperture.lines\"\n",
    "\n",
    "# Constant var\n",
    "externalWallsThickness = 5\n",
    "internalWallsThickness = 2\n",
    "grindWallsThickness = 1\n",
    "grindHeight = 10\n",
    "houseHeight = 40\n",
    "windowsHeight = 20\n",
    "windowsHeightFromFloor = 10\n",
    "doorsHeight = 25\n",
    "\n",
    "# Material Orange\n",
    "#ambientRGBA = [1,0,0,1]\n",
    "#diffuseRGBA = [0,1,0,1]\n",
    "#specularRGBA = [0,0,1,0]\n",
    "#emissionRGBA = [1,0,0,1]\n",
    "#shininess = 100\n",
    "\n",
    "# WINDOWS\n",
    "wx = [0.6, 8.2, 0.6, 8.2, 0.6, 8.2, 0.6]\n",
    "wy = 0.3\n",
    "wz = [0.6, 4.25, 0.6, 4.25, 0.6, 4.25, 0.6, 4.25, 0.6]\n",
    "wb = [[1,1,1,1,1,1,1],[1,0,0,0,0,0,1],[1,1,1,1,1,1,1],[1,0,1,0,1,0,1],[1,1,1,1,1,1,1],[1,0,1,0,1,0,1],[1,1,1,1,1,1,1],[1,0,1,0,1,0,1],[1,1,1,1,1,1,1]]"
   ]
  },
  {
   "cell_type": "code",
   "execution_count": 17,
   "metadata": {
    "collapsed": false
   },
   "outputs": [],
   "source": [
    "def createPalace(floors):\n",
    "    struct = []\n",
    "    ground = Apartment(True) \n",
    "    plane = Apartment(False)\n",
    "    struct.append(ground)\n",
    "    for i in range(floors-1):\n",
    "        struct.append(T(3)(4))\n",
    "        struct.append(plane)\n",
    "    struct.append(T(3)(4))\n",
    "    #struct.append(roof)\n",
    "    struct = STRUCT(struct)\n",
    "    struct = S([1,2,3])([0.3, 0.3, 0.3])(struct)\n",
    "    struct = R([1,2])(PI/2)(struct)\n",
    "    size = sizeOf(struct)\n",
    "    struct = T([1,2])([size[0]/2.0, -size[1]/2.0])(struct)\n",
    "    struct = R([1,2])(PI)(struct)\n",
    "    return struct"
   ]
  },
  {
   "cell_type": "code",
   "execution_count": 18,
   "metadata": {
    "collapsed": false
   },
   "outputs": [
    {
     "name": "stdout",
     "output_type": "stream",
     "text": [
      "Child 3\n",
      "Child 3\n",
      "Child 3\n",
      "Child 3\n",
      "Child 3\n",
      "Child 3\n",
      "Child 3\n",
      "Child 3\n",
      "Child 3\n",
      "Child 3\n",
      "Child 3\n",
      "Child 3\n",
      "Child 3\n",
      "Child 3\n",
      "Child 3\n",
      "Child 3\n",
      "Child 3\n",
      "Child 3\n",
      "Child 3\n",
      "Child 3\n",
      "Child 3\n",
      "Child 3\n",
      "Child 3\n",
      "Child 3\n",
      "Child 3\n",
      "Child 3\n",
      "Child 3\n",
      "Child 3\n",
      "Child 3\n",
      "Child 3\n",
      "Child 3\n",
      "Child 3\n",
      "Child 3\n",
      "Child 3\n",
      "Child 3\n",
      "Child 3\n",
      "Child 3\n",
      "Child 3\n",
      "Child 3\n",
      "Child 3\n",
      "Child 3\n",
      "Child 3\n"
     ]
    },
    {
     "data": {
      "text/plain": [
       "<pyplasm.xgepy.Hpc; proxy of <Swig Object of type 'std::shared_ptr< Hpc > *' at 0x000000000AF19210> >"
      ]
     },
     "execution_count": 18,
     "metadata": {},
     "output_type": "execute_result"
    }
   ],
   "source": [
    "VIEW(createPalace(floors))"
   ]
  },
  {
   "cell_type": "code",
   "execution_count": null,
   "metadata": {
    "collapsed": true
   },
   "outputs": [],
   "source": []
  }
 ],
 "metadata": {
  "kernelspec": {
   "display_name": "Python 2",
   "language": "python",
   "name": "python2"
  },
  "language_info": {
   "codemirror_mode": {
    "name": "ipython",
    "version": 2
   },
   "file_extension": ".py",
   "mimetype": "text/x-python",
   "name": "python",
   "nbconvert_exporter": "python",
   "pygments_lexer": "ipython2",
   "version": "2.7.12"
  }
 },
 "nbformat": 4,
 "nbformat_minor": 1
}
