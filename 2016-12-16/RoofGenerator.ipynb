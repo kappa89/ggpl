{
 "cells": [
  {
   "cell_type": "markdown",
   "metadata": {
    "collapsed": false
   },
   "source": [
    "# roof generator"
   ]
  },
  {
   "cell_type": "code",
   "execution_count": 16,
   "metadata": {
    "collapsed": false
   },
   "outputs": [],
   "source": [
    "%run \"../tools.ipynb\""
   ]
  },
  {
   "cell_type": "code",
   "execution_count": 37,
   "metadata": {
    "collapsed": false
   },
   "outputs": [],
   "source": [
    "\"\"\"Create a roof from any polyline\"\"\"\n",
    "def createRoof(floorPath, heightRoof, houseCenter):\n",
    "    vertex = readRoof(floorPath)\n",
    "    roof = []\n",
    "    for i in range(len(vertex)-1):\n",
    "        roof.append(MKPOL([[[vertex[i][0],vertex[i][1],0], [houseCenter[0],houseCenter[1],heightRoof], [vertex[(i+1)][0], vertex[(i+1)][1], 0]], [[1,2,3]],1]))\n",
    "    roof = OFFSET([5,5,5])(STRUCT(roof))\n",
    "    return COLOR(ORANGE)(S([1,2,3])([0.1, 0.1, 0.1])(roof))"
   ]
  }
 ],
 "metadata": {
  "kernelspec": {
   "display_name": "Python 2",
   "language": "python",
   "name": "python2"
  },
  "language_info": {
   "codemirror_mode": {
    "name": "ipython",
    "version": 2
   },
   "file_extension": ".py",
   "mimetype": "text/x-python",
   "name": "python",
   "nbconvert_exporter": "python",
   "pygments_lexer": "ipython2",
   "version": "2.7.12"
  }
 },
 "nbformat": 4,
 "nbformat_minor": 1
}
