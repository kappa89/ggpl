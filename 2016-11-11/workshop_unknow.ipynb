{
 "cells": [
  {
   "cell_type": "markdown",
   "metadata": {},
   "source": [
    "# <center>Desktop</center>\n",
    "\n",
    "<img src=\"Screenshot_1.png\" width=\"400\" align=\"left\"><img src=\"Screenshot_2.png\" width=\"400\">\n",
    "<img src=\"Screenshot_3.png\" width=\"400\" align=\"left\"><img src=\"Screenshot_4.png\" width=\"400\">"
   ]
  },
  {
   "cell_type": "code",
   "execution_count": 48,
   "metadata": {
    "collapsed": false
   },
   "outputs": [],
   "source": [
    "from pyplasm import *"
   ]
  },
  {
   "cell_type": "code",
   "execution_count": 65,
   "metadata": {
    "collapsed": true
   },
   "outputs": [],
   "source": [
    "def ggpl_myDesktop():\n",
    "    v = [[0,0.08],[0,0.92],[0.08,0.92],[0.08,0.08],[0.08,1],[1.92,1],[1.92,0.92],[2,0.92],[2,0.08],[1.92,0.08],[1.92,0],[0.08,0],[0,0],[0,1],[2,1],[2,0]]\n",
    "    cTable = [[13,14,15,16]]\n",
    "    cUnderTable = [[1,2,3,4],[3,5,6,7],[7,8,9,10],[12,4,10,11],[4,3,7,10]]\n",
    "    cLegs = [[13,1,4,12],[2,14,5,3],[7,6,15,8],[11,10,9,16]]\n",
    "    R([1,3])(PI/2)\n",
    "    table = PROD([QUOTE([0.02]),MKPOL([v,cTable,1])])\n",
    "    underTable = PROD([QUOTE([0.02]),MKPOL([v,cUnderTable,1])])\n",
    "    legsTable = PROD([QUOTE([0.8]),MKPOL([v,cLegs,1])])\n",
    "    struct = []\n",
    "    struct.append(R([1,3])(-PI/2))\n",
    "    struct.append(table)\n",
    "    struct.append(legsTable)\n",
    "    struct.append(T(1)(0.2))\n",
    "    struct.append(underTable)\n",
    "    return STRUCT(struct)"
   ]
  },
  {
   "cell_type": "code",
   "execution_count": 67,
   "metadata": {
    "collapsed": false
   },
   "outputs": [
    {
     "data": {
      "text/plain": [
       "<pyplasm.xgepy.Hpc; proxy of <Swig Object of type 'std::shared_ptr< Hpc > *' at 0x000000000AC0DF30> >"
      ]
     },
     "execution_count": 67,
     "metadata": {},
     "output_type": "execute_result"
    }
   ],
   "source": [
    "VIEW(ggpl_myDesktop())"
   ]
  }
 ],
 "metadata": {
  "kernelspec": {
   "display_name": "Python 2",
   "language": "python",
   "name": "python2"
  },
  "language_info": {
   "codemirror_mode": {
    "name": "ipython",
    "version": 2
   },
   "file_extension": ".py",
   "mimetype": "text/x-python",
   "name": "python",
   "nbconvert_exporter": "python",
   "pygments_lexer": "ipython2",
   "version": "2.7.12"
  }
 },
 "nbformat": 4,
 "nbformat_minor": 1
}
