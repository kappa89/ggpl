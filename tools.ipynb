{
 "cells": [
  {
   "cell_type": "code",
   "execution_count": 1,
   "metadata": {
    "collapsed": false
   },
   "outputs": [
    {
     "name": "stdout",
     "output_type": "stream",
     "text": [
      "Evaluating fenvs.py..\n",
      "...fenvs.py imported in 0.00353485084404 seconds\n"
     ]
    }
   ],
   "source": [
    "from pyplasm import *"
   ]
  },
  {
   "cell_type": "code",
   "execution_count": 2,
   "metadata": {
    "collapsed": true
   },
   "outputs": [],
   "source": [
    "# aggiunto per il vetro\n",
    "def material(ambientRGBA, diffuseRGBA, specularRGBA, emissionRGBA, shininess, pol):\n",
    "    return MATERIAL([ambientRGBA[0],\n",
    "              ambientRGBA[1],\n",
    "              ambientRGBA[2],\n",
    "              ambientRGBA[3],\n",
    "              diffuseRGBA[0],\n",
    "              diffuseRGBA[1],\n",
    "              diffuseRGBA[2],\n",
    "              diffuseRGBA[3],\n",
    "              specularRGBA[0],\n",
    "              specularRGBA[1],\n",
    "              specularRGBA[2],\n",
    "              specularRGBA[3],\n",
    "              emissionRGBA[0],\n",
    "              emissionRGBA[1],\n",
    "              emissionRGBA[2],\n",
    "              emissionRGBA[3],\n",
    "              shininess\n",
    "             ])(pol)"
   ]
  },
  {
   "cell_type": "code",
   "execution_count": 3,
   "metadata": {
    "collapsed": true
   },
   "outputs": [],
   "source": [
    "\"\"\" intRGBColor\n",
    "\n",
    "Web copied function to create colors from RGB\n",
    "@param values: array of RGB values\n",
    "@return: the color\n",
    "\"\"\"\n",
    "def intRGBColor(values):\n",
    "        return Color4f([ values[0]/255.0,\n",
    "                         values[1]/255.0,\n",
    "                         values[2]/255.0,\n",
    "                         1.0])\n",
    "\n",
    "# COLORI\n",
    "WOOD = intRGBColor([130, 100, 1])\n",
    "DARKBROWN = intRGBColor([101, 67, 33])\n",
    "GREY = intRGBColor([105,105,105])\n",
    "GREYCYANO = intRGBColor([47,79,79])\n",
    "OLDGOLD = intRGBColor([207, 181, 59])\n",
    "SILVER = intRGBColor([192,192,192])\n",
    "PURPLE = Color4f([0.41, 0.112, 0.77, 1.0])\n",
    "GRAY = Color4f([0.7, 0.7, 0.7, 1.0])\n",
    "RED= Color4f([0.6, 0, 0, 1.0])\n",
    "WHITE= Color4f([1.0, 1.0, 1.0, 1.0])\n",
    "\n",
    "BLUE_WIND = Color4f([0.275, 0.509, 0.706, 1.0])\n",
    "NEW_YELLOW = intRGBColor([ 255, 250, 193 ])\n",
    "DARK_GREEN = intRGBColor([ 80, 113, 103 ])\n",
    "LIGHT_GREEN = intRGBColor([ 116, 164, 150 ])\n",
    "BRICK = intRGBColor([211,153,127])\n",
    "SIDEWALKS_GRAY = intRGBColor([90,89,89])\n",
    "\n",
    "BID_GREEN = Color4f([0.0, 0.4, 0.3, 1.0])\n",
    "DIRTY = Color4f([1, 0.9, 0.9, 1.0])\n",
    "SILVER = Color4f([9.5, 9.5, 9.5, 1.0])\n",
    "BLACK = Color4f([0.2, 0.2, 0.2, 1.0])\n",
    "BROWN = Color4f([0.5, 0.2, 0, 1.0])\n",
    "LIGHT_BROWN = Color4f([0.6, 0.5, 0, 1.0])\n",
    "GROUND = Color4f([0.5, 0.05, 0.03, 1.0])\n",
    "BLUE = Color4f([0, 0, 0.45, 1.0])\n",
    "ORANGE = Color4f([1.0,0.5,0.16,1.0])\n"
   ]
  },
  {
   "cell_type": "code",
   "execution_count": 4,
   "metadata": {
    "collapsed": true
   },
   "outputs": [],
   "source": [
    "def readFile(file_name):\n",
    "    points = []\n",
    "    i = 0\n",
    "    indexes = []\n",
    "    with open(file_name, 'rb') as csvfile:\n",
    "        buildReader = csv.reader(csvfile)\n",
    "        for row in buildReader:\n",
    "            points.append([float(row[0]), float(row[1])])\n",
    "            points.append([float(row[2]), float(row[3])])\n",
    "            i += 2\n",
    "            indexes.append([i-1, i])\n",
    "    return S([1])([1])(MKPOL([points, indexes, None]))"
   ]
  },
  {
   "cell_type": "code",
   "execution_count": 5,
   "metadata": {
    "collapsed": true
   },
   "outputs": [],
   "source": [
    "def angle(x1, y1, x2, y2):\n",
    "    dx = x2 - x1\n",
    "    dy = y2 - y1\n",
    "    return math.atan2(dy, dx)\n",
    "        "
   ]
  },
  {
   "cell_type": "code",
   "execution_count": 6,
   "metadata": {
    "collapsed": true
   },
   "outputs": [],
   "source": [
    "def dist(x1, y1, x2, y2):\n",
    "    dx = abs(x2 - x1)\n",
    "    dy = abs(y2 - y1)\n",
    "    return math.hypot(dx, dy)"
   ]
  },
  {
   "cell_type": "code",
   "execution_count": null,
   "metadata": {
    "collapsed": true
   },
   "outputs": [],
   "source": [
    "def distList(x1, y1, x2, y2):\n",
    "    dx = abs(x2 - x1)\n",
    "    dy = abs(y2 - y1)\n",
    "    return [math.hypot(dx, dy), dx, dy]"
   ]
  },
  {
   "cell_type": "code",
   "execution_count": null,
   "metadata": {
    "collapsed": true
   },
   "outputs": [],
   "source": [
    "def readWindows(file_name, wx, wy, wz, wb):\n",
    "    i = 0\n",
    "    struct = []\n",
    "    with open(file_name, 'rb') as csvfile:\n",
    "        buildReader = csv.reader(csvfile)\n",
    "        for row in buildReader:\n",
    "            x1 = float(row[0])\n",
    "            y1 = float(row[1])\n",
    "            x2 = float(row[2])\n",
    "            y2 = float(row[3])\n",
    "            i += 2\n",
    "            \n",
    "            a = angle(x1, y1, x2, y2)\n",
    "            window = ggpl_createWindow(wx, wy, wz, wb)\n",
    "            if(a == 0):\n",
    "                window = T([1,2,3])([x1, y1+externalWallsThickness/2.0, windowsHeightFromFloor])(window)\n",
    "            if(a > 1.0 and a < 3.0):\n",
    "                window = R([1,2])(a)(window)\n",
    "                window = T([1,2,3])([x1+externalWallsThickness/2.0, y1, windowsHeightFromFloor])(window)\n",
    "                #window = T(1)(wy)(window)\n",
    "            if(a > 3.0):\n",
    "                window = R([1,2])(a)(window)\n",
    "                window = T([1,2,3])([x1, y1+externalWallsThickness/2.0, windowsHeightFromFloor])(window)\n",
    "            struct.append(window)\n",
    "    return STRUCT(struct)"
   ]
  },
  {
   "cell_type": "code",
   "execution_count": null,
   "metadata": {
    "collapsed": true
   },
   "outputs": [],
   "source": [
    "def readWindowBox(file_name, wx, wy, wz, wb):\n",
    "    i = 0\n",
    "    struct = []\n",
    "    with open(file_name, 'rb') as csvfile:\n",
    "        buildReader = csv.reader(csvfile)\n",
    "        for row in buildReader:\n",
    "            x1 = float(row[0])\n",
    "            y1 = float(row[1])\n",
    "            x2 = float(row[2])\n",
    "            y2 = float(row[3])\n",
    "            i += 2\n",
    "            \n",
    "            a = angle(x1, y1, x2, y2)\n",
    "            window = BOX([1,2,3])(ggpl_createWindow(wx, externalWallsThickness, wz, wb))\n",
    "            window = R([1,2])(a)(window)\n",
    "            window = T([1,2,3])([x1, y1, windowsHeightFromFloor])(window)\n",
    "            if(a > 1.0 and a < 3.0):\n",
    "                window = T(1)(externalWallsThickness)(window)\n",
    "            if(a > 3.0):\n",
    "                window = T(2)(externalWallsThickness)(window)\n",
    "            struct.append(window)\n",
    "    return STRUCT(struct)"
   ]
  },
  {
   "cell_type": "code",
   "execution_count": null,
   "metadata": {
    "collapsed": true
   },
   "outputs": [],
   "source": [
    "def readDoor(file_name, dy, dz):\n",
    "    i = 0\n",
    "    struct = []\n",
    "    with open(file_name, 'rb') as csvfile:\n",
    "        buildReader = csv.reader(csvfile)\n",
    "        for row in buildReader:\n",
    "            x1 = float(row[0])\n",
    "            y1 = float(row[1])\n",
    "            x2 = float(row[2])\n",
    "            y2 = float(row[3])\n",
    "            i += 2\n",
    "            dx = dist(x1, y1, x2, y2)\n",
    "            a = angle(x1, y1, x2, y2)\n",
    "            door = ggpl_createDoor(dx, dy, dz)\n",
    "            door = R([1,2])(a)(door)\n",
    "            door = T([1,2])([x1, y1])(door)\n",
    "            if(a > 1.0 and a < 3.0):\n",
    "                door = T(1)(internalWallsThickness)(door)\n",
    "            if(a > 3.0):\n",
    "                door = T(2)(internalWallsThickness)(door)\n",
    "            struct.append(door)\n",
    "    return STRUCT(struct)"
   ]
  },
  {
   "cell_type": "code",
   "execution_count": null,
   "metadata": {
    "collapsed": true
   },
   "outputs": [],
   "source": [
    "def readDoorBox(file_name, dy, dz):\n",
    "    i = 0\n",
    "    struct = []\n",
    "    with open(file_name, 'rb') as csvfile:\n",
    "        buildReader = csv.reader(csvfile)\n",
    "        for row in buildReader:\n",
    "            x1 = float(row[0])\n",
    "            y1 = float(row[1])\n",
    "            x2 = float(row[2])\n",
    "            y2 = float(row[3])\n",
    "            i += 2\n",
    "            dx = dist(x1, y1, x2, y2)\n",
    "            a = angle(x1, y1, x2, y2)\n",
    "            door = CUBOID([dx, dy, dz])\n",
    "            door = R([1,2])(a)(door)\n",
    "            door = T([1,2])([x1, y1])(door)\n",
    "            if(a > 1.0 and a < 3.0):\n",
    "                door = T(1)(externalWallsThickness)(door)\n",
    "            if(a > 3.0):\n",
    "                door = T(2)(externalWallsThickness)(door)\n",
    "            struct.append(door)\n",
    "    return STRUCT(struct)"
   ]
  },
  {
   "cell_type": "code",
   "execution_count": null,
   "metadata": {
    "collapsed": true
   },
   "outputs": [],
   "source": [
    "def readMainDoor(file_name, dy, dz):\n",
    "    i = 0\n",
    "    struct = []\n",
    "    with open(file_name, 'rb') as csvfile:\n",
    "        buildReader = csv.reader(csvfile)\n",
    "        for row in buildReader:\n",
    "            x1 = float(row[0])\n",
    "            y1 = float(row[1])\n",
    "            x2 = float(row[2])\n",
    "            y2 = float(row[3])\n",
    "            i += 2\n",
    "            dx = dist(x1, y1, x2, y2)\n",
    "            a = angle(x1, y1, x2, y2)\n",
    "            door = ggpl_createMainDoor(dx, dy, dz)\n",
    "            door = R([1,2])(a)(door)\n",
    "            door = T([1,2])([x1, y1])(door)\n",
    "            if(a > 1.0 and a < 3.0):\n",
    "                door = T(1)(externalWallsThickness/2.0)(door)\n",
    "            if(a > 3.0):\n",
    "                door = T(2)(externalWallsThickness/2.0)(door)\n",
    "            struct.append(door)\n",
    "    return STRUCT(struct)"
   ]
  },
  {
   "cell_type": "code",
   "execution_count": null,
   "metadata": {
    "collapsed": true
   },
   "outputs": [],
   "source": [
    "def readMainDoorBox(file_name, dy, dz):\n",
    "    i = 0\n",
    "    struct = []\n",
    "    with open(file_name, 'rb') as csvfile:\n",
    "        buildReader = csv.reader(csvfile)\n",
    "        for row in buildReader:\n",
    "            x1 = float(row[0])\n",
    "            y1 = float(row[1])\n",
    "            x2 = float(row[2])\n",
    "            y2 = float(row[3])\n",
    "            i += 2\n",
    "            dx = dist(x1, y1, x2, y2)\n",
    "            a = angle(x1, y1, x2, y2)\n",
    "            door = CUBOID([dx, dy, dz])\n",
    "            door = R([1,2])(a)(door)\n",
    "            door = T([1,2])([x1, y1])(door)\n",
    "            if(a > 1.0 and a < 3.0):\n",
    "                door = T(1)(externalWallsThickness)(door)\n",
    "            if(a > 3.0):\n",
    "                door = T(2)(externalWallsThickness)(door)\n",
    "            struct.append(door)\n",
    "    return STRUCT(struct)"
   ]
  },
  {
   "cell_type": "code",
   "execution_count": 15,
   "metadata": {
    "collapsed": false
   },
   "outputs": [],
   "source": [
    "def readStairs(file_name, dz):\n",
    "    i = 0\n",
    "    struct = []\n",
    "    with open(file_name, 'rb') as csvfile:\n",
    "        buildReader = csv.reader(csvfile)\n",
    "        for row in buildReader:\n",
    "            x1 = float(row[0])\n",
    "            y1 = float(row[1])\n",
    "            x2 = float(row[2])\n",
    "            y2 = float(row[3])\n",
    "            i += 2\n",
    "        dy = dist(x1, y1, x2, y2)\n",
    "        dy = 0.1 * dy/2.0\n",
    "        a = angle(x1, y1, x2, y2)\n",
    "        stair = createStair(dy, dz)\n",
    "        stair = S([1,2,3])([10,10,10])(stair)\n",
    "        struct.append(stair)            \n",
    "    return STRUCT(struct)"
   ]
  },
  {
   "cell_type": "code",
   "execution_count": null,
   "metadata": {
    "collapsed": true
   },
   "outputs": [],
   "source": [
    "def scale(dx, dy, dz, obj):\n",
    "    box = BOX([1,2,3])(obj)\n",
    "    size = SIZE([1,2,3])(box)  \n",
    "    scaleX = dx/size[0]\n",
    "    scaleY = dy/size[1]\n",
    "    scaleZ = dz/size[2]\n",
    "    return S([1,2,3])([scaleX, scaleY, scaleZ])(obj)"
   ]
  },
  {
   "cell_type": "code",
   "execution_count": 1,
   "metadata": {
    "collapsed": true
   },
   "outputs": [],
   "source": [
    "def sizeOf(object):\n",
    "    return SIZE([1,2,3])(object)"
   ]
  }
 ],
 "metadata": {
  "kernelspec": {
   "display_name": "Python 2",
   "language": "python",
   "name": "python2"
  },
  "language_info": {
   "codemirror_mode": {
    "name": "ipython",
    "version": 2
   },
   "file_extension": ".py",
   "mimetype": "text/x-python",
   "name": "python",
   "nbconvert_exporter": "python",
   "pygments_lexer": "ipython2",
   "version": "2.7.12"
  }
 },
 "nbformat": 4,
 "nbformat_minor": 1
}
