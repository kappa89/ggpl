{
 "cells": [
  {
   "cell_type": "markdown",
   "metadata": {},
   "source": [
    "# <center> WillGraceApartment </center>\n",
    "\n",
    "![piantina](./img/piantinaGirata.png)\n",
    "![piantina](./img/Screenshot_1.png)\n",
    "![piantina](./img/Screenshot_2.png)\n",
    "![piantina](./img/Screenshot_3.png)"
   ]
  },
  {
   "cell_type": "code",
   "execution_count": 1,
   "metadata": {
    "collapsed": false
   },
   "outputs": [
    {
     "name": "stdout",
     "output_type": "stream",
     "text": [
      "Evaluating fenvs.py..\n",
      "...fenvs.py imported in 0.00500736695881 seconds\n"
     ]
    }
   ],
   "source": [
    "from pyplasm import *\n",
    "import csv"
   ]
  },
  {
   "cell_type": "code",
   "execution_count": 2,
   "metadata": {
    "collapsed": false
   },
   "outputs": [],
   "source": [
    "\"\"\" intRGBColor\n",
    "\n",
    "Web copied function to create colors from RGB\n",
    "@param values: array of RGB values\n",
    "@return: the color\n",
    "\"\"\"\n",
    "def intRGBColor(values):\n",
    "        return Color4f([ values[0]/255.0,\n",
    "                         values[1]/255.0,\n",
    "                         values[2]/255.0,\n",
    "                         1.0])\n",
    "    \n",
    "SILVER = intRGBColor([192,192,192])\n",
    "GREY = intRGBColor([105,105,105])\n",
    "GREYCYANO = intRGBColor([47,79,79])\n",
    "WOOD = intRGBColor([130, 100, 1])"
   ]
  },
  {
   "cell_type": "code",
   "execution_count": 3,
   "metadata": {
    "collapsed": false
   },
   "outputs": [],
   "source": [
    "def material(ambientRGBA, diffuseRGBA, specularRGBA, emissionRGBA, shininess, pol):\n",
    "    return MATERIAL([ambientRGBA[0],\n",
    "              ambientRGBA[1],\n",
    "              ambientRGBA[2],\n",
    "              ambientRGBA[3],\n",
    "              diffuseRGBA[0],\n",
    "              diffuseRGBA[1],\n",
    "              diffuseRGBA[2],\n",
    "              diffuseRGBA[3],\n",
    "              specularRGBA[0],\n",
    "              specularRGBA[1],\n",
    "              specularRGBA[2],\n",
    "              specularRGBA[3],\n",
    "              emissionRGBA[0],\n",
    "              emissionRGBA[1],\n",
    "              emissionRGBA[2],\n",
    "              emissionRGBA[3],\n",
    "              shininess\n",
    "             ])(pol)\n",
    "\n",
    "\n"
   ]
  },
  {
   "cell_type": "code",
   "execution_count": 4,
   "metadata": {
    "collapsed": true
   },
   "outputs": [],
   "source": [
    "def readFile(file_name):\n",
    "    points = []\n",
    "    i = 0\n",
    "    indexes = []\n",
    "    with open(file_name, 'rb') as csvfile:\n",
    "        buildReader = csv.reader(csvfile)\n",
    "        for row in buildReader:\n",
    "            points.append([float(row[0]), float(row[1])])\n",
    "            points.append([float(row[2]), float(row[3])])\n",
    "            i += 2\n",
    "            indexes.append([i-1, i])\n",
    "    return S([1])([-1])(MKPOL([points, indexes, None]))"
   ]
  },
  {
   "cell_type": "code",
   "execution_count": 5,
   "metadata": {
    "collapsed": true
   },
   "outputs": [],
   "source": [
    "\"\"\"constant var and path\"\"\"\n",
    "# Path\n",
    "pathExternalWalls = \"./lines/external.lines\"\n",
    "pathInternalWalls = \"./lines/internal.lines\"\n",
    "pathGrindWalls = \"./lines/grind.lines\"\n",
    "pathFloor = \"./lines/floor.lines\"\n",
    "pathHoles = \"./lines/holes.lines\"\n",
    "pathBalconyFloor = \"./lines/balconyFloor.lines\"\n",
    "pathDoors = \"./lines/doors.lines\"\n",
    "pathWindows = \"./lines/windows.lines\"\n",
    "\n",
    "# Constant var\n",
    "externalWallsThickness = 5\n",
    "internalWallsThickness = 2\n",
    "grindWallsThickness = 1\n",
    "grindHeight = 10\n",
    "houseHeight = 40\n",
    "windowsHeight = 20\n",
    "windowsHeightFromFloor = 10\n",
    "doorsHeight = 25\n",
    "\n",
    "# Material Orange\n",
    "ambientRGBA = [1,0,0,1]\n",
    "diffuseRGBA = [0,1,0,1]\n",
    "specularRGBA = [0,0,1,0]\n",
    "emissionRGBA = [1,0,0,1]\n",
    "shininess = 100"
   ]
  },
  {
   "cell_type": "code",
   "execution_count": 6,
   "metadata": {
    "collapsed": false
   },
   "outputs": [],
   "source": [
    "\"\"\"This function uses the constants above and creates an HPC object of an house\"\"\"\n",
    "\n",
    "def MyAparment():\n",
    "    # External Walls\n",
    "    externalWallsHPC = readFile(pathExternalWalls)\n",
    "    externalWallsThick = OFFSET([externalWallsThickness,externalWallsThickness])(externalWallsHPC)\n",
    "    externalWallsWithOutWindows = PROD([externalWallsThick, QUOTE([houseHeight])])\n",
    "    \n",
    "    # Internal Walls\n",
    "    internalWallsHPC = readFile(pathInternalWalls)\n",
    "    internalWallsThick = OFFSET([internalWallsThickness,internalWallsThickness])(internalWallsHPC)\n",
    "    internalWallDiffered = DIFF([internalWallsThick, externalWallsThick])\n",
    "    internalWallsWithOutDoors = PROD([internalWallDiffered, QUOTE([houseHeight])])\n",
    "    \n",
    "    # Grind Walls\n",
    "    grindWallsHPC = readFile(pathGrindWalls)\n",
    "    grindWallsThick = OFFSET([grindWallsThickness,grindWallsThickness])(grindWallsHPC)\n",
    "    grindWallDiffered = DIFF([grindWallsThick, externalWallsThick])\n",
    "    grindWallsTall = PROD([grindWallDiffered, QUOTE([grindHeight])])\n",
    "    \n",
    "    # Windows\n",
    "    windowsHPC = readFile(pathWindows)\n",
    "    windowsThick = OFFSET([externalWallsThickness, externalWallsThickness])(windowsHPC)\n",
    "    windowsTall = PROD([windowsThick, QUOTE([windowsHeight])])\n",
    "    windowsFromFloor = STRUCT([T(3)(windowsHeightFromFloor), windowsTall])\n",
    "    \n",
    "    # External Wall holes\n",
    "    externalWallsWithWindows = DIFF([externalWallsWithOutWindows, windowsFromFloor])\n",
    "    \n",
    "    #Doors\n",
    "    doorsHPC = readFile(pathDoors)\n",
    "    doorsExternalThick = OFFSET([externalWallsThickness+1, externalWallsThickness+1])(doorsHPC)\n",
    "    doorsExternalTall = PROD([doorsExternalThick, QUOTE([doorsHeight])])\n",
    "    \n",
    "    # External Wall with windows and doors\n",
    "    externalWallsWithWindowsAndDoors = DIFF([externalWallsWithWindows, doorsExternalTall])\n",
    "    externalWallsWithWindowsAndDoorsColored = COLOR(GREY)(externalWallsWithWindowsAndDoors)\n",
    "    \n",
    "    grindColored = COLOR(WHITE)(grindWallsTall)\n",
    "    \n",
    "    # Internal Wall with windows and doors\n",
    "    doorsInternalThick = OFFSET([internalWallsThickness+1, internalWallsThickness+1])(doorsHPC)\n",
    "    doorsInternalTall = PROD([doorsInternalThick, QUOTE([doorsHeight])])\n",
    "    internalWallsDoors = DIFF([internalWallsWithOutDoors, doorsInternalTall])\n",
    "    internalWallsDoorsColored = COLOR(GREEN)(internalWallsDoors)\n",
    "    \n",
    "    # HoleStair\n",
    "    holeHPC = readFile(pathHoles)\n",
    "    holes = SOLIDIFY(holeHPC)\n",
    "    \n",
    "    # Floors\n",
    "    floorHPC = readFile(pathFloor)\n",
    "    floorHPC = SOLIDIFY(floorHPC)\n",
    "    floorHPC = DIFF([floorHPC, holes])\n",
    "    floorHPCColored = COLOR(WOOD)(floorHPC)\n",
    "    \n",
    "    # Balcony Floors\n",
    "    balconyFloorHPC = readFile(pathBalconyFloor)\n",
    "    balconyFloorColored = COLOR(GREEN)(SOLIDIFY(balconyFloorHPC))\n",
    "    balconyMaterial = material(ambientRGBA, diffuseRGBA, specularRGBA, emissionRGBA, shininess, balconyFloorColored)\n",
    "    \n",
    "    # Final Struct\n",
    "    struct = STRUCT([grindColored, floorHPCColored, balconyMaterial, externalWallsWithWindowsAndDoorsColored, internalWallsDoorsColored])\n",
    "    \n",
    "    return struct\n"
   ]
  },
  {
   "cell_type": "code",
   "execution_count": 7,
   "metadata": {
    "collapsed": false
   },
   "outputs": [
    {
     "data": {
      "text/plain": [
       "<pyplasm.xgepy.Hpc; proxy of <Swig Object of type 'std::shared_ptr< Hpc > *' at 0x000000000B207D80> >"
      ]
     },
     "execution_count": 7,
     "metadata": {},
     "output_type": "execute_result"
    }
   ],
   "source": [
    "VIEW(MyAparment())"
   ]
  },
  {
   "cell_type": "code",
   "execution_count": null,
   "metadata": {
    "collapsed": true
   },
   "outputs": [],
   "source": []
  }
 ],
 "metadata": {
  "kernelspec": {
   "display_name": "Python 2",
   "language": "python",
   "name": "python2"
  },
  "language_info": {
   "codemirror_mode": {
    "name": "ipython",
    "version": 2
   },
   "file_extension": ".py",
   "mimetype": "text/x-python",
   "name": "python",
   "nbconvert_exporter": "python",
   "pygments_lexer": "ipython2",
   "version": "2.7.12"
  }
 },
 "nbformat": 4,
 "nbformat_minor": 1
}
