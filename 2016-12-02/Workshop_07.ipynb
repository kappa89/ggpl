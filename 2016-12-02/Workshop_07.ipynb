{
 "cells": [
  {
   "cell_type": "markdown",
   "metadata": {},
   "source": [
    "# <center> WillGraceApartment </center>\n",
    "\n",
    "![piantina](./img/piantinaGirata.png)\n",
    "![piantina](./img/Screenshot_1.png)\n",
    "![piantina](./img/Screenshot_2.png)\n",
    "![piantina](./img/Screenshot_3.png)"
   ]
  },
  {
   "cell_type": "code",
   "execution_count": 1,
   "metadata": {
    "collapsed": false
   },
   "outputs": [
    {
     "name": "stdout",
     "output_type": "stream",
     "text": [
      "Evaluating fenvs.py..\n",
      "...fenvs.py imported in 0.00351992968918 seconds\n"
     ]
    }
   ],
   "source": [
    "from pyplasm import *\n",
    "import csv\n",
    "%run \"../2016-11-25/workshop_06.ipynb\"\n"
   ]
  },
  {
   "cell_type": "code",
   "execution_count": 2,
   "metadata": {
    "collapsed": false
   },
   "outputs": [],
   "source": [
    "\"\"\"constant var and path\"\"\"\n",
    "# Path\n",
    "pathExternalWalls = \"./lines/external.lines\"\n",
    "pathInternalWalls = \"./lines/internal.lines\"\n",
    "pathGrindWalls = \"./lines/grind.lines\"\n",
    "pathFloor = \"./lines/floor.lines\"\n",
    "pathHoles = \"./lines/holes.lines\"\n",
    "pathBalconyFloor = \"./lines/balconyFloor.lines\"\n",
    "pathDoors = \"./lines/doors2.lines\"\n",
    "pathMainEntrance = \"./lines/portoneIngresso.lines\"\n",
    "pathWindows = \"./lines/windows3.lines\"\n",
    "pathAperture = \"./lines/aperture.lines\"\n",
    "\n",
    "# Constant var\n",
    "externalWallsThickness = 5\n",
    "internalWallsThickness = 2\n",
    "grindWallsThickness = 1\n",
    "grindHeight = 10\n",
    "houseHeight = 40\n",
    "windowsHeight = 20\n",
    "windowsHeightFromFloor = 10\n",
    "doorsHeight = 25\n",
    "\n",
    "# Material Orange\n",
    "#ambientRGBA = [1,0,0,1]\n",
    "#diffuseRGBA = [0,1,0,1]\n",
    "#specularRGBA = [0,0,1,0]\n",
    "#emissionRGBA = [1,0,0,1]\n",
    "#shininess = 100\n",
    "\n",
    "wx = [0.6, 8.2, 0.6, 8.2, 0.6, 8.2, 0.6]\n",
    "wy = 0.3\n",
    "wz = [0.6, 4.25, 0.6, 4.25, 0.6, 4.25, 0.6, 4.25, 0.6]\n",
    "wb = [[1,1,1,1,1,1,1],[1,0,0,0,0,0,1],[1,1,1,1,1,1,1],[1,0,1,0,1,0,1],[1,1,1,1,1,1,1],[1,0,1,0,1,0,1],[1,1,1,1,1,1,1],[1,0,1,0,1,0,1],[1,1,1,1,1,1,1]]"
   ]
  },
  {
   "cell_type": "code",
   "execution_count": 3,
   "metadata": {
    "collapsed": false
   },
   "outputs": [],
   "source": [
    "def readWindows(file_name, wx, wy, wz, wb):\n",
    "    i = 0\n",
    "    struct = []\n",
    "    with open(file_name, 'rb') as csvfile:\n",
    "        buildReader = csv.reader(csvfile)\n",
    "        for row in buildReader:\n",
    "            x1 = float(row[0])\n",
    "            y1 = float(row[1])\n",
    "            x2 = float(row[2])\n",
    "            y2 = float(row[3])\n",
    "            i += 2\n",
    "            \n",
    "            a = angle(x1, y1, x2, y2)\n",
    "            window = ggpl_createWindow(wx, wy, wz, wb)\n",
    "            if(a == 0):\n",
    "                window = T([1,2,3])([x1, y1+externalWallsThickness/2.0, windowsHeightFromFloor])(window)\n",
    "            if(a > 1.0 and a < 3.0):\n",
    "                window = R([1,2])(a)(window)\n",
    "                window = T([1,2,3])([x1+externalWallsThickness/2.0, y1, windowsHeightFromFloor])(window)\n",
    "                #window = T(1)(wy)(window)\n",
    "            if(a > 3.0):\n",
    "                window = R([1,2])(a)(window)\n",
    "                window = T([1,2,3])([x1, y1+externalWallsThickness/2.0, windowsHeightFromFloor])(window)\n",
    "                #window = T(2)(wy)(window)\n",
    "            struct.append(window)\n",
    "    return STRUCT(struct)"
   ]
  },
  {
   "cell_type": "code",
   "execution_count": 4,
   "metadata": {
    "collapsed": false
   },
   "outputs": [],
   "source": [
    "def readWindowBox(file_name, wx, wy, wz, wb):\n",
    "    i = 0\n",
    "    struct = []\n",
    "    with open(file_name, 'rb') as csvfile:\n",
    "        buildReader = csv.reader(csvfile)\n",
    "        for row in buildReader:\n",
    "            x1 = float(row[0])\n",
    "            y1 = float(row[1])\n",
    "            x2 = float(row[2])\n",
    "            y2 = float(row[3])\n",
    "            i += 2\n",
    "            \n",
    "            a = angle(x1, y1, x2, y2)\n",
    "            window = BOX([1,2,3])(ggpl_createWindow(wx, externalWallsThickness, wz, wb))\n",
    "            window = R([1,2])(a)(window)\n",
    "            window = T([1,2,3])([x1, y1, windowsHeightFromFloor])(window)\n",
    "            if(a > 1.0 and a < 3.0):\n",
    "                window = T(1)(externalWallsThickness)(window)\n",
    "            if(a > 3.0):\n",
    "                window = T(2)(externalWallsThickness)(window)\n",
    "            struct.append(window)\n",
    "    return STRUCT(struct)"
   ]
  },
  {
   "cell_type": "code",
   "execution_count": 5,
   "metadata": {
    "collapsed": true
   },
   "outputs": [],
   "source": [
    "def readDoorBox(file_name, dy, dz):\n",
    "    i = 0\n",
    "    struct = []\n",
    "    with open(file_name, 'rb') as csvfile:\n",
    "        buildReader = csv.reader(csvfile)\n",
    "        for row in buildReader:\n",
    "            x1 = float(row[0])\n",
    "            y1 = float(row[1])\n",
    "            x2 = float(row[2])\n",
    "            y2 = float(row[3])\n",
    "            i += 2\n",
    "            dx = dist(x1, y1, x2, y2)\n",
    "            a = angle(x1, y1, x2, y2)\n",
    "            door = CUBOID([dx, dy, dz])\n",
    "            door = R([1,2])(a)(door)\n",
    "            door = T([1,2])([x1, y1])(door)\n",
    "            if(a > 1.0 and a < 3.0):\n",
    "                door = T(1)(externalWallsThickness)(door)\n",
    "            if(a > 3.0):\n",
    "                door = T(2)(externalWallsThickness)(door)\n",
    "            struct.append(door)\n",
    "    return STRUCT(struct)"
   ]
  },
  {
   "cell_type": "code",
   "execution_count": 8,
   "metadata": {
    "collapsed": false
   },
   "outputs": [],
   "source": [
    "\"\"\"This function uses the constants above and creates an HPC object of an house\"\"\"\n",
    "\n",
    "def MyAparment():\n",
    "    # HPC\n",
    "    externalWalls = readFile(pathExternalWalls)\n",
    "    internalWalls = readFile(pathInternalWalls)\n",
    "    grind = readFile(pathGrindWalls)\n",
    "    aperture = readFile(pathAperture)\n",
    "    holes = readFile(pathHoles)\n",
    "    ground = readFile(pathFloor)\n",
    "    balconyFloor = readFile(pathBalconyFloor)\n",
    "    \n",
    "    # OFFSET\n",
    "    externalWalls = OFFSET([externalWallsThickness,externalWallsThickness])(externalWalls)\n",
    "    internalWalls = OFFSET([internalWallsThickness,internalWallsThickness])(internalWalls)\n",
    "    grind = OFFSET([grindWallsThickness,grindWallsThickness])(grind)\n",
    "    aperture = OFFSET([externalWallsThickness+1, externalWallsThickness+1])(aperture)\n",
    "    \n",
    "    # PROD\n",
    "    externalWalls = PROD([externalWalls, QUOTE([houseHeight])])\n",
    "    internalWalls = PROD([internalWalls, QUOTE([houseHeight])])\n",
    "    grind = PROD([grind, QUOTE([grindHeight])])\n",
    "    aperture = PROD([aperture, QUOTE([doorsHeight])])\n",
    "    \n",
    "    # BOX\n",
    "    windowBoxs = readWindowBox(pathWindows, wx, externalWallsThickness, wz, wb)\n",
    "    doorBoxs = readDoorBox(pathDoors, 5, doorsHeight)\n",
    "    \n",
    "    # OBJECT\n",
    "    windows = readWindows(pathWindows, wx, 0.2, wz, wb)\n",
    "    #doors = readDoor(pathWindows, wx, 0.2, wz, wb)\n",
    "    holes = SOLIDIFY(holes)\n",
    "    ground = SOLIDIFY(ground)\n",
    "    \n",
    "    # DIFF\n",
    "    grind = DIFF([grind, externalWalls])\n",
    "    internalWalls = DIFF([internalWalls, externalWalls])  \n",
    "    internalWalls = DIFF([internalWalls, doorBoxs])\n",
    "    externalWalls = DIFF([externalWalls, windowBoxs])\n",
    "    externalWalls = DIFF([externalWalls, doorBoxs])\n",
    "    externalWalls = DIFF([externalWalls, aperture])\n",
    "    floor = DIFF([ground, holes])\n",
    "    \n",
    "    # COLOR AND TEXTURE\n",
    "    grind = material(ambientRGBA, diffuseRGBA, specularRGBA, emissionRGBA, shininess, grind) #vetro\n",
    "    externalWalls = COLOR(GREY)(externalWalls)    \n",
    "    internalWalls = COLOR(GREEN)(internalWalls)\n",
    "    ground = COLOR(WOOD)(ground)\n",
    "    balconyFloor = COLOR(GREY)(SOLIDIFY(balconyFloor))\n",
    "      \n",
    "    # FINAL STRUCTURE\n",
    "    struct = STRUCT([grind, windows, ground, balconyFloor, externalWalls, internalWalls])\n",
    "    return struct\n"
   ]
  },
  {
   "cell_type": "code",
   "execution_count": 9,
   "metadata": {
    "collapsed": false
   },
   "outputs": [
    {
     "data": {
      "text/plain": [
       "<pyplasm.xgepy.Hpc; proxy of <Swig Object of type 'std::shared_ptr< Hpc > *' at 0x000000000ABAF750> >"
      ]
     },
     "execution_count": 9,
     "metadata": {},
     "output_type": "execute_result"
    }
   ],
   "source": [
    "VIEW(MyAparment())"
   ]
  },
  {
   "cell_type": "code",
   "execution_count": null,
   "metadata": {
    "collapsed": true
   },
   "outputs": [],
   "source": []
  }
 ],
 "metadata": {
  "kernelspec": {
   "display_name": "Python 2",
   "language": "python",
   "name": "python2"
  },
  "language_info": {
   "codemirror_mode": {
    "name": "ipython",
    "version": 2
   },
   "file_extension": ".py",
   "mimetype": "text/x-python",
   "name": "python",
   "nbconvert_exporter": "python",
   "pygments_lexer": "ipython2",
   "version": "2.7.12"
  }
 },
 "nbformat": 4,
 "nbformat_minor": 1
}
