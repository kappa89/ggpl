{
 "cells": [
  {
   "cell_type": "markdown",
   "metadata": {},
   "source": [
    "# <center> WillGraceApartment </center>\n",
    "\n",
    "![piantina](./img/piantinaGirata.png)\n",
    "![piantina](./img/Screenshot_1.png)\n",
    "![piantina](./img/Screenshot_2.png)\n",
    "![piantina](./img/Screenshot_3.png)\n",
    "![piantina](./img/Screenshot_4.png)\n",
    "![piantina](./img/Screenshot_5.png)\n",
    "![piantina](./img/Screenshot_6.png)\n",
    "![piantina](./img/Screenshot_7.png)"
   ]
  },
  {
   "cell_type": "code",
   "execution_count": 30,
   "metadata": {
    "collapsed": false
   },
   "outputs": [
    {
     "name": "stdout",
     "output_type": "stream",
     "text": [
      "X: 10.9350004196\n",
      "Y: 1.29999995232\n",
      "Z: 3.58749938011\n"
     ]
    }
   ],
   "source": [
    "from pyplasm import *\n",
    "import csv\n",
    "%run \"../2016-11-25/workshop_06.ipynb\"\n",
    "%run \"../2016-10-28/StairWS08.ipynb\"\n",
    "%run \"../tools.ipynb\""
   ]
  },
  {
   "cell_type": "code",
   "execution_count": 31,
   "metadata": {
    "collapsed": false
   },
   "outputs": [],
   "source": [
    "\"\"\"constant var and path\"\"\"\n",
    "# Path\n",
    "pathExternalWalls = \"./lines/external.lines\"\n",
    "pathInternalWalls = \"./lines/internal.lines\"\n",
    "pathGrindWalls = \"./lines/grind.lines\"\n",
    "pathFloor = \"./lines/floor.lines\"\n",
    "pathStairs = \"./lines/stairs.lines\"\n",
    "pathStairs2 = \"./lines/stairs2.lines\"\n",
    "pathBalconyFloor = \"./lines/balconyFloor.lines\"\n",
    "pathDoors = \"./lines/doors2.lines\"\n",
    "pathMainEntrance = \"./lines/portoneIngresso.lines\"\n",
    "pathWindows = \"./lines/windows3.lines\"\n",
    "pathAperture = \"./lines/aperture.lines\"\n",
    "\n",
    "# Constant var\n",
    "externalWallsThickness = 5\n",
    "internalWallsThickness = 2\n",
    "grindWallsThickness = 1\n",
    "grindHeight = 10\n",
    "houseHeight = 40\n",
    "windowsHeight = 20\n",
    "windowsHeightFromFloor = 10\n",
    "doorsHeight = 25\n",
    "\n",
    "# Material Orange\n",
    "#ambientRGBA = [1,0,0,1]\n",
    "#diffuseRGBA = [0,1,0,1]\n",
    "#specularRGBA = [0,0,1,0]\n",
    "#emissionRGBA = [1,0,0,1]\n",
    "#shininess = 100\n",
    "\n",
    "wx = [0.6, 8.2, 0.6, 8.2, 0.6, 8.2, 0.6]\n",
    "wy = 0.3\n",
    "wz = [0.6, 4.25, 0.6, 4.25, 0.6, 4.25, 0.6, 4.25, 0.6]\n",
    "wb = [[1,1,1,1,1,1,1],[1,0,0,0,0,0,1],[1,1,1,1,1,1,1],[1,0,1,0,1,0,1],[1,1,1,1,1,1,1],[1,0,1,0,1,0,1],[1,1,1,1,1,1,1],[1,0,1,0,1,0,1],[1,1,1,1,1,1,1]]"
   ]
  },
  {
   "cell_type": "code",
   "execution_count": 32,
   "metadata": {
    "collapsed": false
   },
   "outputs": [],
   "source": [
    "\"\"\"This function uses the constants above and creates an HPC object of an house\"\"\"\n",
    "\n",
    "def Apartment(ground):\n",
    "    # HPC\n",
    "    externalWalls = readFile(pathExternalWalls)\n",
    "    internalWalls = readFile(pathInternalWalls)\n",
    "    grind = readFile(pathGrindWalls)\n",
    "    aperture = readFile(pathAperture)\n",
    "    main = readFile(pathMainEntrance)\n",
    "    stairFloor = readFile(pathStairs2)\n",
    "    ground = readFile(pathFloor)\n",
    "    balconyFloor = readFile(pathBalconyFloor)\n",
    "    \n",
    "    # OFFSET\n",
    "    externalWalls = OFFSET([externalWallsThickness,externalWallsThickness])(externalWalls)\n",
    "    internalWalls = OFFSET([internalWallsThickness,internalWallsThickness])(internalWalls)\n",
    "    grind = OFFSET([grindWallsThickness,grindWallsThickness])(grind)\n",
    "    aperture = OFFSET([externalWallsThickness+1, externalWallsThickness+1])(aperture)\n",
    "    \n",
    "    # PROD\n",
    "    externalWalls = PROD([externalWalls, QUOTE([houseHeight])])\n",
    "    internalWalls = PROD([internalWalls, QUOTE([houseHeight])])\n",
    "    grind = PROD([grind, QUOTE([grindHeight])])\n",
    "    aperture = PROD([aperture, QUOTE([doorsHeight])])\n",
    "    \n",
    "    # BOX\n",
    "    windowBoxs = readWindowBox(pathWindows, wx, externalWallsThickness, wz, wb)\n",
    "    doorBoxs = readDoorBox(pathDoors, externalWallsThickness, doorsHeight)\n",
    "    mainBox = readMainDoorBox(pathMainEntrance, externalWallsThickness, doorsHeight)\n",
    "    \n",
    "    # OBJECT\n",
    "    windows = readWindows(pathWindows, wx, wy, wz, wb)\n",
    "    doors = readDoor(pathDoors, 1, doorsHeight)\n",
    "    stairFloor = SOLIDIFY(stairFloor)\n",
    "    ground = SOLIDIFY(ground)\n",
    "    main = readMainDoor(pathMainEntrance, 1, doorsHeight)\n",
    "    stairs = readStairs(pathStairs, 4)\n",
    "    stairs = scale(108, 58, 50, stairs)\n",
    "    stairs01 = T([1,2])([675-108, 819+5])(stairs)\n",
    "    stairs02 = T([1,2])([567, 162+5])(stairs)\n",
    "    \n",
    "    # DIFF\n",
    "    grind = DIFF([grind, externalWalls])\n",
    "    internalWalls = DIFF([internalWalls, externalWalls])  \n",
    "    internalWalls = DIFF([internalWalls, doorBoxs])\n",
    "    externalWalls = DIFF([externalWalls, windowBoxs])\n",
    "    externalWalls = DIFF([externalWalls, doorBoxs])\n",
    "    externalWalls = DIFF([externalWalls, aperture])\n",
    "    \n",
    "    if(ground):\n",
    "        externalWalls = DIFF([externalWalls, mainBox])\n",
    "    else:\n",
    "        floor = DIFF([ground, stairFloor])\n",
    "    \n",
    "    # COLOR AND TEXTURE\n",
    "    grind = COLOR(GREY)(grind)\n",
    "    externalWalls = COLOR(GREY)(externalWalls)    \n",
    "    internalWalls = COLOR(GREEN)(internalWalls)\n",
    "    ground = COLOR(DARKBROWN)(ground)\n",
    "    balconyFloor = COLOR(GREYCYANO)(SOLIDIFY(balconyFloor))\n",
    "    \n",
    "    # FINAL STRUCTURE\n",
    "    struct = []\n",
    "    if(ground):\n",
    "        struct = STRUCT([ground, externalWalls, internalWalls, doors, windows, main, stairs01, stairs02])\n",
    "    else:\n",
    "        struct = STRUCT([ground , balconyFloor, externalWalls, internalWalls, grind, doors, windows])    \n",
    "    struct = S([1,2,3,])([0.1, 0.1, 0.1])(struct)\n",
    "    return struct\n"
   ]
  },
  {
   "cell_type": "code",
   "execution_count": 34,
   "metadata": {
    "collapsed": false
   },
   "outputs": [
    {
     "name": "stdout",
     "output_type": "stream",
     "text": [
      "Child 3\n",
      "Child 3\n",
      "Child 3\n",
      "Child 3\n",
      "Child 3\n",
      "Child 3\n",
      "Child 3\n",
      "Child 3\n",
      "Child 3\n",
      "Child 3\n",
      "Child 3\n",
      "Child 3\n",
      "Child 3\n",
      "Child 3\n",
      "Child 3\n",
      "Child 3\n",
      "Child 3\n",
      "Child 3\n",
      "Child 3\n",
      "Child 3\n",
      "Child 3\n",
      "4\n",
      "108.0\n",
      "tg: 0.37037037037\n"
     ]
    },
    {
     "data": {
      "text/plain": [
       "<pyplasm.xgepy.Hpc; proxy of <Swig Object of type 'std::shared_ptr< Hpc > *' at 0x000000000AC7C090> >"
      ]
     },
     "execution_count": 34,
     "metadata": {},
     "output_type": "execute_result"
    }
   ],
   "source": [
    "VIEW(Apartment(1))"
   ]
  },
  {
   "cell_type": "markdown",
   "metadata": {},
   "source": [
    "stairFloor = readFile(pathStairs)\n",
    "stairFloor = SOLIDIFY(stairFloor)\n",
    "\n",
    "stairs = readStairs(pathStairs, 5.9)\n",
    "stairs01 = T([1,2])([567, 819+5])(stairs)\n",
    "stairs02 = T([1,2])([567, 162+5])(stairs)\n",
    "struct = []\n",
    "struct.append(stairs01)\n",
    "struct.append(stairs02)\n",
    "struct.append(stairFloor)\n",
    "struct = STRUCT(struct)\n",
    "VIEW(struct)"
   ]
  },
  {
   "cell_type": "code",
   "execution_count": null,
   "metadata": {
    "collapsed": true
   },
   "outputs": [],
   "source": []
  }
 ],
 "metadata": {
  "kernelspec": {
   "display_name": "Python 2",
   "language": "python",
   "name": "python2"
  },
  "language_info": {
   "codemirror_mode": {
    "name": "ipython",
    "version": 2
   },
   "file_extension": ".py",
   "mimetype": "text/x-python",
   "name": "python",
   "nbconvert_exporter": "python",
   "pygments_lexer": "ipython2",
   "version": "2.7.12"
  }
 },
 "nbformat": 4,
 "nbformat_minor": 1
}
