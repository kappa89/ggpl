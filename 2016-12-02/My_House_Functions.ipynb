{
 "cells": [
  {
   "cell_type": "code",
   "execution_count": 4,
   "metadata": {
    "collapsed": false
   },
   "outputs": [],
   "source": [
    "from pyplasm import *\n",
    "import csv\n",
    "import random\n",
    "import time\n",
    "%run \"../2016-11-25/workshop_07.ipynb\"\n",
    "%run \"../2016-10-28/Workshop_03Variante.ipynb\"\n",
    "%run \"../tools.ipynb\""
   ]
  },
  {
   "cell_type": "code",
   "execution_count": null,
   "metadata": {
    "collapsed": true
   },
   "outputs": [],
   "source": [
    "# Texture\n",
    "pavimento = \"./texture/floor.jpg\"\n",
    "groundFloor = \"./texture/ground.jpg\""
   ]
  },
  {
   "cell_type": "code",
   "execution_count": 5,
   "metadata": {
    "collapsed": true
   },
   "outputs": [],
   "source": [
    "\"\"\"This function uses the constants above and creates an HPC object of an house\"\"\"\n",
    "\n",
    "def Apartment(flag):\n",
    "    # HPC\n",
    "    externalWalls = readFile(pathExternalWalls)\n",
    "    internalWalls = readFile(pathInternalWalls)\n",
    "    grind = readFile(pathGrindWalls)\n",
    "    aperture = readFile(pathAperture)\n",
    "    main = readFile(pathMainEntrance)\n",
    "    stairFloor = readFile(pathStairs2)\n",
    "    ground = readFile(pathFloor)\n",
    "    balconyFloor = readFile(pathBalconyFloor)\n",
    "    \n",
    "    # OFFSET\n",
    "    externalWalls = OFFSET([externalWallsThickness,externalWallsThickness])(externalWalls)\n",
    "    internalWalls = OFFSET([internalWallsThickness,internalWallsThickness])(internalWalls)\n",
    "    grind = OFFSET([grindWallsThickness,grindWallsThickness])(grind)\n",
    "    aperture = OFFSET([externalWallsThickness+1, externalWallsThickness+1])(aperture)\n",
    "    \n",
    "    # PROD\n",
    "    externalWalls = PROD([externalWalls, QUOTE([houseHeight])])\n",
    "    internalWalls = PROD([internalWalls, QUOTE([houseHeight])])\n",
    "    grind = PROD([grind, QUOTE([grindHeight])])\n",
    "    aperture = PROD([aperture, QUOTE([doorsHeight])])\n",
    "    \n",
    "    # BOX\n",
    "    windowBoxs = readWindowBox(pathWindows, wx, externalWallsThickness, wz, wb)\n",
    "    doorBoxs = readDoorBox(pathDoors, externalWallsThickness, doorsHeight)\n",
    "    mainBox = readMainDoorBox(pathMainEntrance, externalWallsThickness, doorsHeight)\n",
    "    \n",
    "    # OBJECT\n",
    "    windows = readWindows(pathWindows, wx, wy, wz, wb)\n",
    "    doors = readDoor(pathDoors, 1, doorsHeight)\n",
    "    stairFloor = SOLIDIFY(stairFloor)\n",
    "    ground = TEXTURE([groundFloor, TRUE, TRUE,10,10,0,1,1,0,0])(SOLIDIFY(ground))\n",
    "    main = readMainDoor(pathMainEntrance, 1, doorsHeight)\n",
    "    stairs = readStairs(pathStairs, 4)\n",
    "    stairs = scale(115.2, 58, 48, stairs) #108\n",
    "    stairs01 = T([1,2])([675-108, 819+5])(stairs)\n",
    "    stairs02 = T([1,2])([567, 162+5])(stairs)\n",
    "    \n",
    "    # DIFF\n",
    "    grind = DIFF([grind, externalWalls])\n",
    "    internalWalls = DIFF([internalWalls, externalWalls])  \n",
    "    internalWalls = DIFF([internalWalls, doorBoxs])\n",
    "    externalWalls = DIFF([externalWalls, windowBoxs])\n",
    "    externalWalls = DIFF([externalWalls, doorBoxs])\n",
    "    externalWalls = DIFF([externalWalls, aperture])\n",
    "    \n",
    "    if(flag):\n",
    "        externalWalls = DIFF([externalWalls, mainBox])\n",
    "    else:\n",
    "        ground = TEXTURE([pavimento, TRUE, TRUE,10,10,0,10,10,0,0])(DIFF([ground, stairFloor]))\n",
    "    \n",
    "    # COLOR AND TEXTURE\n",
    "    grind = COLOR(GREY)(grind)\n",
    "    externalWalls = COLOR(GREY)(externalWalls)    \n",
    "    internalWalls = COLOR(GREENLIGHT)(internalWalls)\n",
    "    ground = TEXTURE([groundFloor, TRUE, TRUE,10,10,0,10,10,0,0])(ground)#COLOR(DARKBROWN)(ground)\n",
    "    balconyFloor = COLOR(GREYCYANO)(SOLIDIFY(balconyFloor))\n",
    "    \n",
    "    # FINAL STRUCTURE\n",
    "    struct = []\n",
    "    if(flag):\n",
    "        struct = STRUCT([ground, externalWalls, internalWalls, doors, windows, main, stairs01, stairs02])\n",
    "    else:\n",
    "        struct = STRUCT([ground , balconyFloor, externalWalls, internalWalls, grind, doors, windows, stairs01, stairs02])    \n",
    "    \n",
    "    # SCALA DI UN DECIMO\n",
    "    struct = S([1,2,3])([0.1, 0.1, 0.1])(struct)\n",
    "    return struct\n"
   ]
  },
  {
   "cell_type": "code",
   "execution_count": null,
   "metadata": {
    "collapsed": true
   },
   "outputs": [],
   "source": []
  }
 ],
 "metadata": {
  "kernelspec": {
   "display_name": "Python 2",
   "language": "python",
   "name": "python2"
  },
  "language_info": {
   "codemirror_mode": {
    "name": "ipython",
    "version": 2
   },
   "file_extension": ".py",
   "mimetype": "text/x-python",
   "name": "python",
   "nbconvert_exporter": "python",
   "pygments_lexer": "ipython2",
   "version": "2.7.12"
  }
 },
 "nbformat": 4,
 "nbformat_minor": 1
}
