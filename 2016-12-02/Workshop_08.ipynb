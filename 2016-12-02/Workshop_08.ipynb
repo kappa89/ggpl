{
 "cells": [
  {
   "cell_type": "markdown",
   "metadata": {},
   "source": [
    "# <center> WillGraceApartment </center>\n",
    "\n",
    "![piantina](./img/piantinaGirata.png)\n",
    "![piantina](./img/Screenshot_1.png)\n",
    "![piantina](./img/Screenshot_2.png)\n",
    "![piantina](./img/Screenshot_3.png)\n",
    "![piantina](./img/Screenshot_4.png)\n",
    "![piantina](./img/Screenshot_5.png)\n",
    "![piantina](./img/Screenshot_6.png)\n",
    "![piantina](./img/Screenshot_7.png)"
   ]
  },
  {
   "cell_type": "code",
   "execution_count": 1,
   "metadata": {
    "collapsed": false
   },
   "outputs": [
    {
     "name": "stdout",
     "output_type": "stream",
     "text": [
      "Evaluating fenvs.py..\n",
      "...fenvs.py imported in 0.0182754627452 seconds\n"
     ]
    }
   ],
   "source": [
    "%run \"./My_House_Functions.ipynb\""
   ]
  },
  {
   "cell_type": "code",
   "execution_count": 2,
   "metadata": {
    "collapsed": false
   },
   "outputs": [],
   "source": [
    "\"\"\"constant var and path\"\"\"\n",
    "# Path\n",
    "pathExternalWalls = \"./lines/external.lines\"\n",
    "pathInternalWalls = \"./lines/internal.lines\"\n",
    "pathGrindWalls = \"./lines/grind.lines\"\n",
    "pathFloor = \"./lines/floor.lines\"\n",
    "pathStairs = \"./lines/stairs.lines\"\n",
    "pathStairs2 = \"./lines/stairs2.lines\"\n",
    "pathBalconyFloor = \"./lines/balconyFloor.lines\"\n",
    "pathDoors = \"./lines/doors2.lines\"\n",
    "pathMainEntrance = \"./lines/portoneIngresso.lines\"\n",
    "pathWindows = \"./lines/windows3.lines\"\n",
    "pathAperture = \"./lines/aperture.lines\"\n",
    "\n",
    "\n",
    "\n",
    "# Constant var\n",
    "externalWallsThickness = 5\n",
    "internalWallsThickness = 2\n",
    "grindWallsThickness = 1\n",
    "grindHeight = 10\n",
    "houseHeight = 40\n",
    "windowsHeight = 20\n",
    "windowsHeightFromFloor = 10\n",
    "doorsHeight = 25\n",
    "\n",
    "# Material Orange\n",
    "#ambientRGBA = [1,0,0,1]\n",
    "#diffuseRGBA = [0,1,0,1]\n",
    "#specularRGBA = [0,0,1,0]\n",
    "#emissionRGBA = [1,0,0,1]\n",
    "#shininess = 100\n",
    "\n",
    "wx = [0.6, 8.2, 0.6, 8.2, 0.6, 8.2, 0.6]\n",
    "wy = 0.3\n",
    "wz = [0.6, 4.25, 0.6, 4.25, 0.6, 4.25, 0.6, 4.25, 0.6]\n",
    "wb = [[1,1,1,1,1,1,1],[1,0,0,0,0,0,1],[1,1,1,1,1,1,1],[1,0,1,0,1,0,1],[1,1,1,1,1,1,1],[1,0,1,0,1,0,1],[1,1,1,1,1,1,1],[1,0,1,0,1,0,1],[1,1,1,1,1,1,1]]"
   ]
  },
  {
   "cell_type": "code",
   "execution_count": 4,
   "metadata": {
    "collapsed": false
   },
   "outputs": [
    {
     "name": "stdout",
     "output_type": "stream",
     "text": [
      "Child 3\n",
      "Child 3\n",
      "Child 3\n",
      "Child 3\n",
      "Child 3\n",
      "Child 3\n",
      "Child 3\n",
      "Child 3\n",
      "Child 3\n",
      "Child 3\n",
      "Child 3\n",
      "Child 3\n",
      "Child 3\n",
      "Child 3\n",
      "Child 3\n",
      "Child 3\n",
      "Child 3\n",
      "Child 3\n",
      "Child 3\n",
      "Child 3\n",
      "Child 3\n"
     ]
    },
    {
     "data": {
      "text/plain": [
       "<pyplasm.xgepy.Hpc; proxy of <Swig Object of type 'std::shared_ptr< Hpc > *' at 0x000000000B5A5C00> >"
      ]
     },
     "execution_count": 4,
     "metadata": {},
     "output_type": "execute_result"
    }
   ],
   "source": [
    "VIEW(Apartment(1))"
   ]
  },
  {
   "cell_type": "code",
   "execution_count": null,
   "metadata": {
    "collapsed": true
   },
   "outputs": [],
   "source": []
  }
 ],
 "metadata": {
  "kernelspec": {
   "display_name": "Python 2",
   "language": "python",
   "name": "python2"
  },
  "language_info": {
   "codemirror_mode": {
    "name": "ipython",
    "version": 2
   },
   "file_extension": ".py",
   "mimetype": "text/x-python",
   "name": "python",
   "nbconvert_exporter": "python",
   "pygments_lexer": "ipython2",
   "version": "2.7.12"
  }
 },
 "nbformat": 4,
 "nbformat_minor": 1
}
