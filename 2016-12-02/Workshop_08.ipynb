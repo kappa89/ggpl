{
 "cells": [
  {
   "cell_type": "markdown",
   "metadata": {},
   "source": [
    "# <center>Luxury apartment </center>\n",
    "\n",
    "Ho riscontrato vari problemi con la webapp per la strasformazione da SVG a Lines.\n",
    "Penso che il problema nasca da Illustrator ma non riesco a trovare il motivo scatenante (il programma suggerito Inkscape mi forniva un risultato estreamemente scadente).\n",
    "In particolar modo il file delle porte non viene visualizzato mentre le finestre  causano un crash del programma.\n",
    "Il file dei muri esterni risulta un arrey decisamente troppo lungo e i muri vengono in più punti \"tondi\" mentre i muri interni risultano tutti disallineati.\n",
    "\n",
    "![\"Planimetria\"](img/luxuryApartments.jpg)\n",
    "![\"vista_area\"](img/vistaAerea.png)\n",
    "![\"vista_laterale.png\"](img/vistaLaterale.png)\n"
   ]
  },
  {
   "cell_type": "code",
   "execution_count": 1,
   "metadata": {
    "collapsed": false
   },
   "outputs": [
    {
     "name": "stdout",
     "output_type": "stream",
     "text": [
      "Evaluating fenvs.py..\n",
      "...fenvs.py imported in 0.00460127321299 seconds\n"
     ]
    }
   ],
   "source": [
    "from pyplasm import *\n",
    "import csv"
   ]
  },
  {
   "cell_type": "code",
   "execution_count": 2,
   "metadata": {
    "collapsed": true
   },
   "outputs": [],
   "source": [
    "\"\"\" intRGBColor Web copied function to create colors from RGB\n",
    "@param values: array of RGB values\n",
    "@return: the color\n",
    "\"\"\"\n",
    "def intRGBColor(values):\n",
    "        return Color4f([ values[0]/255.0,\n",
    "                         values[1]/255.0,\n",
    "                         values[2]/255.0,\n",
    "                         1.0])\n",
    "    \n",
    "SILVER = intRGBColor([192,192,192])\n",
    "WOOD = intRGBColor([130, 82, 1])"
   ]
  },
  {
   "cell_type": "code",
   "execution_count": 3,
   "metadata": {
    "collapsed": true
   },
   "outputs": [],
   "source": [
    "\"\"\"Function to read external file\"\"\"\n",
    "def readFile(file_name):\n",
    "    points = []\n",
    "    i = 0\n",
    "    indexes = []\n",
    "    with open(file_name, 'rb') as csvfile:\n",
    "        buildReader = csv.reader(csvfile)\n",
    "        for row in buildReader:\n",
    "            points.append([float(row[0]), float(row[1])])\n",
    "            points.append([float(row[2]), float(row[3])])\n",
    "            i += 2\n",
    "            indexes.append([i-1, i])\n",
    "    return S([1])([-1])(MKPOL([points, indexes, None]))"
   ]
  },
  {
   "cell_type": "code",
   "execution_count": 4,
   "metadata": {
    "collapsed": true
   },
   "outputs": [],
   "source": [
    "\"\"\"constant variable\"\"\"\n",
    "\n",
    "#Path\n",
    "pathExtWalls = \".\\lines\\esterno.lines\"\n",
    "pathIntWalls = \".\\lines\\interno.lines\"\n",
    "pathDoors = \".\\lines\\porte.lines\"\n",
    "pathWindows = \".\\lines\\esterno1.lines\"\n",
    "\n",
    "#var\n",
    "extWallsThickness = 5\n",
    "intWallsThickness = 2\n",
    "houseHeight = 40\n",
    "windowsHeight = 10\n",
    "windowsHeightFromFloor = 15\n",
    "doorsHeight = 25"
   ]
  },
  {
   "cell_type": "code",
   "execution_count": 5,
   "metadata": {
    "collapsed": false
   },
   "outputs": [],
   "source": [
    "\"\"\"create the final structure\"\"\"\n",
    "\n",
    "def LuxuryApartment():\n",
    "    # External Walls\n",
    "    extWallsHPC = readFile(pathExtWalls)\n",
    "    extWallsThick = OFFSET([extWallsThickness,extWallsThickness])(extWallsHPC)\n",
    "    extWallsTall = PROD([extWallsThick, QUOTE([houseHeight])])\n",
    "    \n",
    "    # Internal Walls\n",
    "    internalWallsHPC = readFile(pathIntWalls)\n",
    "    internalWallsThick = OFFSET([intWallsThickness,intWallsThickness])(internalWallsHPC)\n",
    "    internalWallDiffered = DIFF([internalWallsThick, extWallsThick])\n",
    "    internalWallsTall = PROD([internalWallDiffered, QUOTE([houseHeight])])\n",
    "    \n",
    "    # Windows\n",
    "    windowsHPC = readFile(pathWindows)\n",
    "    windowsThick = OFFSET([extWallsThickness, extWallsThickness])(windowsHPC)\n",
    "    windowsTall = PROD([windowsThick, QUOTE([windowsHeight])])\n",
    "    windowsFromFloor = STRUCT([T(3)(windowsHeightFromFloor), windowsTall])\n",
    "    \n",
    "    extWallsWindows = DIFF([extWallsTall, windowsFromFloor])\n",
    "    \n",
    "    #Doors\n",
    "    doorsHPC = readFile(pathDoors)\n",
    "    \n",
    "    #Doors External\n",
    "    doorsExtThick = OFFSET([extWallsThickness+1, extWallsThickness+1])(doorsHPC)\n",
    "    doorsExternalTall = PROD([doorsExtThick, QUOTE([doorsHeight])])\n",
    "    \n",
    "    extWallsWindowsDoors = DIFF([extWallsWindows, doorsExternalTall])\n",
    "    extWallsWindowsDoorsColored = COLOR(RED)(extWallsWindowsDoors)\n",
    "    \n",
    "    #Doors Internal\n",
    "    doorsIntThick = OFFSET([intWallsThickness+1, intWallsThickness+1])(doorsHPC)\n",
    "    doorsIntTall = PROD([doorsIntThick, QUOTE([doorsHeight])])\n",
    "    \n",
    "    intWallsDoors = DIFF([internalWallsTall, doorsIntTall])\n",
    "    intWallsDoorsColored = COLOR(BLUE)(intWallsDoors)\n",
    "    \n",
    "    floor = COLOR(BROWN)(SOLIDIFY(extWallsHPC))\n",
    "    \n",
    "    walls = STRUCT([floor, extWallsWindowsDoorsColored, intWallsDoorsColored])\n",
    "        \n",
    "    return walls"
   ]
  },
  {
   "cell_type": "code",
   "execution_count": 6,
   "metadata": {
    "collapsed": false,
    "scrolled": true
   },
   "outputs": [
    {
     "data": {
      "text/plain": [
       "<pyplasm.xgepy.Hpc; proxy of <Swig Object of type 'std::shared_ptr< Hpc > *' at 0x000000000AC957E0> >"
      ]
     },
     "execution_count": 6,
     "metadata": {},
     "output_type": "execute_result"
    }
   ],
   "source": [
    "VIEW(LuxuryApartment())"
   ]
  }
 ],
 "metadata": {
  "kernelspec": {
   "display_name": "Python 2",
   "language": "python",
   "name": "python2"
  },
  "language_info": {
   "codemirror_mode": {
    "name": "ipython",
    "version": 2
   },
   "file_extension": ".py",
   "mimetype": "text/x-python",
   "name": "python",
   "nbconvert_exporter": "python",
   "pygments_lexer": "ipython2",
   "version": "2.7.12"
  }
 },
 "nbformat": 4,
 "nbformat_minor": 1
}
